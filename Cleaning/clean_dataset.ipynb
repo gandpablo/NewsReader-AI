{
 "cells": [
  {
   "cell_type": "code",
   "execution_count": 1,
   "metadata": {},
   "outputs": [
    {
     "data": {
      "text/html": [
       "<div>\n",
       "<style scoped>\n",
       "    .dataframe tbody tr th:only-of-type {\n",
       "        vertical-align: middle;\n",
       "    }\n",
       "\n",
       "    .dataframe tbody tr th {\n",
       "        vertical-align: top;\n",
       "    }\n",
       "\n",
       "    .dataframe thead th {\n",
       "        text-align: right;\n",
       "    }\n",
       "</style>\n",
       "<table border=\"1\" class=\"dataframe\">\n",
       "  <thead>\n",
       "    <tr style=\"text-align: right;\">\n",
       "      <th></th>\n",
       "      <th>url</th>\n",
       "      <th>topic</th>\n",
       "      <th>date</th>\n",
       "      <th>title</th>\n",
       "      <th>site</th>\n",
       "      <th>bias</th>\n",
       "      <th>page_text</th>\n",
       "    </tr>\n",
       "  </thead>\n",
       "  <tbody>\n",
       "    <tr>\n",
       "      <th>0</th>\n",
       "      <td>https://www.npr.org/2021/01/01/952336030/what-...</td>\n",
       "      <td>general-news</td>\n",
       "      <td>2021-01-01</td>\n",
       "      <td>What Got Us Through 2020? For Many, It Was Hob...</td>\n",
       "      <td>NPR (Online News)</td>\n",
       "      <td>leaning-left</td>\n",
       "      <td>What Got Us Through 2020? For Many, It Was Hob...</td>\n",
       "    </tr>\n",
       "    <tr>\n",
       "      <th>1</th>\n",
       "      <td>https://www.washingtonpost.com/opinions/2020/1...</td>\n",
       "      <td>general-news</td>\n",
       "      <td>2021-01-01</td>\n",
       "      <td>Goodbye, 2020. You were awful, but some lights...</td>\n",
       "      <td>Guest Writer - Right</td>\n",
       "      <td>leaning-right</td>\n",
       "      <td>NaN</td>\n",
       "    </tr>\n",
       "    <tr>\n",
       "      <th>2</th>\n",
       "      <td>https://www.cbsnews.com/news/new-years-eve-gat...</td>\n",
       "      <td>general-news</td>\n",
       "      <td>2020-12-31</td>\n",
       "      <td>New Year's Eve gatherings could accelerate COV...</td>\n",
       "      <td>CBS News (Online)</td>\n",
       "      <td>leaning-left</td>\n",
       "      <td>New Year's Eve gatherings could accelerate COV...</td>\n",
       "    </tr>\n",
       "    <tr>\n",
       "      <th>3</th>\n",
       "      <td>https://www.ibtimes.com/nye-traditions-you-can...</td>\n",
       "      <td>general-news</td>\n",
       "      <td>2020-12-31</td>\n",
       "      <td>NYE Traditions That You Can Still Participate ...</td>\n",
       "      <td>International Business Times</td>\n",
       "      <td>center</td>\n",
       "      <td>NaN</td>\n",
       "    </tr>\n",
       "    <tr>\n",
       "      <th>4</th>\n",
       "      <td>https://nypost.com/2020/12/31/heres-how-countr...</td>\n",
       "      <td>general-news</td>\n",
       "      <td>2020-12-31</td>\n",
       "      <td>Here’s how countries around the world are ring...</td>\n",
       "      <td>New York Post (News)</td>\n",
       "      <td>leaning-right</td>\n",
       "      <td>Here’s how countries around the world are ring...</td>\n",
       "    </tr>\n",
       "  </tbody>\n",
       "</table>\n",
       "</div>"
      ],
      "text/plain": [
       "                                                 url         topic  \\\n",
       "0  https://www.npr.org/2021/01/01/952336030/what-...  general-news   \n",
       "1  https://www.washingtonpost.com/opinions/2020/1...  general-news   \n",
       "2  https://www.cbsnews.com/news/new-years-eve-gat...  general-news   \n",
       "3  https://www.ibtimes.com/nye-traditions-you-can...  general-news   \n",
       "4  https://nypost.com/2020/12/31/heres-how-countr...  general-news   \n",
       "\n",
       "         date                                              title  \\\n",
       "0  2021-01-01  What Got Us Through 2020? For Many, It Was Hob...   \n",
       "1  2021-01-01  Goodbye, 2020. You were awful, but some lights...   \n",
       "2  2020-12-31  New Year's Eve gatherings could accelerate COV...   \n",
       "3  2020-12-31  NYE Traditions That You Can Still Participate ...   \n",
       "4  2020-12-31  Here’s how countries around the world are ring...   \n",
       "\n",
       "                           site           bias  \\\n",
       "0             NPR (Online News)   leaning-left   \n",
       "1          Guest Writer - Right  leaning-right   \n",
       "2             CBS News (Online)   leaning-left   \n",
       "3  International Business Times         center   \n",
       "4          New York Post (News)  leaning-right   \n",
       "\n",
       "                                           page_text  \n",
       "0  What Got Us Through 2020? For Many, It Was Hob...  \n",
       "1                                                NaN  \n",
       "2  New Year's Eve gatherings could accelerate COV...  \n",
       "3                                                NaN  \n",
       "4  Here’s how countries around the world are ring...  "
      ]
     },
     "execution_count": 1,
     "metadata": {},
     "output_type": "execute_result"
    }
   ],
   "source": [
    "import pandas as pd\n",
    "\n",
    "df = pd.read_csv('/Users/pablogandia/Desktop/ASIGNATURAS/IA SAMSUNG/Proyecto/Bias/Data/allsides_links_trafilatura.csv')\n",
    "df.head()"
   ]
  },
  {
   "cell_type": "code",
   "execution_count": 2,
   "metadata": {},
   "outputs": [
    {
     "data": {
      "text/plain": [
       "url          0.00000\n",
       "topic        0.00000\n",
       "date         0.00000\n",
       "title        0.00000\n",
       "site         0.00000\n",
       "bias         0.00000\n",
       "page_text    0.50405\n",
       "dtype: float64"
      ]
     },
     "execution_count": 2,
     "metadata": {},
     "output_type": "execute_result"
    }
   ],
   "source": [
    "df.isnull().sum() / len(df)"
   ]
  },
  {
   "cell_type": "code",
   "execution_count": 3,
   "metadata": {},
   "outputs": [
    {
     "data": {
      "text/plain": [
       "bias\n",
       "leaning-left     6006\n",
       "center           5625\n",
       "right            4297\n",
       "leaning-right    3922\n",
       "left             2372\n",
       "Name: count, dtype: int64"
      ]
     },
     "execution_count": 3,
     "metadata": {},
     "output_type": "execute_result"
    }
   ],
   "source": [
    "df['bias'].value_counts()"
   ]
  },
  {
   "cell_type": "code",
   "execution_count": 4,
   "metadata": {},
   "outputs": [
    {
     "data": {
      "text/plain": [
       "bias\n",
       "center           4121\n",
       "leaning-left     3046\n",
       "leaning-right    2414\n",
       "right            1201\n",
       "left              419\n",
       "Name: count, dtype: int64"
      ]
     },
     "execution_count": 4,
     "metadata": {},
     "output_type": "execute_result"
    }
   ],
   "source": [
    "df[df['page_text'].isnull()]['bias'].value_counts()"
   ]
  },
  {
   "cell_type": "code",
   "execution_count": 5,
   "metadata": {},
   "outputs": [
    {
     "data": {
      "text/plain": [
       "bias\n",
       "right            3096\n",
       "leaning-left     2960\n",
       "left             1953\n",
       "leaning-right    1508\n",
       "center           1504\n",
       "Name: count, dtype: int64"
      ]
     },
     "execution_count": 5,
     "metadata": {},
     "output_type": "execute_result"
    }
   ],
   "source": [
    "df = df.dropna()\n",
    "df['bias'].value_counts()\n"
   ]
  },
  {
   "cell_type": "code",
   "execution_count": 6,
   "metadata": {},
   "outputs": [],
   "source": [
    "df = df.drop_duplicates(subset=['page_text'])"
   ]
  },
  {
   "cell_type": "code",
   "execution_count": 7,
   "metadata": {},
   "outputs": [],
   "source": [
    "df_short = df[df['page_text'].str.len() < 200]"
   ]
  },
  {
   "cell_type": "code",
   "execution_count": 8,
   "metadata": {},
   "outputs": [
    {
     "name": "stdout",
     "output_type": "stream",
     "text": [
      "Townhall\n",
      "Members Only\n",
      "Trending on Townhall Media\n",
      "Advertisement\n",
      "Advertisement\n",
      "Advertisement\n",
      "Advertisement\n",
      "Advertisement\n",
      "Advertisement\n"
     ]
    }
   ],
   "source": [
    "a = df_short['page_text'].values[5]\n",
    "print(a)"
   ]
  },
  {
   "cell_type": "code",
   "execution_count": 9,
   "metadata": {},
   "outputs": [
    {
     "data": {
      "text/plain": [
       "site\n",
       "ZeroHedge                       1\n",
       "Guest Writer - Right            1\n",
       "Atlanta Journal-Constitution    1\n",
       "CNN Digital                     1\n",
       "Fox News Digital                1\n",
       "Townhall                        1\n",
       "National Journal                1\n",
       "The Daily Wire                  1\n",
       "Name: count, dtype: int64"
      ]
     },
     "execution_count": 9,
     "metadata": {},
     "output_type": "execute_result"
    }
   ],
   "source": [
    "df_short.site.value_counts()"
   ]
  },
  {
   "cell_type": "code",
   "execution_count": 11,
   "metadata": {},
   "outputs": [
    {
     "name": "stdout",
     "output_type": "stream",
     "text": [
      "Knesset passes law aimed at silencing Al Jazeera, White House 'concerned'\n",
      "Netanyahu, who is recovering from surgery, said he will act immediately to close Al Jazeera according to the procedure laid out in the law.\n",
      "Palestinian journalists are seen through a glass window at the offices of the Arabic news channel Al-Jazeera in the West Bank city of Ramallah July 15, 2009.Updated:\n"
     ]
    },
    {
     "ename": "KeyboardInterrupt",
     "evalue": "Interrupted by user",
     "output_type": "error",
     "traceback": [
      "\u001b[0;31m---------------------------------------------------------------------------\u001b[0m",
      "\u001b[0;31mKeyboardInterrupt\u001b[0m                         Traceback (most recent call last)",
      "\u001b[1;32m/Users/pablogandia/Desktop/ASIGNATURAS/IA SAMSUNG/Proyecto/Bias/General/clean_dataset.ipynb Celda 10\u001b[0m line \u001b[0;36m9\n\u001b[1;32m      <a href='vscode-notebook-cell:/Users/pablogandia/Desktop/ASIGNATURAS/IA%20SAMSUNG/Proyecto/Bias/General/clean_dataset.ipynb#X13sZmlsZQ%3D%3D?line=5'>6</a>\u001b[0m clear_output(wait\u001b[39m=\u001b[39m\u001b[39mTrue\u001b[39;00m)\n\u001b[1;32m      <a href='vscode-notebook-cell:/Users/pablogandia/Desktop/ASIGNATURAS/IA%20SAMSUNG/Proyecto/Bias/General/clean_dataset.ipynb#X13sZmlsZQ%3D%3D?line=7'>8</a>\u001b[0m \u001b[39mprint\u001b[39m(i)\n\u001b[0;32m----> <a href='vscode-notebook-cell:/Users/pablogandia/Desktop/ASIGNATURAS/IA%20SAMSUNG/Proyecto/Bias/General/clean_dataset.ipynb#X13sZmlsZQ%3D%3D?line=8'>9</a>\u001b[0m \u001b[39minput\u001b[39m()\n",
      "File \u001b[0;32m/opt/anaconda3/lib/python3.12/site-packages/ipykernel/kernelbase.py:1262\u001b[0m, in \u001b[0;36mKernel.raw_input\u001b[0;34m(self, prompt)\u001b[0m\n\u001b[1;32m   1260\u001b[0m     msg \u001b[39m=\u001b[39m \u001b[39m\"\u001b[39m\u001b[39mraw_input was called, but this frontend does not support input requests.\u001b[39m\u001b[39m\"\u001b[39m\n\u001b[1;32m   1261\u001b[0m     \u001b[39mraise\u001b[39;00m StdinNotImplementedError(msg)\n\u001b[0;32m-> 1262\u001b[0m \u001b[39mreturn\u001b[39;00m \u001b[39mself\u001b[39m\u001b[39m.\u001b[39m_input_request(\n\u001b[1;32m   1263\u001b[0m     \u001b[39mstr\u001b[39m(prompt),\n\u001b[1;32m   1264\u001b[0m     \u001b[39mself\u001b[39m\u001b[39m.\u001b[39m_parent_ident[\u001b[39m\"\u001b[39m\u001b[39mshell\u001b[39m\u001b[39m\"\u001b[39m],\n\u001b[1;32m   1265\u001b[0m     \u001b[39mself\u001b[39m\u001b[39m.\u001b[39mget_parent(\u001b[39m\"\u001b[39m\u001b[39mshell\u001b[39m\u001b[39m\"\u001b[39m),\n\u001b[1;32m   1266\u001b[0m     password\u001b[39m=\u001b[39m\u001b[39mFalse\u001b[39;00m,\n\u001b[1;32m   1267\u001b[0m )\n",
      "File \u001b[0;32m/opt/anaconda3/lib/python3.12/site-packages/ipykernel/kernelbase.py:1305\u001b[0m, in \u001b[0;36mKernel._input_request\u001b[0;34m(self, prompt, ident, parent, password)\u001b[0m\n\u001b[1;32m   1302\u001b[0m \u001b[39mexcept\u001b[39;00m \u001b[39mKeyboardInterrupt\u001b[39;00m:\n\u001b[1;32m   1303\u001b[0m     \u001b[39m# re-raise KeyboardInterrupt, to truncate traceback\u001b[39;00m\n\u001b[1;32m   1304\u001b[0m     msg \u001b[39m=\u001b[39m \u001b[39m\"\u001b[39m\u001b[39mInterrupted by user\u001b[39m\u001b[39m\"\u001b[39m\n\u001b[0;32m-> 1305\u001b[0m     \u001b[39mraise\u001b[39;00m \u001b[39mKeyboardInterrupt\u001b[39;00m(msg) \u001b[39mfrom\u001b[39;00m \u001b[39mNone\u001b[39;00m\n\u001b[1;32m   1306\u001b[0m \u001b[39mexcept\u001b[39;00m \u001b[39mException\u001b[39;00m:\n\u001b[1;32m   1307\u001b[0m     \u001b[39mself\u001b[39m\u001b[39m.\u001b[39mlog\u001b[39m.\u001b[39mwarning(\u001b[39m\"\u001b[39m\u001b[39mInvalid Message:\u001b[39m\u001b[39m\"\u001b[39m, exc_info\u001b[39m=\u001b[39m\u001b[39mTrue\u001b[39;00m)\n",
      "\u001b[0;31mKeyboardInterrupt\u001b[0m: Interrupted by user"
     ]
    }
   ],
   "source": [
    "from IPython.display import clear_output\n",
    "\n",
    "\n",
    "vals = df[df['site']=='The Jerusalem Post']['page_text'].values\n",
    "for i in vals:\n",
    "    clear_output(wait=True)\n",
    "\n",
    "    print(i)\n",
    "    input()"
   ]
  },
  {
   "cell_type": "code",
   "execution_count": 12,
   "metadata": {},
   "outputs": [],
   "source": [
    "df = df[df['page_text'].str.len() > 300]"
   ]
  },
  {
   "cell_type": "code",
   "execution_count": 13,
   "metadata": {},
   "outputs": [
    {
     "data": {
      "text/plain": [
       "10905"
      ]
     },
     "execution_count": 13,
     "metadata": {},
     "output_type": "execute_result"
    }
   ],
   "source": [
    "len(df)"
   ]
  },
  {
   "cell_type": "code",
   "execution_count": 14,
   "metadata": {},
   "outputs": [
    {
     "data": {
      "text/plain": [
       "bias\n",
       "right            3059\n",
       "leaning-left     2951\n",
       "left             1930\n",
       "leaning-right    1487\n",
       "center           1478\n",
       "Name: count, dtype: int64"
      ]
     },
     "execution_count": 14,
     "metadata": {},
     "output_type": "execute_result"
    }
   ],
   "source": [
    "df['bias'].value_counts()"
   ]
  },
  {
   "cell_type": "code",
   "execution_count": 15,
   "metadata": {},
   "outputs": [
    {
     "data": {
      "text/html": [
       "<div>\n",
       "<style scoped>\n",
       "    .dataframe tbody tr th:only-of-type {\n",
       "        vertical-align: middle;\n",
       "    }\n",
       "\n",
       "    .dataframe tbody tr th {\n",
       "        vertical-align: top;\n",
       "    }\n",
       "\n",
       "    .dataframe thead th {\n",
       "        text-align: right;\n",
       "    }\n",
       "</style>\n",
       "<table border=\"1\" class=\"dataframe\">\n",
       "  <thead>\n",
       "    <tr style=\"text-align: right;\">\n",
       "      <th></th>\n",
       "      <th>url</th>\n",
       "      <th>topic</th>\n",
       "      <th>date</th>\n",
       "      <th>title</th>\n",
       "      <th>site</th>\n",
       "      <th>bias</th>\n",
       "      <th>page_text</th>\n",
       "    </tr>\n",
       "  </thead>\n",
       "  <tbody>\n",
       "    <tr>\n",
       "      <th>0</th>\n",
       "      <td>https://www.theblaze.com/news/fox-news-debunks...</td>\n",
       "      <td>elections</td>\n",
       "      <td>2020-12-21</td>\n",
       "      <td>Fox News runs segment debunking voting machine...</td>\n",
       "      <td>Blaze Media</td>\n",
       "      <td>right</td>\n",
       "      <td>\") center no-repeat;}@media (min-width: 768px)...</td>\n",
       "    </tr>\n",
       "    <tr>\n",
       "      <th>1</th>\n",
       "      <td>https://www.theblaze.com/news/pence-to-receive...</td>\n",
       "      <td>coronavirus</td>\n",
       "      <td>2020-12-16</td>\n",
       "      <td>Pence to receive COVID-19 vaccine 'publicly' o...</td>\n",
       "      <td>Blaze Media</td>\n",
       "      <td>right</td>\n",
       "      <td>\") center no-repeat;}@media (min-width: 768px)...</td>\n",
       "    </tr>\n",
       "    <tr>\n",
       "      <th>2</th>\n",
       "      <td>https://www.theblaze.com/news/mitt-romney-conf...</td>\n",
       "      <td>supreme-court</td>\n",
       "      <td>2020-09-22</td>\n",
       "      <td>Mitt Romney indicates that he would vote to co...</td>\n",
       "      <td>Blaze Media</td>\n",
       "      <td>right</td>\n",
       "      <td>\") center no-repeat;}@media (min-width: 768px)...</td>\n",
       "    </tr>\n",
       "    <tr>\n",
       "      <th>3</th>\n",
       "      <td>https://www.theblaze.com/op-ed/horowitz-trump-...</td>\n",
       "      <td>elections</td>\n",
       "      <td>2020-09-09</td>\n",
       "      <td>Horowitz: New polls show Trump gaining with Hi...</td>\n",
       "      <td>Blaze Media</td>\n",
       "      <td>right</td>\n",
       "      <td>\") center no-repeat;}@media (min-width: 768px)...</td>\n",
       "    </tr>\n",
       "    <tr>\n",
       "      <th>4</th>\n",
       "      <td>https://www.theblaze.com/news/frightening-imag...</td>\n",
       "      <td>general-news</td>\n",
       "      <td>2020-08-27</td>\n",
       "      <td>Frightening images emerge on social media of H...</td>\n",
       "      <td>Blaze Media</td>\n",
       "      <td>right</td>\n",
       "      <td>\") center no-repeat;}@media (min-width: 768px)...</td>\n",
       "    </tr>\n",
       "  </tbody>\n",
       "</table>\n",
       "</div>"
      ],
      "text/plain": [
       "                                                 url          topic  \\\n",
       "0  https://www.theblaze.com/news/fox-news-debunks...      elections   \n",
       "1  https://www.theblaze.com/news/pence-to-receive...    coronavirus   \n",
       "2  https://www.theblaze.com/news/mitt-romney-conf...  supreme-court   \n",
       "3  https://www.theblaze.com/op-ed/horowitz-trump-...      elections   \n",
       "4  https://www.theblaze.com/news/frightening-imag...   general-news   \n",
       "\n",
       "         date                                              title         site  \\\n",
       "0  2020-12-21  Fox News runs segment debunking voting machine...  Blaze Media   \n",
       "1  2020-12-16  Pence to receive COVID-19 vaccine 'publicly' o...  Blaze Media   \n",
       "2  2020-09-22  Mitt Romney indicates that he would vote to co...  Blaze Media   \n",
       "3  2020-09-09  Horowitz: New polls show Trump gaining with Hi...  Blaze Media   \n",
       "4  2020-08-27  Frightening images emerge on social media of H...  Blaze Media   \n",
       "\n",
       "    bias                                          page_text  \n",
       "0  right  \") center no-repeat;}@media (min-width: 768px)...  \n",
       "1  right  \") center no-repeat;}@media (min-width: 768px)...  \n",
       "2  right  \") center no-repeat;}@media (min-width: 768px)...  \n",
       "3  right  \") center no-repeat;}@media (min-width: 768px)...  \n",
       "4  right  \") center no-repeat;}@media (min-width: 768px)...  "
      ]
     },
     "execution_count": 15,
     "metadata": {},
     "output_type": "execute_result"
    }
   ],
   "source": [
    "errores_titulo = df[df['page_text'].str.contains(\n",
    "    r\"enable js|403\", \n",
    "    case=False, na=False)].reset_index(drop=True)\n",
    "\n",
    "errores_titulo.head()"
   ]
  },
  {
   "cell_type": "code",
   "execution_count": 16,
   "metadata": {},
   "outputs": [
    {
     "data": {
      "text/plain": [
       "site\n",
       "Blaze Media         73\n",
       "Daily Mail           1\n",
       "Breitbart News       1\n",
       "USA TODAY            1\n",
       "CNN Business         1\n",
       "TechCrunch           1\n",
       "Fox News Digital     1\n",
       "Name: count, dtype: int64"
      ]
     },
     "execution_count": 16,
     "metadata": {},
     "output_type": "execute_result"
    }
   ],
   "source": [
    "errores_titulo['site'].value_counts()"
   ]
  },
  {
   "cell_type": "code",
   "execution_count": 17,
   "metadata": {},
   "outputs": [
    {
     "data": {
      "text/plain": [
       "73"
      ]
     },
     "execution_count": 17,
     "metadata": {},
     "output_type": "execute_result"
    }
   ],
   "source": [
    "len(df[df['site']=='Blaze Media'])"
   ]
  },
  {
   "cell_type": "code",
   "execution_count": 18,
   "metadata": {},
   "outputs": [
    {
     "name": "stdout",
     "output_type": "stream",
     "text": [
      "\") center no-repeat;}@media (min-width: 768px){.btn.button-load-more{font-size:17px;max-width:500px;}}@media (min-width: 1780px){.btn.button-load-more{margin:60px auto;}}.posts-custom .posts-wrapper{font-size:inherit;line-height:1;display:grid;grid-row-gap:var(--vertical-spacing-between-module-items);grid-column-gap:var(--horizontal-spacing-between-module-items);}.widget .widget__head .rm-lazyloadable-image{-webkit-filter:grayscale();filter:grayscale();mix-blend-mode:multiply;opacity:.9;transition:all .4s ease-in;}.widget:hover .widget__head .rm-lazyloadable-image{filter:grayscale(0);opacity:1;}.widget .widget__body{align-items:center;column-gap:24px;display:flex;flex-wrap:wrap;padding:24px 12px;margin:0;row-gap:12px;}.widget .widget__headline{cursor:auto;width:100%;}.widget .widget__subheadline{width:100%;}.widget:hover .widget__headline a{color:var(--primary-accent-color);}.widget .widget__section, .post-tags-primary-link{text-transform:uppercase;border-bottom:2px solid var(--primary-color);}.widget .social-author__avatar{display:none;height:30px;width:30px;margin-right:10px;}.widget .social-author, .widget .social-date{display:inline-flex;align-items:center;margin:0;}.widget .social-author{flex-wrap:wrap;}.all-stories .widget .social-author__name:not(:first-of-type):before{color:var(--primary-accent-color);content:\" & \";white-space:pre;}.widget .widget__body > .social-author, .widget .widget .social-date{width:auto;margin:0;}.widget .share-tab-img:hover .social-tab-buttons{display:none;}.photo-credit, .photo-caption{margin:0;padding:0;display:inline;font-size:14px;}.photo-caption:after{content:\" \";}.photo-credit{font-size:12px;}.widget.is-exclusive .widget__headline-text:before{color:var(--primary-accent-color);}.widget .custom-field-breaking + .widget__headline .widget__headline-text:before{content:\"Breaking | \";color:var(--primary-accent-color);display:inline-block;}.with-logo .social-date{flex-grow:1;}.with-logo .widget__section{display:none;font-size:0;}.with-logo .widget__section[href*=\"/fearless/\"], .with-logo .widget__section[href*=\"/align/\"], .with-logo .widget__section[href*=\"/return/\"], .with-logo .widget__section[href*=\"/abide/\"], .with-logo .widget__section[href*=\"/frontier/\"]{display:flex;justify-content:flex-end;}.with-logo .widget__section[href*=\"/fearless/\"]:after, .with-logo .widget__section[href*=\"/align/\"]:after, .with-logo .widget__section[href*=\"/return/\"]:after, .with-logo .widget__section[href*=\"/abide/\"]:after, .with-logo .widget__section[href*=\"/frontier/\"]:after{background-size:contain;background-position:center;background-repeat:no-repeat;content:\"\";display:block;}.with-logo.all-stories .widget__section:after{background-image:url(\"data:image/svg+xml,%3Csvg%20xmlns='http://www.w3.org/2000/svg'%20width='369'%20height='131'%20viewBox='0%200%20369%20131'%20fill='none'%3E%3Cmask%20id='mask0_431_12242'%20style='mask-type:luminance'%20maskUnits='userSpaceOnUse'%20x='0'%20y='0'%20width='131'%20height='131'%3E%3Cpath%20fill-rule='evenodd'%20clip-rule='evenodd'%20d='M0%200H130.31V130.309H0V0Z'%20fill='white'/%3E%3C/mask%3E%3Cg%20mask='url(%23mask0_431_12242)'%3E%3Cpath%20fill-rule='evenodd'%20clip-rule='evenodd'%20d='M117.915%2087.4405C115.031%2094.2585%20110.902%20100.383%20105.643%20105.643C100.383%20110.902%2094.2585%20115.032%2087.4405%20117.915C80.3845%20120.9%2072.8865%20122.413%2065.1545%20122.413C57.4225%20122.413%2049.9245%20120.9%2042.8675%20117.915C36.0505%20115.032%2029.9265%20110.902%2024.6665%20105.643C19.4065%20100.383%2015.2775%2094.2585%2012.3935%2087.4405C9.40951%2080.3835%207.89551%2072.8855%207.89551%2065.1545C7.89551%2057.4225%209.40951%2049.9245%2012.3935%2042.8675C15.2775%2036.0505%2019.4065%2029.9265%2024.6665%2024.6665C29.9265%2019.4065%2036.0505%2015.2775%2042.8675%2012.3935C49.9245%209.40951%2057.4225%207.89551%2065.1545%207.89551C72.8865%207.89551%2080.3845%209.40951%2087.4405%2012.3935C94.2585%2015.2775%20100.383%2019.4065%20105.643%2024.6665C110.902%2029.9265%20115.031%2036.0505%20117.915%2042.8675C120.9%2049.9245%20122.413%2057.4225%20122.413%2065.1545C122.413%2072.8855%20120.9%2080.3835%20117.915%2087.4405ZM125.187%2039.7915C121.906%2032.0335%20117.209%2025.0655%20111.227%2019.0835C105.244%2013.1005%2098.2755%208.40351%2090.5175%205.12151C82.4815%201.72251%2073.9485%20-0.000488281%2065.1545%20-0.000488281C56.3605%20-0.000488281%2047.8275%201.72251%2039.7925%205.12151C32.0325%208.40351%2025.0655%2013.1005%2019.0835%2019.0835C13.1015%2025.0655%208.40351%2032.0335%205.12151%2039.7915C1.72351%2047.8275%20-0.000488281%2056.3605%20-0.000488281%2065.1545C-0.000488281%2073.9485%201.72351%2082.4815%205.12151%2090.5165C8.40351%2098.2755%2013.1015%20105.244%2019.0835%20111.226C25.0655%20117.209%2032.0325%20121.906%2039.7925%20125.188C47.8275%20128.586%2056.3605%20130.309%2065.1545%20130.309C73.9485%20130.309%2082.4815%20128.586%2090.5175%20125.188C98.2755%20121.906%20105.244%20117.209%20111.227%20111.226C117.209%20105.244%20121.906%2098.2755%20125.187%2090.5165C128.586%2082.4815%20130.31%2073.9485%20130.31%2065.1545C130.31%2056.3605%20128.586%2047.8275%20125.187%2039.7915Z'%20fill='%232A2A2A'/%3E%3C/g%3E%3Cpath%20fill-rule='evenodd'%20clip-rule='evenodd'%20d='M38.3192%2058.6619C31.5002%2049.6099%2039.6762%2036.5359%2024.5352%2029.4209C30.0422%2037.5209%2027.3982%2039.8119%2029.0952%2046.6829C30.5822%2052.7059%2038.3192%2058.6619%2038.3192%2058.6619Z'%20fill='%232A2A2A'/%3E%3Cpath%20fill-rule='evenodd'%20clip-rule='evenodd'%20d='M67.9988%2062.3398C56.0588%2062.4428%2051.5188%2054.6528%2051.5188%2054.6528C51.1678%2057.9338%2052.2508%2059.9058%2052.2508%2059.9058C43.5368%2054.1438%2044.7748%2042.1178%2044.7748%2042.1178C49.5138%2055.5188%2065.4878%2055.9198%2065.4878%2055.9198V49.9928C65.4878%2049.9928%2067.3918%2049.9928%2074.0408%2050.0778C80.6898%2050.1628%2081.3288%2053.1628%2081.3258%2055.7508C81.3238%2058.3388%2079.9388%2062.2368%2067.9988%2062.3398ZM89.2238%2064.6838C89.2238%2064.6838%2094.6138%2061.4178%2093.9558%2052.8538C93.2988%2044.2898%2086.3218%2039.9008%2076.9138%2039.4608H53.4338C53.3188%2039.4608%2053.2278%2039.5528%2053.2278%2039.6668V43.0458C41.7988%2037.9218%2047.5108%2023.2168%2047.5108%2023.2168C41.3078%2028.5288%2037.8658%2036.8798%2038.0038%2043.8698C38.1418%2050.8598%2039.6298%2058.4748%2046.9098%2065.5738C53.9958%2072.4838%2070.2858%2071.9808%2070.2858%2071.9808C70.2858%2071.9808%2074.6858%2071.7318%2079.1838%2072.4878C83.6808%2073.2448%2085.1358%2076.0158%2084.1568%2080.5988C83.1788%2085.1818%2074.5998%2084.9028%2074.5998%2084.9028H65.4478V76.6818C65.4478%2076.6818%2061.9898%2077.0488%2057.6448%2076.1378L57.6428%2076.1338C56.9978%2075.9988%2056.3278%2075.8318%2055.6438%2075.6358C55.5278%2075.6018%2055.4138%2075.5718%2055.2978%2075.5358C51.9108%2074.5178%2048.1438%2072.6868%2044.7728%2069.4288C44.7728%2069.4288%2047.0778%2072.9098%2047.7958%2076.0008C48.2058%2077.7678%2048.0968%2079.4068%2046.7418%2080.1948L46.7448%2080.2068C46.7448%2080.2068%2041.9578%2083.0898%2040.9978%2074.8698C40.2308%2068.3098%2037.7558%2063.5868%2036.7878%2061.9478C35.7388%2060.2248%2034.5218%2058.6018%2033.1128%2057.2168C30.6868%2054.5018%2027.3448%2052.3028%2022.7378%2051.4618C22.7378%2051.4618%2033.0358%2055.6248%2033.0358%2070.5108V78.2278C33.0458%2078.4738%2033.0548%2078.7208%2033.0608%2078.9728C33.3968%2093.7738%2042.3438%2095.3098%2048.4028%2095.4948H48.4898H50.2108H78.9008C78.9008%2095.4948%2097.7088%2096.0718%2097.4278%2078.7058C97.2898%2070.2568%2091.8348%2066.0608%2089.2238%2064.6838Z'%20fill='%232A2A2A'/%3E%3Cpath%20fill-rule='evenodd'%20clip-rule='evenodd'%20d='M155.821%2053.7377C155.821%2049.4417%20155.821%2044.9507%20155.723%2041.1427H167.439C167.732%2042.5097%20167.927%2046.6107%20167.927%2048.1727C169.684%2044.6577%20173.785%2039.9717%20182.865%2039.9717C192.726%2039.9717%20199.561%2046.4147%20199.561%2059.3027V91.3267H187.454V60.6697C187.454%2054.4217%20185.209%2049.9297%20178.569%2049.9297C171.442%2049.9297%20167.927%2054.5187%20167.927%2063.7937V91.3267H155.821V53.7377Z'%20fill='%232A2A2A'/%3E%3Cpath%20fill-rule='evenodd'%20clip-rule='evenodd'%20d='M239.678%2061.0602C239.58%2054.3232%20236.652%2048.8562%20229.232%2048.8562C221.811%2048.8562%20218.784%2053.9332%20218.101%2061.0602H239.678ZM217.808%2068.7732C217.808%2076.2912%20221.616%2082.8332%20229.134%2082.8332C235.577%2082.8332%20237.628%2079.9042%20238.994%2076.6822H251.199C249.344%2082.9302%20243.876%2092.4982%20228.743%2092.4982C212.535%2092.4982%20205.604%2080.0012%20205.604%2066.9182C205.604%2051.3942%20213.512%2039.9712%20229.329%2039.9712C246.22%2039.9712%20251.883%2052.5662%20251.883%2064.4772C251.883%2066.1372%20251.883%2067.3092%20251.688%2068.7732H217.808Z'%20fill='%232A2A2A'/%3E%3Cpath%20fill-rule='evenodd'%20clip-rule='evenodd'%20d='M264.77%2041.1426C269.847%2062.4266%20272.678%2074.5336%20273.655%2080.3916H273.752C274.729%2075.1196%20276.876%2065.7466%20283.418%2041.1426H294.841C301.187%2067.1136%20303.14%2074.6316%20303.824%2079.8056H303.921C305.093%2074.5336%20306.752%2067.0156%20313.294%2041.1426H325.401L310.267%2091.3266H297.282C292.888%2072.5806%20289.666%2060.1816%20288.592%2053.9326H288.495C287.617%2059.9856%20284.296%2072.6786%20279.415%2091.3266H266.332L251.98%2041.1426H264.77Z'%20fill='%232A2A2A'/%3E%3Cpath%20fill-rule='evenodd'%20clip-rule='evenodd'%20d='M337.291%2076.4862C338.463%2080.9772%20341.978%2083.5162%20347.738%2083.5162C353.597%2083.5162%20355.842%2081.2702%20355.842%2077.7552C355.842%2073.9482%20353.597%2072.3852%20345.687%2070.4332C329.969%2066.6252%20327.235%2061.7432%20327.235%2054.8112C327.235%2047.4892%20332.409%2039.9712%20346.762%2039.9712C361.212%2039.9712%20366.484%2047.9772%20366.973%2054.9092H355.353C354.865%2052.5662%20353.206%2048.6602%20346.273%2048.6602C340.807%2048.6602%20339.146%2051.1992%20339.146%2053.8352C339.146%2056.6662%20340.904%2058.1312%20349.398%2060.1812C365.605%2063.8912%20368.241%2069.4562%20368.241%2076.8772C368.241%2085.2732%20361.7%2092.4982%20347.348%2092.4982C332.8%2092.4982%20326.552%2085.3712%20325.38%2076.4862H337.291Z'%20fill='%232A2A2A'/%3E%3C/svg%3E\");height:18px;width:51px;}.with-logo .widget__section[href*=\"/fearless/\"]:after{background-image:url(\"data:image/svg+xml,%3Csvg%20xmlns='http://www.w3.org/2000/svg'%20width='58'%20height='13'%20viewBox='0%200%2058%2013'%20fill='none'%3E%3Cpath%20fill-rule='evenodd'%20clip-rule='evenodd'%20d='M46.5113%2012.09C48.9627%2012.09%2050.6891%2010.0011%2050.6891%207.636C50.6891%206.20799%2049.808%205.46597%2049.1098%204.87795C48.6516%204.49207%2048.2722%204.17251%2048.2722%203.76894C48.2722%203.32008%2048.7728%203.00933%2049.1872%203.00933C49.9295%203.00933%2050.5165%203.64809%2050.8272%204.26958L51.2588%200.747793C50.6028%200.385255%2049.8777%200.160828%2049.1181%200.160828C46.9256%200.160828%2045.182%202.267%2045.182%204.39043C45.182%205.9012%2046.0618%206.66599%2046.7522%207.26602C47.1978%207.65334%2047.5644%207.972%2047.5644%208.37834C47.5644%208.93077%2047.0637%209.24152%2046.5631%209.24152C45.7517%209.24152%2045.1647%208.63729%2044.7677%207.98127L44.3188%2011.5894C45.0093%2011.9001%2045.7517%2012.09%2046.5113%2012.09ZM3.97352%207.35983L3.40382%2011.8829H0.348145L1.76377%200.368038H7.1673L6.83929%203.07843H4.49143L4.28426%204.75301H6.47675L6.14874%207.35983H3.97352ZM12.8385%209.12072L12.5105%2011.8829H6.81345L8.22907%200.368038H13.9261L13.5808%203.07843H10.9567L10.7496%204.75301H13.1147L12.7867%207.35983H10.4388L10.2144%209.12072H12.8385ZM16.1445%2011.8829L16.5761%2010.4155H18.6304L18.6822%2011.8829H21.8415L20.8574%200.368038H17.1112L12.9679%2011.8829H16.1445ZM17.2837%207.96409H18.5784C18.5612%207.51523%2018.5439%207.06638%2018.5439%206.61752V5.11558C18.5439%204.67569%2018.5594%204.22804%2018.5749%203.78304L18.5749%203.7829L18.5749%203.78247C18.5825%203.56402%2018.59%203.3462%2018.5957%203.13026C18.5393%203.34882%2018.4887%203.57025%2018.4379%203.79221L18.4379%203.79228C18.3643%204.11381%2018.2906%204.43645%2018.1986%204.75305C18.0743%205.18117%2017.9556%205.6093%2017.8368%206.03743L17.8368%206.03762C17.6586%206.67977%2017.4805%207.32193%2017.2837%207.96409ZM25.6482%2011.8829C25.8553%2010.2947%2026.0625%208.70639%2026.2006%207.10087C26.2524%207.32528%2026.2999%207.54538%2026.3473%207.76548C26.3948%207.9856%2026.4423%208.20573%2026.4941%208.43017C26.647%209.11333%2026.818%209.79047%2026.9893%2010.4687L26.9894%2010.4688L26.9894%2010.4689L26.9894%2010.4691L26.9895%2010.4692L26.9895%2010.4694C27.1082%2010.9393%2027.227%2011.4096%2027.34%2011.8829H30.6546L28.9628%207.10087C30.4475%206.47938%2031.1035%205.23639%2031.1035%203.6654C31.1035%201.1449%2029.3944%200.368038%2027.1328%200.368038H24.0081L22.5925%2011.8829H25.6482ZM26.4076%205.70251H26.6148C27.4607%205.70251%2028.0476%204.85659%2028.0476%204.06246C28.0476%203.19928%2027.5297%202.95759%2026.7529%202.95759L26.4076%205.70251ZM36.8953%2011.8829L37.2233%209.12072H34.9273L35.9976%200.368038H32.9419L31.5263%2011.8829H36.8953ZM43.6887%209.12072L43.3607%2011.8829H37.6637L39.0793%200.368038H44.7763L44.4311%203.07843H41.807L41.5998%204.75301H43.9649L43.6369%207.35983H41.2891L41.0646%209.12072H43.6887ZM57.4304%207.636C57.4304%2010.0011%2055.704%2012.09%2053.2526%2012.09C52.493%2012.09%2051.7506%2011.9001%2051.0601%2011.5894L51.509%207.98127C51.906%208.63729%2052.493%209.24152%2053.3044%209.24152C53.805%209.24152%2054.3057%208.93077%2054.3057%208.37834C54.3057%207.972%2053.9391%207.65334%2053.4935%207.26602C52.8031%206.66599%2051.9233%205.9012%2051.9233%204.39043C51.9233%202.267%2053.6669%200.160828%2055.8594%200.160828C56.619%200.160828%2057.3441%200.385255%2058.0001%200.747793L57.5685%204.26958C57.2578%203.64809%2056.6708%203.00933%2055.9285%203.00933C55.5141%203.00933%2055.0135%203.32008%2055.0135%203.76894C55.0135%204.17251%2055.3929%204.49207%2055.8511%204.87795C56.5493%205.46597%2057.4304%206.20799%2057.4304%207.636Z'%20fill='%232A2A2A'/%3E%3C/svg%3E\");height:12px;width:57px;}.with-logo .widget__section[href*=\"/align/\"]:after{background-image:url(\"data:image/svg+xml,%3Csvg%20xmlns='http://www.w3.org/2000/svg'%20width='243'%20height='90'%20viewBox='0%200%20243%2090'%20fill='none'%3E%3Cg%20clip-path='url(%23clip0_110_28835)'%3E%3Cpath%20d='M37.1501%2069.2501L33.5001%2053.3201H17.9201L14.5401%2069.2501H0.390137L16.4101%204.81006H34.4801L52.1001%2069.2501H37.1501ZM19.7001%2042.6401H31.3601L25.4801%2016.4701H25.2101L19.6901%2042.6401H19.7001Z'%20fill='%232a2a2a'/%3E%3Cpath%20d='M97.3902%2060.0801V69.25H54.4902V60.0801H69.7102V11.21H54.4902V2.05005H83.1502V60.0801H97.3902Z'%20fill='%232a2a2a'/%3E%3Cpath%20d='M146.57%2060.08V69.25H102.6V60.08H119.51V32.04H102.6V22.87H132.95V60.07H146.57V60.08ZM116.75%207.83C116.75%202.76%20119.69%200%20124.76%200C129.83%200%20132.95%202.76%20132.86%207.83C132.86%2012.99%20129.92%2015.84%20124.76%2015.84C119.6%2015.84%20116.75%2012.99%20116.75%207.83Z'%20fill='%232a2a2a'/%3E%3Cpath%20d='M148.58%2078.5C148.58%2074.05%20151.87%2071.02%20157.3%2070.13V69.86C152.85%2068.44%20150.54%2065.77%20150.54%2062.03C150.54%2057.49%20153.92%2054.46%20157.66%2051.71C153.39%2049.22%20150.81%2044.95%20150.81%2039.07C150.81%2029.28%20157.75%2021.98%20172.35%2021.98C178.49%2021.98%20181.96%2022.87%20185.7%2024.92C186.5%2021.63%20188.99%2017.98%20193.89%2017.98C195.22%2017.98%20196.03%2018.07%20197.36%2018.51V27.05L189.88%2027.94C192.64%2030.97%20193.88%2034.7%20193.88%2038.53C193.88%2048.85%20186.58%2055.08%20172.7%2055.08C168.25%2055.08%20165.76%2054.72%20163.09%2054.1C162.29%2054.9%20161.49%2055.97%20161.49%2057.22C161.49%2058.64%20162.29%2059.8%20165.76%2059.89L181.16%2060.42C191.4%2060.69%20197.27%2064.34%20197.27%2073.59C197.27%2084.98%20186.41%2089.25%20171.99%2089.25C153.39%2089.25%20148.58%2084.71%20148.58%2078.48V78.5ZM184.63%2075.92C184.63%2073.61%20183.38%2072%20177.87%2071.83L163.27%2071.47C161.58%2072.81%20160.42%2074.14%20160.42%2076.01C160.42%2079.57%20165.67%2080.99%20173.06%2080.99C179.47%2080.99%20184.63%2079.66%20184.63%2075.92ZM182.05%2038.54C182.05%2033.47%20178.93%2030.97%20172.97%2030.97C167.01%2030.97%20163.36%2033.11%20163.36%2038.45C163.36%2043.08%20166.03%2046.02%20172.71%2046.02C178.58%2046.02%20182.05%2043.26%20182.05%2038.54Z'%20fill='%232a2a2a'/%3E%3Cpath%20d='M201.13%2069.2499V22.8699H213.23V29.1899L213.85%2029.3699C216.97%2025.7199%20221.42%2021.8899%20229.34%2021.8899C238.86%2021.8899%20242.78%2027.4099%20242.78%2037.7299V69.2399H229.34V40.4899C229.34%2034.9699%20228.36%2032.5699%20223.73%2032.5699C219.55%2032.5699%20216.34%2034.7999%20214.56%2036.3099V69.2399H201.12L201.13%2069.2499Z'%20fill='%232a2a2a'/%3E%3C/g%3E%3Cdefs%3E%3CclipPath%20id='clip0_110_28835'%3E%3Crect%20width='242.39'%20height='89.27'%20fill='white'%20transform='translate(0.390137)'/%3E%3C/clipPath%3E%3C/defs%3E%3C/svg%3E\");height:14px;width:40px;}.with-logo .widget__section[href*=\"/return/\"]:after{background-image:url(\"data:image/svg+xml,%3Csvg%20xmlns='http://www.w3.org/2000/svg'%20width='310'%20height='58'%20viewBox='0%200%20310%2058'%20fill='none'%3E%3Cg%20clip-path='url(%23clip0_110_28811)'%3E%3Cpath%20d='M41%204.1C45.1%206.97%2047.97%2011.89%2047.97%2018.04C47.97%2024.19%2046.15%2027.84%2044.05%2030.49C42.03%2033.03%2039.75%2034.38%2038.55%2035.1L51.26%2056.58H29.94L20.92%2037.72H18.54V56.58H0V0H24.6C31.57%200%2036.9%201.23%2041%204.1ZM27.22%2022.8C28.12%2022.14%2029.27%2021.32%2029.27%2018.86C29.27%2016.4%2028.02%2015.61%2027.22%2015.01C26.38%2014.38%2025.17%2013.94%2023.12%2013.94H18.45V23.78H23.12C25.17%2023.78%2026.48%2023.37%2027.22%2022.8Z'%20fill='%232A2A2A'/%3E%3Cpath%20d='M93.4002%200V14.6H71.6702V20.75H92.1702V35.26H71.6702V41.82H94.2202V56.58H53.2202V0H93.4002Z'%20fill='%232A2A2A'/%3E%3Cpath%20d='M96.6299%2014.43V0H141.81V14.43H128.44V56.58H109.91V14.43H96.6299Z'%20fill='%232A2A2A'/%3E%3Cpath%20d='M165.73%2039.36C166.96%2040.59%20168.6%2041.41%20171.06%2041.41C173.52%2041.41%20175.16%2040.59%20176.39%2039.36C177.62%2038.13%20178.19%2036.49%20178.19%2033.21V0H196.89V32.39C196.89%2041.41%20194.84%2046.74%20190.74%2050.84C186.64%2054.94%20180.08%2057.48%20171.06%2057.48C162.04%2057.48%20155.48%2054.94%20151.38%2050.84C147.28%2046.74%20145.23%2041.41%20145.23%2032.39V0H163.84V33.21C163.84%2036.57%20164.5%2038.13%20165.73%2039.36Z'%20fill='%232A2A2A'/%3E%3Cpath%20d='M243.22%204.1C247.32%206.97%20250.19%2011.89%20250.19%2018.04C250.19%2024.19%20248.37%2027.84%20246.27%2030.49C244.25%2033.03%20241.97%2034.38%20240.77%2035.1L253.48%2056.58H232.16L223.14%2037.72H220.76V56.58H202.23V0H226.83C233.8%200%20239.13%201.23%20243.23%204.1H243.22ZM229.44%2022.8C230.34%2022.14%20231.49%2021.32%20231.49%2018.86C231.49%2016.4%20230.24%2015.61%20229.44%2015.01C228.6%2014.38%20227.39%2013.94%20225.34%2013.94H220.67V23.78H225.34C227.39%2023.78%20228.7%2023.37%20229.44%2022.8Z'%20fill='%232A2A2A'/%3E%3Cpath%20d='M275.52%200L291.92%2031.57C291.92%2031.57%20291.51%2025.42%20291.51%2021.32V0H309.55V56.58H290.28L273.06%2025.01C273.06%2025.01%20273.47%2031.16%20273.47%2035.26V56.58H255.43V0H275.52Z'%20fill='%232A2A2A'/%3E%3C/g%3E%3Cdefs%3E%3CclipPath%20id='clip0_110_28811'%3E%3Crect%20width='309.55'%20height='57.48'%20fill='white'/%3E%3C/clipPath%3E%3C/defs%3E%3C/svg%3E\");height:12px;width:66px;}.with-logo .widget__section[href*=\"/abide/\"]:after{background-image:url(\"data:image/svg+xml,%3Csvg%20width='467'%20height='155'%20viewBox='0%200%20467%20155'%20fill='none'%20xmlns='http://www.w3.org/2000/svg'%3E%3Cg%20clip-path='url(%23clip0_1920_47518)'%3E%3Ctitle%3EFaith%3C/title%3E%3Cpath%20d='M35.48%2030.865C35.76%2030.885%2036.15%2030.545%2036.62%2030.045C37.64%2028.925%2038.84%2027.805%2040.16%2026.805C43.98%2023.875%2048.57%2021.785%2053.58%2021.085C61.26%2020.065%2069.63%2021.955%2073.71%2027.815C74.32%2028.655%2074.86%2029.575%2074.65%2030.535C74.16%2032.215%2072.92%2034.685%2072.2%2036.285C71.97%2036.685%2071.71%2037.145%2071.2%2037.185C55.45%2029.455%2037.34%2036.165%2032.28%2052.265C31.31%2055.405%2031.26%2059.695%2032.66%2062.515C33.28%2063.465%2034.19%2062.265%2034.73%2061.765C39.43%2056.515%2048.28%2054.655%2054.98%2057.545C56.71%2058.255%2060.31%2060.275%2060.84%2061.735C54.5%2076.025%2036.15%20117.055%2034.54%20120.585C18.82%20123.845%204.83999%20133.405%200.209994%20146.785C-0.140006%20147.765%20-0.150006%20148.545%201.21999%20147.975C7.79999%20144.905%2014.77%20143.175%2022.27%20142.955C33.88%20142.605%2045.01%20145.875%2054.04%20152.385C54.87%20152.935%2055.16%20152.885%2055.64%20152.335C58.78%20149.105%2073.66%20133.795%2075.68%20131.695C80.46%20126.235%2081.49%20127.985%2075.44%20123.075C75%20122.745%2074.47%20122.395%2073.95%20122.755C72.63%20123.385%2070.62%20127.455%2068.39%20126.145C62.22%20122.895%2055.23%20120.755%2047.61%20120.215C46.77%20120.105%2045.06%20120.295%2045.45%20119.265C46.91%20116.115%2052.43%20103.355%2053.48%20101.405C53.88%20101.175%2054.23%20101.345%2054.91%20101.295C62.42%20101.295%2099.5%20101.275%20101.52%20101.305C101.63%20101.325%20101.7%20101.355%20101.76%20101.455C101.93%20101.785%20102.54%20103.445%20103.51%20105.925C107.83%20116.595%20112.33%20129.605%20115.04%20134.925C117.66%20140.245%20126.93%20153.145%20139.37%20154.045C140.6%20154.045%20140.9%20153.405%20141.71%20152.225C143.23%20150.015%20145.82%20146.255%20147.44%20143.895C148.5%20142.375%20148.8%20141.665%20149.94%20141.485C151.12%20141.265%20152.7%20141.325%20154%20141.345C163.26%20141.665%20171.61%20145.495%20177.45%20151.455C178.35%20152.475%20179.62%20153.165%20180.83%20152.085C191.92%20142.955%20213.19%20138.995%20229.32%20142.645C230%20142.785%20231.04%20142.995%20231.39%20142.435C231.6%20142.145%20231.72%20141.705%20231.75%20141.315C231.74%20134.395%20231.75%2081.995%20231.85%2072.785C234.44%2069.975%20237.68%2066.655%20238.98%2062.925C239.23%2062.065%20238.8%2061.805%20237.77%2061.985C236.36%2062.265%20234.82%2062.545%20233.34%2062.595C224.62%2063.045%20216.77%2058.165%20212.18%2051.085C211.74%2050.485%20211.49%2050.295%20211.13%2050.485C208.2%2052.235%20190.65%2063.135%20187.76%2064.885C186.5%2065.675%20183.62%2067.445%20182.51%2068.105C182.29%2068.235%20181.83%2068.515%20181.88%2068.075C182.18%2059.475%20181.24%2026.265%20182.32%2018.355C182.59%2015.785%20185.03%2011.725%20183.31%209.625C183.18%209.475%20183.05%209.415%20182.91%209.435C180.59%2010.195%20158.91%2018.515%20151.96%2021.105C151.63%2021.255%20151.55%2021.445%20151.49%2021.945C151.43%2022.705%20151.41%2023.615%20151.56%2024.375C151.73%2025.205%20152.48%2025.105%20153.55%2025.905C154.18%2026.365%20154.73%2026.955%20155.16%2027.605C155.9%2028.635%20156.29%2030.165%20156.35%2031.155C156.42%2035.165%20156.35%20118.865%20156.35%20122.945C155.68%20123.435%20154.28%20123.595%20153.42%20123.835C147.26%20125.265%20140.27%20121.865%20137.65%20115.695C130.1%2096.995%20107.13%2042.015%2099.58%2022.225C97.59%2016.735%2094.67%2010.465%2089.88%206.575C83.76%202.195%2074.58%200.834998%2068.15%200.944998C57.82%200.804998%2046.48%204.145%2040.23%2011.785C36.37%2016.425%2033.74%2022.465%2034.7%2028.615C34.83%2029.435%2034.79%2030.485%2035.41%2030.845H35.48V30.865ZM64.3%2077.615C68.19%2068.595%2075.17%2053.215%2079.4%2043.675C80.21%2044.895%2091.66%2075.305%2092.6%2077.455C92.63%2077.555%2092.63%2077.605%2092.58%2077.635C90.8%2077.735%2088.93%2077.635%2085.61%2077.665C79.8%2077.645%2069.2%2077.715%2064.31%2077.635H64.3V77.615ZM204.28%20134.275C203.62%20134.435%20202.03%20134.705%20200.75%20135.005C199.17%20135.455%20197.49%20135.745%20196.23%20134.435C192.73%20131.115%20188.43%20128.475%20183.63%20126.875C183.09%20126.705%20182.33%20126.455%20181.93%20126.285C181.4%20126.055%20181.54%20125.865%20181.52%20125.385C181.52%20124.025%20181.52%20122.865%20181.52%20121.175C181.52%20110.035%20181.52%2084.965%20181.52%2079.325C181.57%2078.525%20181.23%2078.745%20182.65%2077.855C183.29%2077.455%20184.25%2076.855%20185.32%2076.185C187.41%2074.965%20190.45%2072.785%20192.19%2071.995C192.89%2071.845%20193.52%2072.365%20194.06%2072.745C195.09%2073.545%20195.93%2074.125%20196.98%2074.785C198.98%2076.085%20201.66%2077.295%20203.96%2078.025C204.51%2078.255%20204.74%2078.265%20204.79%2078.595C204.79%2081.395%20204.79%20106.205%20204.79%20121.705C204.79%20128.065%20204.79%20132.845%20204.79%20133.905C204.77%20134.115%20204.65%20134.135%20204.37%20134.235L204.28%20134.255V134.275Z'%20fill='%232A2A2A'/%3E%3Cpath%20d='M282.71%20131.825C281.49%20130.635%20280.93%20129.535%20280.81%20128.325C280.79%20117.425%20280.82%2088.305%20280.81%2078.795C280.81%2077.295%20280.81%2076.275%20280.81%2075.085C280.81%2074.625%20280.74%2074.495%20281.28%2073.985C281.6%2073.685%20282.1%2073.235%20282.48%2072.875C285.35%2070.175%20287.86%2066.685%20289.25%2062.835C289.74%2061.305%20287.85%2061.915%20286.87%2062.135C278.28%2063.895%20270.24%2059.075%20265.73%2051.525C265.23%2050.835%20265.02%2049.965%20264.29%2050.395C261.81%2052.115%20249%2060.955%20243.99%2064.495C243.3%2065.335%20244.78%2066.945%20245.65%2068.435C247.58%2071.275%20250.25%2073.835%20253.16%2075.725C253.8%2076.205%20254.06%2076.265%20254.12%2076.725C254.4%2082.835%20253.59%20118.895%20254.44%20133.245C255.45%20143.245%20263.26%20150.365%20274.24%20152.685C275.38%20152.855%20276.71%20153.415%20277.57%20152.655C280.25%20150.245%20293.97%20137.865%20297.02%20135.115C297.96%20134.465%20297.4%20133.585%20296.11%20133.485C292.4%20134.275%20286.54%20135.135%20282.85%20131.945L282.7%20131.815L282.71%20131.825Z'%20fill='%232A2A2A'/%3E%3Cpath%20d='M269.28%2042.835C275.74%2042.805%20281.59%2039.585%20285.42%2034.535C286.76%2033.135%20286.36%2031.625%20285.42%2029.975C284.88%2028.735%20283.66%2028.705%20282.43%2028.675C277.08%2028.275%20272.32%2024.935%20269.22%2020.005C268.86%2019.535%20268.44%2018.405%20267.9%2018.615C267.37%2018.935%20265.94%2019.965%20264.07%2021.245C261.15%2023.265%20257.16%2026.035%20254.25%2028.055C252.72%2029.125%20251.51%2029.935%20250.98%2030.345C250.83%2030.485%20250.75%2030.625%20250.76%2030.835C253.61%2037.595%20261.19%2042.855%20269.08%2042.835H269.27H269.28Z'%20fill='%232A2A2A'/%3E%3Cpath%20d='M351.63%2011.675C352.54%2015.495%20353.85%2019.045%20353.78%2022.665C353.68%2029.085%20353.74%2061.475%20353.72%2067.975C353.76%2068.415%20353.34%2068.165%20353.09%2068.025C352.29%2067.575%20349.81%2066.015%20348.76%2065.365C345.36%2063.265%20327.89%2052.445%20324.4%2050.315C324.04%2050.125%20323.79%2050.315%20323.35%2050.925C318.75%2058.035%20310.87%2062.945%20302.14%2062.495C300.66%2062.455%20299.09%2062.155%20297.7%2061.885C297.09%2061.785%20296.65%2061.825%20296.49%2062.095C296.32%2062.435%20296.51%2063.035%20296.71%2063.445C297.98%2066.175%20299.79%2068.725%20301.91%2070.895C302.61%2071.645%20303.63%2072.405%20303.7%2073.015C303.7%2082.165%20303.66%20134.775%20303.74%20141.605C303.77%20142.065%20303.89%20142.505%20304.18%20142.815C304.52%20143.165%20305.09%20143.135%20305.81%20143.005C309.63%20142.225%20313.74%20141.715%20317.97%20141.625C333.01%20141.045%20346.18%20146.065%20355.98%20152.985C356.77%20153.085%20357.5%20152.495%20358.05%20151.925C362.89%20146.935%20369.48%20143.395%20376.88%20142.145C377.78%20141.915%20379.34%20141.995%20379.34%20141.055C379.33%20136.935%20379.36%20119.915%20379.34%20113.035C379.27%20109.235%20379.39%2049.785%20379.34%2031.165C379.3%2029.415%20380.48%2026.685%20382.3%2025.545C383.42%2024.775%20384.1%2024.905%20384.2%2023.865C384.23%2022.945%20384.51%2021.525%20383.87%2020.885C381.25%2019.865%20361.58%2012.415%20354.56%209.75502C353.65%209.57502%20352.59%208.60502%20352.2%209.43502C351.79%2010.045%20351.65%2010.765%20351.64%2011.505V11.685L351.63%2011.675ZM353.16%20126.325C348.41%20127.775%20343.89%20130.075%20340.24%20133.275C339.17%20134.185%20338.22%20135.325%20336.98%20135.375C335.08%20135.345%20332.81%20134.525%20331.01%20134.275C330.65%20134.185%20330.48%20134.105%20330.43%20133.985C330.37%20131.285%20330.43%2092.245%20330.4%2081.235C330.4%2080.245%20330.4%2079.605%20330.4%2078.835C330.4%2078.535%20330.37%2078.405%20330.9%2078.185C334.59%2076.985%20338.22%2075.175%20341.11%2072.735C341.76%2072.195%20342.51%2071.595%20343.3%2072.125C345.22%2073.295%20351.2%2077.065%20352.93%2078.145C353.43%2078.505%20353.6%2078.475%20353.67%2078.825C353.73%2080.515%20353.64%20116.805%20353.67%20125.875C353.65%20126.105%20353.54%20126.165%20353.26%20126.285L353.17%20126.325H353.16Z'%20fill='%232A2A2A'/%3E%3Cpath%20d='M466.66%20127.065C466.63%20126.805%20466.46%20126.595%20466.24%20126.385C465.45%20125.665%20463.55%20124.135%20462.47%20123.255C462.03%20122.925%20461.5%20122.475%20460.93%20122.765C459.73%20123.335%20457.96%20126.265%20456.48%20126.485C455.8%20126.585%20455.07%20126.155%20454.43%20125.835C447.72%20122.355%20439.8%20120.275%20431.37%20120.125C430.18%20120.085%20428.8%20120.165%20427.68%20120.125C427.04%20120.085%20426.68%20119.935%20426.55%20119.495C426.32%20117.055%20426.53%20111.425%20426.46%20108.405C426.54%20107.255%20426.26%20106.925%20426.71%20106.425C429.28%20104.985%20462.52%2087.395%20465.6%2085.615C463.88%2081.295%20454.67%2063.155%20452.51%2058.515C451.24%2055.965%20448.76%2050.905%20447.79%2048.995C447.62%2048.655%20447.41%2048.385%20447.06%2048.335C432.47%2057.555%20414.34%2062.935%20395.25%2061.485C394.12%2061.445%20393.38%2061.645%20393.58%2062.645C394.32%2064.825%20395.68%2066.875%20397.25%2068.745C400.06%2072.105%20401.65%2076.315%20401.67%2080.695C401.72%2091.015%20401.58%20109.105%20401.65%20119.995C401.65%20122.895%20401.65%20124.955%20401.65%20127.275C401.6%20128.045%20401.86%20128.205%20401.16%20128.765C394.48%20133.525%20388.99%20139.895%20386.48%20147.245C386.17%20148.265%20386.48%20148.665%20387.73%20148.105C394.26%20145.045%20401.33%20143.345%20408.78%20143.125C418.61%20142.855%20427.8%20145.015%20436%20149.575C437.64%20150.475%20439.19%20151.525%20440.66%20152.535C441.49%20153.085%20441.84%20153.155%20442.25%20152.705C444.84%20150.025%20456.19%20138.395%20461.19%20133.235C462.36%20132.055%20462.89%20131.445%20464.24%20130.035C464.99%20129.155%20466.33%20128.185%20466.66%20127.165V127.075V127.065ZM426.92%2066.555C427.92%2066.265%20429.85%2065.835%20430.97%2065.555C431.74%2065.415%20432.09%2065.225%20432.38%2065.705C433.66%2068.395%20441.91%2085.785%20442.81%2087.705C442.91%2087.935%20442.89%2087.995%20442.62%2088.145C439.14%2089.925%20432.5%2093.325%20428.83%2095.205C427.68%2095.745%20427.17%2096.155%20426.51%2096.325C426.48%2096.305%20426.47%2096.265%20426.46%2096.205C426.45%2094.505%20426.45%2073.685%20426.46%2066.945C426.5%2066.765%20426.61%2066.695%20426.83%2066.605L426.93%2066.565L426.92%2066.555Z'%20fill='%232A2A2A'/%3E%3C/g%3E%3Cdefs%3E%3CclipPath%20id='clip0_1920_47518'%3E%3Crect%20width='466.66'%20height='153.11'%20fill='white'%20transform='translate(0%200.945007)'/%3E%3C/clipPath%3E%3C/defs%3E%3C/svg%3E\");height:12px;width:36px;}.with-logo .widget__section[href*=\"/frontier/\"]:after{background-image:url(\"data:image/svg+xml, \");height:12px;width:42px;background-position:100%;}.with-lock:before{background-image:url(\"data:image/svg+xml,%3Csvg%20xmlns='http://www.w3.org/2000/svg'%20width='45'%20height='45'%20viewBox='0%200%2045%2045'%20fill='none'%3E%3Cg%20clip-path='url(%23clip0_2165_10429)'%3E%3Cpath%20d='M22.4938%2044.9876C34.9168%2044.9876%2044.9876%2034.9168%2044.9876%2022.4938C44.9876%2010.0708%2034.9168%200%2022.4938%200C10.0708%200%200%2010.0708%200%2022.4938C0%2034.9168%2010.0708%2044.9876%2022.4938%2044.9876Z'%20fill='%23EFE9DC'/%3E%3Cpath%20d='M30.9707%2020.4736H13.459V33.1767H30.9707V20.4736Z'%20fill='%23B7443C'/%3E%3Cpath%20d='M30.9707%2033.1767H14.0415C13.7192%2033.1767%2013.459%2032.9165%2013.459%2032.5942V20.4736C13.459%2020.1514%2013.7192%2019.8911%2014.0415%2019.8911H30.9707C31.2929%2019.8911%2031.5532%2020.1514%2031.5532%2020.4736V32.5942C31.5532%2032.9165%2031.2929%2033.1767%2030.9707%2033.1767ZM14.2274%2032.4083H30.7724V20.6719H14.2274V32.4083Z'%20fill='%23B7443C'/%3E%3Cpath%20d='M29.2356%2020.6719H27.3147C27.104%2020.6719%2026.9305%2020.4984%2026.9305%2020.2878V17.4001C26.9305%2014.9586%2024.9476%2012.9757%2022.5061%2012.9757C20.0646%2012.9757%2018.0817%2014.9586%2018.0817%2017.4001V20.2878C18.0817%2020.4984%2017.9082%2020.6719%2017.6975%2020.6719H15.7765C15.5658%2020.6719%2015.3923%2020.4984%2015.3923%2020.2878V17.4001C15.3923%2013.4714%2018.5898%2010.2864%2022.5061%2010.2864C26.4224%2010.2864%2029.6198%2013.4838%2029.6198%2017.4001V20.2878C29.6198%2020.4984%2029.4463%2020.6719%2029.2356%2020.6719ZM27.6989%2019.9036H28.8514V17.4001C28.8514%2013.9052%2026.001%2011.0548%2022.5061%2011.0548C19.0112%2011.0548%2016.1607%2013.9052%2016.1607%2017.4001V19.9036H17.3133V17.4001C17.3133%2014.5373%2019.6432%2012.2073%2022.5061%2012.2073C25.3689%2012.2073%2027.6989%2014.5373%2027.6989%2017.4001V19.9036Z'%20fill='%23B7443C'/%3E%3Cpath%20d='M22.4938%2011.0547C18.9989%2011.0547%2016.1484%2013.9051%2016.1484%2017.4V19.9035H17.301V17.4C17.301%2014.5372%2019.6309%2012.2073%2022.4938%2012.2073C25.3566%2012.2073%2027.6866%2014.5372%2027.6866%2017.4V19.9035H28.8392V17.4C28.8392%2013.9051%2025.9887%2011.0547%2022.4938%2011.0547Z'%20fill='%23B7443C'/%3E%3Cpath%20d='M22.4937%2029.9298C21.7501%2029.9298%2021.1428%2029.3225%2021.1428%2028.5789V24.5015C21.1428%2023.7579%2021.7501%2023.1506%2022.4937%2023.1506C23.2373%2023.1506%2023.8446%2023.7579%2023.8446%2024.5015V28.5789C23.8446%2029.3225%2023.2373%2029.9298%2022.4937%2029.9298Z'%20fill='%23EFE9DC'/%3E%3C/g%3E%3Cdefs%3E%3CclipPath%20id='clip0_2165_10429'%3E%3Crect%20width='45'%20height='45'%20fill='white'/%3E%3C/clipPath%3E%3C/defs%3E%3C/svg%3E\");background-size:contain;background-position:center;background-repeat:no-repeat;content:\"\";display:block;position:absolute;z-index:1;}.with-lock--small .with-lock:before{height:20px;left:6px;top:6px;width:20px;}.with-lock--medium .with-lock:before, .with-lock--large .with-lock:before{height:clamp(1.25rem, .1314rem + 5.5928vw, 2.8125rem);left:clamp(.375rem, 3.132vw - .2514rem, 1.25rem);top:clamp(.375rem, 3.132vw - .2514rem, 1.25rem);width:clamp(1.25rem, .1314rem + 5.5928vw, 2.8125rem);}@media (min-width: 768px){.with-lock--medium .widget__head:before{height:35px;left:15px;top:15px;width:35px;}}@media (min-width: 992px){.with-logo.all-stories .widget__section:after{height:clamp(1.3125rem, .211rem + 1.7766vw, 2.1875rem);margin-bottom:clamp(.5625rem, .3265rem + .3807vw, .75rem);width:clamp(3.5625rem, .4153rem + 5.0761vw, 6.0625rem);}}@media (min-width: 992px){.with-logo .widget__section[href*=\"/fearless/\"]:after{height:clamp(.8125rem, .1044rem + 1.1421vw, 1.375rem);width:clamp(3.5625rem, .4153rem + 5.0761vw, 6.0625rem);}}@media (min-width: 992px){.with-logo .widget__section[href*=\"/frontier/\"]:after{height:clamp(1rem, .5279rem + .7614vw, 1.375rem);width:clamp(3.5625rem, .4153rem + 5.0761vw, 6.0625rem);}}@media (min-width: 992px){.with-logo .widget__section[href*=\"/align/\"]:after{;}}@media (min-width: 992px){.with-logo .widget__section[href*=\"/align/\"]:after{height:clamp(1.0625rem, .3544rem + 1.1421vw, 1.625rem);width:clamp(2.875rem, .8293rem + 3.2995vw, 4.5rem);}}@media (min-width: 992px){.module--all-stories .with-logo .widget__section[href*=\"/align/\"]:after{height:clamp(1.1875rem, 2.1574vw - .1501rem, 2.25rem);width:clamp(3.125rem, 5.0761vw - .0222rem, 5.625rem);}}@media (min-width: 992px){.with-logo .widget__section[href*=\"/return/\"]:after{height:clamp(.6875rem, 1.1421vw - .0206rem, 1.25rem);width:clamp(3.5625rem, .4153rem + 5.0761vw, 6.0625rem);}}@media (min-width: 992px){.with-logo .widget__section[href*=\"/abide/\"]:after{height:clamp(.6875rem, 1.1421vw - .0206rem, 1.25rem);width:clamp(2.125rem, .2367rem + 3.0457vw, 3.625rem);}}.topbar{background:#000;}.topbar_elements_wrap{display:flex;align-items:center;justify-content:space-between;}.topbar_row_2{display:none;}.site-title{line-height:0;margin:0 auto;width:fit-content;}.navbar{display:inline-flex;}.topbar{background-color:var(--background-color);}.topbar__inner{display:flex;flex-direction:column;padding-top:28px;row-gap:24px;}.topbar__main{display:flex;flex-direction:column;row-gap:24px;}@media (min-width: 768px){.topbar__main .hamburger__toggle{display:none;}}@media (min-width: 768px){.topbar__inner{padding-top:clamp(1.75rem, 1.3195rem + .8969vw, 1.875rem);}}@media (min-width: 768px){.topbar_row_2{display:flex;}}@media (min-width: 767px) and (max-width: 991px){.topbar_elements_wrap.topbar_row_2 .navbar__inner .hamburger__toggle{display:block;}}@media (min-width: 992px){.topbar__inner{align-items:flex-start;flex-direction:row;justify-content:space-between;padding-top:clamp(1.75rem, 3.0457vw - .1383rem, 3.25rem);}}@media (min-width: 992px){.topbar_row_2{align-items:flex-start;}}@media (min-width: 1780px){.topbar_elements_wrap{justify-content:space-between;grid-column-gap:var(--horizontal-spacing-between-module-items);}}@media (min-width: 1780px){.topbar_row_1{max-width:904px;}}@media (min-width: 1780px){.topbar_row_2{display:flex;}}.login-bar .list{display:flex;}.login-bar .list__item{color:var(--primary-text-color);font-family:var(--secondary-font-family);font-feature-settings:\"clig\" off, \"liga\" off;font-size:13px;font-style:normal;font-weight:600;letter-spacing:1.1px;line-height:var(--primary-line-height);margin:0;text-transform:uppercase;cursor:pointer;}.login-bar .list__item--first:hover{color:var(--primary-accent-color);}@media (min-width: 768px){.login-bar__inner{border-bottom:1px solid #c8bfb0;height:46px;padding:0 clamp(2.5rem, .3475rem + 4.4843vw, 3.125rem);}}@media (min-width: 768px){.login-bar .list{align-items:center;column-gap:47px;height:100%;justify-content:flex-end;}}@media (min-width: 768px){.login-bar .list__item{align-items:center;display:flex;height:100%;padding:0;}}@media (min-width: 768px){.login-bar .list__item:last-child{background-color:var(--primary-accent-color);color:var(--background-color);padding:0 20px;}}@media (min-width: 768px){.login-bar .list__item:last-child:hover{background-color:var(--dark-background-color);}}@media (min-width: 992px){.login-bar .list{column-gap:20px;margin:0 auto;}}@media (min-width: 992px){.login-bar__inner{padding:0;}}@media (min-width: 992px){.login-bar.visible ~ .floating__container{top:clamp(5.125rem, 2.4499rem + 4.3147vw, 7.25rem) !important;}}@media (min-width: 992px){.login-bar.visible ~ .floating-logo{top:clamp(4.9375rem, 1.9477rem + 4.8223vw, 7.3125rem) !important;}}.site-title svg{height:auto;}.hamburger__toggle{color:var(--primary-accent-color);font-family:var(--secondary-font-family);font-size:13px;font-style:normal;font-weight:600;letter-spacing:1.1px;line-height:100%;text-align:right;margin:0;}.topbar__main{width:100%;}.topbar__main > .hamburger__toggle{align-self:flex-end;}@media (min-width: 992px){.topbar__main{position:relative;right:20px;}}@media (min-width: 992px) and (max-width: 1779px){.topbar_row_1{max-width:67%;}}.navbar{border-bottom:1px solid #131313;border-top:1px solid #131313;justify-content:center;width:100%;}.navbar__inner{column-gap:32px;display:flex;justify-content:center;padding:10px 0;width:100%;}.navbar__inner .text-element{color:#131313;font-family:var(--secondary-font-family);font-size:13px;font-style:normal;font-weight:600;line-height:var(--primary-line-height);letter-spacing:1.1px;}.navbar__inner .text-element:hover{color:var(--primary-accent-color);}@media (min-width: 768px) and (max-width: 991px){.navbar__inner{padding:clamp(.75rem, 1.7937vw - .111rem, 1rem) 0;}}@media (min-width: 768px) and (max-width: 991px){.navbar__inner .text-element, .hamburger__toggle{font-family:var(--primary-font-family);font-size:clamp(.8125rem, 2.2422vw - .2637rem, 1.125rem);}}@media (min-width: 992px){.navbar{border:none;justify-content:flex-end;min-width:125px;}}@media (min-width: 992px){.navbar__inner{flex-direction:column;margin-bottom:9px;padding:clamp(.625rem, 1.0152vw - .0044rem, 1.125rem) 0;row-gap:6px;width:auto;}}@media (min-width: 992px){.navbar__inner .text-element{font-size:clamp(.75rem, .6713rem + .1269vw, .8125rem);}}@media (min-width: 992px){.navbar__inner .hamburger__toggle{display:none;}}@media (min-width: 1780px){.navbar{flex-grow:1;}}.topbar__sticky{align-items:center;background-color:var(--black-color);display:flex;justify-content:space-between;padding:16px 20px;position:fixed;top:-59px;transition:top .3s;width:100%;z-index:4;}.topbar__sticky svg{height:22px;width:134px;}.site-logo--sticky{margin-top:-5px;max-width:134px;width:100%;}.hamburger__toggle--sticky{color:var(--additional-color);}@media (min-width: 768px){.site-logo--sticky{max-width:192px;}}@media (min-width: 768px){.topbar__sticky svg{height:32px;width:192px;}}@media (min-width: 992px){.topbar__sticky{display:none;}}.main{right:0;transition:right .6s;}.hamburger{width:100%;background-color:var(--dark-background-color);color:var(--additional-color);transition:right .6s;font-size:24px;position:fixed;top:0;height:100dvh;overflow:auto;padding:clamp(1.875rem, .8907rem + 4.9217vw, 3.25rem);right:-100%;z-index:19;}.menu-open-overlay{position:fixed;left:0;height:0;width:100%;cursor:pointer;visibility:hidden;opacity:0;transition:opacity .2s;top:0;}.hamburger_inner{display:flex;flex-direction:column;row-gap:32px;}.hamburger_inner > *{margin-bottom:var(--vertical-spacing-between-module-items);}.hamburguer__header{align-items:center;display:flex;justify-content:space-between;margin-bottom:0;}.hamburguer__logo{width:clamp(10rem, 6.1074rem + 19.4631vw, 15.4375rem);}.hamburger .hamburger__toggle{height:40px;width:40px;}.hamburger .hamburger__toggle > svg{height:40px;width:40px;}.hamburguer__main{display:flex;flex-direction:column;margin-bottom:0;row-gap:clamp(1.375rem, .2117rem + 5.8166vw, 3rem);}.hamburger .search-widget{border:1px solid #8e8e8e66;display:flex;justify-content:space-between;padding:clamp(.375rem, 2.0134vw - .0277rem, .9375rem) 12px;position:relative;}.hamburger .search-widget:focus{border-color:var(--tertiary-text-color, #8e8e8e);}.hamburger .search-widget form{width:calc(100% - 32px);}.hamburger .search-widget__input{color:var(--additional-color);font-family:var(--primary-font-family);font-style:normal;font-size:clamp(.75rem, .3921rem + 1.7897vw, 1.25rem);font-weight:500;height:20px;letter-spacing:.741px;line-height:var(--primary-line-height);width:100%;}.hamburger .search-widget__submit{background:url(\"data:image/svg+xml,%3Csvg%20xmlns='http://www.w3.org/2000/svg'%20width='20'%20height='21'%20viewBox='0%200%2020%2021'%20fill='none'%3E%3Cpath%20fill-rule='evenodd'%20clip-rule='evenodd'%20d='M8.06656%2013.7506C5.05529%2013.7506%202.61395%2011.2677%202.61395%208.20479C2.61395%205.14188%205.05529%202.6588%208.06656%202.6588C11.078%202.6588%2013.5192%205.14188%2013.5192%208.20479C13.5192%2011.2677%2011.078%2013.7506%208.06656%2013.7506ZM14.901%2012.5614C15.6808%2011.2986%2016.1334%209.80615%2016.1334%208.20444C16.1334%203.67299%2012.5217%200%208.06656%200C3.61143%200%200%203.67299%200%208.20444C0%2012.7361%203.61126%2016.4087%208.06656%2016.4087C9.78034%2016.4087%2011.3677%2015.8638%2012.674%2014.9378L17.2091%2019.5508C17.5242%2019.8709%2017.9373%2020.0304%2018.3499%2020.0304C18.763%2020.0304%2019.1756%2019.8709%2019.4913%2019.5508C20.121%2018.9096%2020.121%2017.8709%2019.4908%2017.2299L14.901%2012.5614Z'%20fill='%23E0DCD4'/%3E%3C/svg%3E\") center no-repeat;position:absolute;height:21px;right:12px;top:clamp(.4375rem, .0348rem + 2.0134vw, 1rem);width:20px;}.hamburger .search-widget__submit.fa:before{display:none;}.hamburguer__brands{display:flex;justify-content:space-between;flex-wrap:wrap;row-gap:40px;}.hamburguer__brand{display:flex;align-items:center;}.hamburguer__brands .hamburguer__brands-row{column-gap:32px;display:flex;justify-content:space-between;width:100%;}.hamburguer__brand:hover svg > path, .hamburguer__brand:hover svg > g, .hamburguer__brand:hover svg > mask > rect, .hamburguer__brand:hover svg > g > rect{opacity:1;}.hamburger__menu{border-top:2px solid var(--additional, #e0dcd4);border-bottom:2px solid var(--additional, #e0dcd4);display:flex;flex-direction:column;row-gap:clamp(1.25rem, .7131rem + 2.6846vw, 2rem);padding:clamp(1.5rem, .6051rem + 4.4743vw, 2.75rem) 0;}.hamburger__menu a:hover{opacity:.4;}.hamburger__menu_item{position:relative;}.hamburger__menu_item .text-element{color:var(--additional-color);font-family:var(--secondary-font-family);font-size:clamp(1.5rem, .3367rem + 5.8166vw, 3.125rem);font-weight:600;letter-spacing:1.1px;line-height:var(--primary-line-height);text-transform:uppercase;position:relative;}.hamburger__menu_item.dropdown .text-element:hover{cursor:pointer;opacity:.4;}.dropdown-toggler{position:absolute;top:0;width:71px;right:0;cursor:pointer;}.dropdown-toggler:before{content:\"\";position:absolute;top:-6px;right:10px;transform:rotate(135deg)translateY(-50%);border:solid 1px var(--additional-color);border-width:1px 1px 0 0;width:15px;height:15px;}.dropdown.active .dropdown-toggler:before{transform:rotate(315deg)translate(-100%);right:-7px;}.hamburger__menu__dropdown{display:flex;}.hamburger__menu__dropdown .list{display:flex;flex-direction:column;margin:0;max-height:0;overflow:hidden;opacity:0;padding:0;row-gap:16px;transition:all .3s;width:50%;}.hamburger__menu__dropdown .list__item{color:var(--additional-color);font-size:clamp(.75rem, .3921rem + 1.7897vw, 1.25rem);font-weight:500;line-height:var(--primary-line-height);padding:0;width:fit-content;}.hamburger__nav{display:flex;padding-bottom:32px;}.hamburger__nav a:hover{opacity:.4;}.hamburger__nav .list{display:flex;flex-direction:column;row-gap:16px;width:50%;}.hamburger__nav .list__item{color:var(--additional-color);font-size:clamp(.75rem, .3921rem + 1.7897vw, 1.25rem);font-weight:500;line-height:var(--primary-line-height);padding:0;width:fit-content;}.hamburguer__footer{align-items:center;display:flex;justify-content:space-between;margin-bottom:0;}.hamburguer__footer .text-element{color:var(--additional-color);text-align:right;font-family:var(--primary-font-family);font-size:clamp(.5rem, .321rem + .8949vw, .75rem);font-style:normal;font-weight:500;line-height:var(--primary-line-height);}.hamburguer__footer .social-links{display:flex;justify-content:space-between;margin:0;min-width:101px;}.hamburguer__footer .social-links__link{height:14px;margin:0;width:14px;}.hamburguer__footer .social-links__link:hover{background:none;opacity:.4;}.hamburguer__footer .fa{color:var(--additional-color);font-size:13px;}.hamburguer__footer .fa-facebook:before{background-image:url(\"data:image/svg+xml,%3Csvg%20xmlns='http://www.w3.org/2000/svg'%20width='19'%20height='19'%20viewBox='0%200%2019%2019'%20fill='none'%3E%3Cpath%20d='M19%209.55781C19%204.27789%2014.748%200%209.5%200C4.25202%200%200%204.27789%200%209.55781C0%2014.3282%203.47401%2018.2824%208.01562%2019V12.3207H5.60232V9.55781H8.01562V7.45201C8.01562%205.05677%209.43296%203.73371%2011.6038%203.73371C12.6434%203.73371%2013.7306%203.92024%2013.7306%203.92024V6.27116H12.5323C11.3525%206.27116%2010.9844%207.00803%2010.9844%207.76379V9.55781H13.6191L13.1977%2012.3207H10.9844V19C15.526%2018.2824%2019%2014.3282%2019%209.55781Z'%20fill='%23E0DCD4'%3E%3C/path%3E%3C/svg%3E\");background-repeat:no-repeat;background-size:contain;background-position:center;content:\"\";display:block;height:13px;margin:0 auto;width:13px;}.hamburguer__footer .fa-youtube:before{background-image:url(\"data:image/svg+xml,%3Csvg%20xmlns='http://www.w3.org/2000/svg'%20width='21'%20height='15'%20viewBox='0%200%2021%2015'%20fill='none'%3E%3Cpath%20fill-rule='evenodd'%20clip-rule='evenodd'%20d='M20.5611%202.29545C20.3196%201.39188%2019.6082%200.680349%2018.7046%200.438866C17.0669%200%2010.5%200%2010.5%200C10.5%200%203.93309%200%202.29544%200.438866C1.39197%200.680349%200.680352%201.39188%200.438852%202.29545C0%203.93308%200%207.35%200%207.35C0%207.35%200%2010.7668%200.438852%2012.4047C0.680352%2013.3081%201.39197%2014.0197%202.29544%2014.2613C3.93309%2014.7%2010.5%2014.7%2010.5%2014.7C10.5%2014.7%2017.0669%2014.7%2018.7046%2014.2613C19.6082%2014.0197%2020.3196%2013.3081%2020.5611%2012.4047C21%2010.7668%2021%207.35%2021%207.35C21%207.35%2021%203.93308%2020.5611%202.29545ZM8.35227%2010.4523L13.8409%207.35012L8.35227%204.24771V10.4523Z'%20fill='%23E0DCD4'/%3E%3C/svg%3E\");content:\"\";background-repeat:no-repeat;background-size:contain;background-position:center;display:block;height:13px;margin:0 auto;width:13px;}.hamburguer__footer .fa-twitter:before{content:\"\";background-image:url(\"data:image/svg+xml,%3Csvg%20xmlns='http://www.w3.org/2000/svg'%20width='1200'%20height='1227'%20viewBox='0%200%201200%201227'%20fill='none'%3E%3Cpath%20d='M714.163%20519.284L1160.89%200H1055.03L667.137%20450.887L357.328%200H0L468.492%20681.821L0%201226.37H105.866L515.491%20750.218L842.672%201226.37H1200L714.137%20519.284H714.163ZM569.165%20687.828L521.697%20619.934L144.011%2079.6944H306.615L611.412%20515.685L658.88%20583.579L1055.08%201150.3H892.476L569.165%20687.854V687.828Z'%20fill='%23E0DCD4'/%3E%3C/svg%3E\");background-repeat:no-repeat;background-size:contain;background-position:center;display:block;height:12px;margin:0 auto;width:12px;}@media (min-width: 627px){.hamburger{max-width:627px;right:-627px;}}@media (min-width: 627px){.hamburger_inner{row-gap:72px;}}@media (min-width: 627px){.hamburger__menu{border-top:4px solid var(--additional, #e0dcd4);border-bottom:4px solid var(--additional, #e0dcd4);}}@media (min-width: 627px){.hamburger__menu__dropdown .list{row-gap:24px;}}@media (min-width: 627px){.hamburger__menu__dropdown .list__item{font-size:20px;}}@media (min-width: 627px){.dropdown-toggler:before{top:6px;}}@media (min-width: 627px){.hamburger__nav .list{row-gap:24px;}}@media (min-width: 627px){.hamburguer__footer .social-links{min-width:146px;}}@media (min-width: 627px){.hamburguer__footer .social-links__link{height:19px;width:19px;}}@media (min-width: 627px){.hamburguer__footer .fa{font-size:19px;}}@media (min-width: 627px){.hamburguer__footer .fa-facebook:before, .hamburguer__footer .fa-youtube:before{height:19px;width:19px;}}@media (min-width: 627px){.hamburguer__footer .fa-twitter:before{height:17px;width:17px;}}@media (min-width: 768px){.hamburger__menu_item .text-element{font-size:clamp(2rem, 4.4843vw - .1525rem, 2.625rem);}}@media (min-width: 768px){.dropdown-toggler:before{top:0;}}@media (min-width: 992px){.hamburguer__logo{width:clamp(10rem, 3.1548rem + 11.0406vw, 15.4375rem);}}@media (min-width: 992px){.hamburger{padding:clamp(2.3125rem, 4.3147vw - .3626rem, 4.4375rem) clamp(2rem, .4264rem + 2.5381vw, 3.25rem) clamp(2rem, .4264rem + 2.5381vw, 3.25rem);right:-627px;width:627px;}}@media (min-width: 992px){.hamburger .hamburger__toggle, .hamburger .hamburger__toggle > svg{height:clamp(2.5rem, .9264rem + 2.5381vw, 3.75rem);width:clamp(2.5rem, .9264rem + 2.5381vw, 3.75rem);}}@media (min-width: 992px){.hamburger .search-widget{padding:clamp(.6875rem, .3728rem + .5076vw, .9375rem) 12px;}}@media (min-width: 992px){.hamburger .search-widget__submit{top:clamp(.75rem, .4353rem + .5076vw, 1rem);}}@media (min-width: 992px){.hamburguer__main{row-gap:clamp(1.375rem, 3.2995vw - .6707rem, 3rem);}}@media (min-width: 992px){.hamburger__menu{padding:clamp(1.5rem, 2.5381vw - .0736rem, 2.75rem) 0;row-gap:clamp(1.25rem, .3058rem + 1.5228vw, 2rem);}}@media (min-width: 992px){.hamburger__menu_item .text-element{font-size:clamp(1.5rem, .0838rem + 2.2843vw, 2.625rem);}}@media (min-width: 992px){.hamburger__nav .list__item{font-size:clamp(.75rem, .1206rem + 1.0152vw, 1.25rem);}}@media (min-width: 992px){.hamburguer__brands .hamburguer__brands-row:last-child{column-gap:unset;justify-content:unset;}}@media (min-width: 992px){.hamburguer__brands .hamburguer__brands-row:last-child .hamburguer__brand:first-child{margin-right:100px;}}@media (min-width: 992px){.hamburguer__footer .text-element{font-size:clamp(.5rem, .1853rem + .5076vw, .75rem);}}.floating__container{display:none;}@media (min-width: 992px){.floating__container{align-items:center;border:2px solid var(--primary-accent-color);border-radius:50%;display:flex;height:clamp(2.5rem, .9264rem + 2.5381vw, 3.75rem);justify-content:center;position:fixed;right:clamp(2.5rem, .297rem + 3.5533vw, 4.25rem);top:clamp(2.3125rem, 4.3147vw - .3626rem, 4.4375rem);transition:right .6s, top .3s linear;width:clamp(2.5rem, .9264rem + 2.5381vw, 3.75rem);z-index:2;}}@media (min-width: 992px){.floating__container .hamburger__toggle{border-radius:50%;font-size:clamp(.5625rem, .2478rem + .5076vw, .8125rem);height:100%;padding:2px 0 0;text-align:center;width:100%;}}@media (min-width: 992px){.hamburger-opened .floating__container, .floating__container:hover{background-color:var(--primary-accent-color);}}@media (min-width: 992px){.hamburger-opened .floating__container .hamburger__toggle, .floating__container:hover .hamburger__toggle{color:var(--background-color);}}@media (min-width: 992px){.hamburger-opened .floating__container .hamburger__toggle, .floating__container .hamburger__toggle:hover{background-color:var(--primary-accent-color);color:var(--background-color);}}.floating-logo{display:none;}@media (min-width: 992px){.floating-logo{display:block;left:clamp(2.1875rem, 1.086rem + 1.7766vw, 3.0625rem);opacity:0;position:fixed;top:clamp(2.125rem, 4.8223vw - .8648rem, 4.5rem);width:fit-content;opacity:0;transition:left .6s, top .3s linear, opacity .6s ease-in-out;z-index:4;}}@media (min-width: 992px){.floating-logo .site-logo_link{display:block;}}@media (min-width: 992px){.floating-logo svg{height:clamp(9.375rem, 1.4283rem + 12.8173vw, 15.6875rem);width:clamp(1.5625rem, .2249rem + 2.1574vw, 2.625rem);}}.floating-copy{display:none;}@media (min-width: 992px){.floating-copy{display:block;left:clamp(2.5rem, .1396rem + 3.8071vw, 4.375rem);position:fixed;top:700px;transition:left .6s, opacity .6s ease-in-out;z-index:4;}}@media (min-width: 992px){.floating-copy .text-element{color:var(--primary-text-color, #2a2a2a);font-family:var(--secondary-font-family);font-size:10px;font-style:normal;font-weight:400;line-height:normal;letter-spacing:2px;text-orientation:sideways-right;text-transform:uppercase;transform:rotate(180deg);-webkit-font-smoothing:subpixel-antialiased;-webkit-writing-mode:vertical-lr;writing-mode:vertical-lr;}}@media (max-height: 800px){.floating-copy{display:none;}}@media (max-height: 1100px){.floating-copy{bottom:94px;top:unset;}}#ot-sdk-btn{display:none;}@media (min-width: 768px){.topbar{;}}@media (min-width: 992px){.topbar{height:clamp(8.8125rem, 1.81rem + 11.2944vw, 14.375rem);}}.ad-unit-in-article-wrapper, .ad-unit-top-article-wrapper, .ad-unit-bottom-article-wrapper{margin:0 0 26px;position:relative;}.ad-unit-in-article-wrapper:has(.ad-unit-in-article:empty), .ad-unit-top-article-wrapper:has(.ad-unit-top-article:empty), .ad-unit-bottom-article-wrapper:has(.ad-unit-bottom-article:empty){display:none;}.ad-unit-in-article, .ad-unit-top-article, .ad-unit-bottom-article{background-color:#f4f4f4;position:relative;left:0;right:0;margin-left:calc(50% - 50vw);width:100vw;z-index:1;}.post-tags .widget{display:flex;align-items:start;gap:24px;}.post-tags + .article__head{margin-top:0;}.article__head .widget .snark-line{width:100%;}@media (min-width: 992px){.post-tags.article__head{order:1;}}.article.article__head .snark-line{margin:clamp(1.78125rem, 1.9602rem - .8949vw, 1.53125rem) 0 0;}.tip-jar__container{visibility:hidden;}.tip-jar__button{align-items:center;border:1px solid var(--primary-accent-color);color:var(--primary-accent-color);column-gap:8px;display:flex;font-family:var(--primary-font-family);font-style:normal;font-size:14px;font-weight:500;height:27px;justify-content:center;line-height:var(--primary-line-height);padding:0 8.5px;text-transform:capitalize;}.tip-jar__button:hover{background-color:var(--primary-accent-color);color:var(--background-color);}.tip-jar__button svg > g > path{stroke:var(--primary-accent-color);}.tip-jar__button:hover svg > g > path{stroke:var(--background-color);}@media (min-width: 768px) and (max-width: 991px){.article__head{padding:0 !important;}}@media (min-width: 768px) and (max-width: 991px){.article__header-inner{padding:clamp(2rem, .278rem + 3.5874vw, 2.5rem) 0 40px !important;}}@media (min-width: 768px) and (max-width: 991px){.article__main .widget__body{padding:11px clamp(1.9375rem, 12.1076vw - 3.8742rem, 3.625rem) 0 !important;}}@media (min-width: 992px){.article.article__head .snark-line{margin:clamp(1.40625rem, .6981rem + 1.1421vw, 1.96875rem) 0 0;}}@media (min-width: 992px){.article__head{height:unset !important;}}@media (min-width: 992px){.article__head .widget .widget__body{padding:0 !important;}}.article__head{margin-top:20px;}.article__header-inner{padding:26px 0;}.article__lead .widget .widget__head .rm-lazyloadable-image{filter:none;opacity:1;mix-blend-mode:unset;}.article__lead .widget .widget__body, .article__head .widget .widget__body{padding:0;row-gap:0;}.article__lead .widget .photo-credit{color:var(--primary-text-color);font-family:var(--secondary-font-family);font-size:8px;font-style:normal;font-weight:400;line-height:normal;margin-top:6px;}.article__head .widget .post-tags-primary, .article__head .widget .post-tags-primary-link{color:var(--primary-accent-color);display:inline-block;font-feature-settings:\"clig\" off, \"liga\" off;font-family:var(--primary-font-family);font-size:14px;font-weight:700;line-height:var(--primary-line-height);letter-spacing:1px;}.article__head .widget .post-tags-primary{align-items:center;display:flex;min-height:24px;}.article__head .widget .widget__headline{color:var(--primary-text-color);font-family:var(--primary-font-family);font-feature-settings:\"clig\" off, \"liga\" off;font-size:30px;font-style:normal;font-weight:500;line-height:112%;letter-spacing:-.1px;margin-top:20px;}.article__head .widget .social-author{margin-top:16px;width:100%;column-gap:6px;}.article__head .widget .social-author__name{color:var(--primary-text-color);font-size:14px;letter-spacing:1.1px;}.article__head .widget .social-author__name:not(:first-of-type):before{color:var(--primary-text-color);content:\"& \";white-space:pre;}.article__head .widget .social-date{color:var(--primary-text-color);font-feature-settings:\"clig\" off, \"liga\" off;font-family:var(--primary-font-family);font-size:12px;font-style:normal;font-weight:500;line-height:var(--secondary-line-height);margin-top:3px;text-transform:uppercase;}@media (min-width: 768px){.article__header-inner{padding:clamp(2rem, .278rem + 3.5874vw, 2.5rem) 0 0;}}@media (min-width: 768px){.article__lead .widget .photo-credit{font-size:10px;margin-top:8px;}}@media (min-width: 768px){.article__head .widget .widget__headline{line-height:var(--secondary-line-height);}}@media (min-width: 768px){.article__head .widget .social-author{font-size:clamp(1rem, .5695rem + .8969vw, 1.125rem);column-gap:6px;}}@media (min-width: 768px){.article__head .widget .social-date{margin-top:6px;}}@media (min-width: 768px) and (max-width: 991px){.article__head{padding-bottom:40px;}}@media (min-width: 992px){.container.article__header-container{padding:0;position:relative;max-width:unset;}}@media (min-width: 992px){.article__header-inner{box-sizing:content-box;margin:0 auto;min-height:clamp(24.0625rem, 1.0879rem + 37.0558vw, 42.3125rem);padding:clamp(2.5rem, 5.8376vw - 1.1193rem, 5.375rem) 0 0;width:clamp(48rem, 2.2081rem + 73.8579vw, 84.375rem);}}@media (min-width: 992px){.article__lead{bottom:-59px;position:absolute;right:0;width:clamp(32.25rem, 67.8934vw - 9.8439rem, 65.6875rem);}}@media (min-width: 992px){.article__lead .widget .row .col{position:relative;right:0;}}@media (min-width: 992px){.article__lead .widget .widget__body{justify-content:flex-end;padding:0 0 38px;}}@media (min-width: 992px){.article__lead .widget .photo-credit{margin-top:9px;padding-right:clamp(2.1875rem, 4.0609vw - .3303rem, 4.1875rem);overflow:hidden;visibility:visible;display:-webkit-box;-webkit-line-clamp:1;-webkit-box-orient:vertical;}}@media (min-width: 992px){.article__head{width:clamp(20.375rem, 7.2354rem + 21.1929vw, 30.8125rem);}}@media (min-width: 992px){.article__head .widget .widget__body{align-items:flex-start;padding:0 0 38px;}}@media (min-width: 992px){.article__head .widget .all-related-sections, .article__head .widget .post-tags-primary{margin-bottom:clamp(1.5rem, 1.1066rem + .6345vw, 1.8125rem);}}@media (min-width: 992px){.article__head .widget .post-tags-primary{min-height:30px;}}@media (min-width: 992px){.article__head .widget .widget__headline{font-size:clamp(2.3125rem, .8963rem + 2.2843vw, 3.4375rem);line-height:110%;letter-spacing:-1px;margin:0;}}@media (min-width: 992px){.article__head .widget .social-author{column-gap:6px;margin-top:clamp(1.4375rem, .9654rem + .7614vw, 1.8125rem);}}@media (min-width: 992px){.article__head .widget .social-author__name{color:var(--primary-text-color);font-size:20px;display:table-caption;}}@media (min-width: 992px){.article__head .widget .social-date{font-size:14px;}}@media (min-width: 1780px){.article__header-inner{position:relative;}}@media (min-width: 1780px){.article__lead{bottom:-64px;left:514px;right:unset;}}@media (min-width: 1780px){.article__lead .widget .photo-credit{margin-top:14px;}}@media (min-width: 1780px){.article__head .widget .social-author__name{font-size:25px;}}.article__head .all-related-sections.is-original-post:before, .article__head .all-related-sections.is-exclusive-post:before{background-size:cover;background-position:center;background-repeat:no-repeat;content:\"\";display:block;}.article__head .all-related-sections.is-original-post:before{background-image:url(\"data:image/svg+xml,%3Csvg%20xmlns='http://www.w3.org/2000/svg'%20width='443'%20height='129'%20viewBox='0%200%20443%20129'%20fill='none'%3E%3Cg%20clip-path='url(%23clip0_337_47073)'%3E%3Cpath%20d='M123.444%2039.5308C120.209%2031.8607%20115.576%2024.9743%20109.677%2019.0607C103.777%2013.147%2096.9066%208.50327%2089.2547%205.26079C81.3332%201.9025%2072.9187%200.200195%2064.2463%200.200195C55.5738%200.200195%2047.1594%201.9025%2039.2379%205.26079C31.5859%208.50327%2024.7157%2013.147%2018.816%2019.0607C12.9163%2024.9743%208.2835%2031.8607%205.04866%2039.5308C1.69829%2047.4749%200%2055.9053%200%2064.5983C0%2073.2912%201.69829%2081.7255%205.04866%2089.6658C8.2835%2097.3358%2012.9163%20104.222%2018.816%20110.136C24.7157%20116.05%2031.5859%20120.693%2039.2379%20123.936C47.1594%20127.294%2055.5738%20128.996%2064.2463%20128.996C72.9187%20128.996%2081.3332%20127.294%2089.2547%20123.936C96.9066%20120.693%20103.777%20116.05%20109.677%20110.136C115.576%20104.222%20120.209%2097.3358%20123.444%2089.6658C126.794%2081.7255%20128.493%2073.2912%20128.493%2064.5983C128.493%2055.9053%20126.794%2047.471%20123.444%2039.5308ZM116.273%2086.6279C113.431%2093.3676%20109.357%2099.4202%20104.173%20104.62C98.9861%20109.819%2092.9478%20113.899%2086.2239%20116.748C79.2652%20119.697%2071.8712%20121.195%2064.2463%20121.195C56.6213%20121.195%2049.2274%20119.701%2042.2686%20116.748C35.5447%20113.899%2029.5064%20109.815%2024.3191%20104.62C19.1318%2099.4202%2015.0613%2093.3676%2012.2192%2086.6279C9.27706%2079.6527%207.78287%2072.2413%207.78287%2064.5983C7.78287%2056.9553%209.27321%2049.5439%2012.2192%2042.5687C15.0613%2035.8289%2019.1356%2029.7763%2024.3191%2024.5767C29.5064%2019.3772%2035.5447%2015.2971%2042.2686%2012.4483C49.2274%209.49918%2056.6213%208.00146%2064.2463%208.00146C71.8712%208.00146%2079.2652%209.49532%2086.2239%2012.4483C92.9478%2015.2971%2098.9861%2019.381%20104.173%2024.5767C109.361%2029.7763%20113.431%2035.8289%20116.273%2042.5687C119.215%2049.5439%20120.71%2056.9553%20120.71%2064.5983C120.71%2072.2413%20119.215%2079.6527%20116.273%2086.6279Z'%20fill='%23B7443C'/%3E%3Cpath%20d='M37.7859%2058.1828C31.0621%2049.2351%2039.1261%2036.3115%2024.1919%2029.2822C29.6218%2037.2881%2027.0147%2039.554%2028.6899%2046.3439C30.1571%2052.2962%2037.7859%2058.1828%2037.7859%2058.1828Z'%20fill='%23B7443C'/%3E%3Cpath%20d='M87.9799%2064.135C87.9799%2064.135%2093.2943%2060.908%2092.6473%2052.4428C92.0004%2043.9776%2085.1186%2039.6388%2075.8416%2039.2065H52.6855C52.5738%2039.2065%2052.4814%2039.2991%2052.4814%2039.4111V42.7501C41.2134%2037.6856%2046.8435%2023.1523%2046.8435%2023.1523C40.7281%2028.4021%2037.3315%2036.655%2037.4702%2043.5646C37.605%2050.4741%2039.0722%2058.0013%2046.2543%2065.0151C53.24%2071.8437%2069.3064%2071.3496%2069.3064%2071.3496C69.3064%2071.3496%2073.6465%2071.1025%2078.079%2071.8514C82.5153%2072.6002%2083.9479%2075.337%2082.9852%2079.8688C82.0186%2084.4006%2073.5618%2084.1226%2073.5618%2084.1226H64.5389V75.9971C64.5389%2075.9971%2061.1269%2076.36%2056.8446%2075.4606C56.2092%2075.3216%2055.5506%2075.1595%2054.8729%2074.9626C54.7573%2074.9279%2054.6456%2074.9009%2054.534%2074.8623C51.1951%2073.8548%2047.4789%2072.0482%2044.1555%2068.8251C44.1555%2068.8251%2046.4276%2072.2644%2047.1362%2075.3216C47.5405%2077.0664%2047.4327%2078.6876%2046.0964%2079.4674V79.4789C46.0964%2079.4789%2041.3789%2082.3277%2040.4316%2074.2022C39.6768%2067.7172%2037.2353%2063.0503%2036.2802%2061.4291C35.2482%2059.7268%2034.0466%2058.121%2032.6564%2056.7545C30.265%2054.0718%2026.9685%2051.8985%2022.4243%2051.0647C22.4243%2051.0647%2032.5794%2055.1796%2032.5794%2069.8943V77.5219C32.591%2077.7651%2032.5987%2078.0082%2032.6025%2078.2592C32.9337%2092.8889%2041.7563%2094.406%2047.7331%2094.5912H77.8056C77.8056%2094.5912%2096.352%2095.1625%2096.0747%2077.9967C95.9399%2069.6434%2090.5601%2065.4977%2087.9838%2064.1389L87.9799%2064.135ZM67.0497%2061.819C55.2772%2061.9193%2050.7985%2054.2223%2050.7985%2054.2223C50.4519%2057.4648%2051.5186%2059.4141%2051.5186%2059.4141C42.927%2053.7205%2044.1478%2041.8314%2044.1478%2041.8314C48.8191%2055.0754%2064.5735%2055.473%2064.5735%2055.473V49.6133C64.5735%2049.6133%2066.449%2049.6133%2073.0072%2049.6983C79.5655%2049.7832%2080.1932%2052.7477%2080.1932%2055.307C80.1932%2057.8662%2078.8261%2061.7186%2067.0497%2061.819Z'%20fill='%23B7443C'/%3E%3Cpath%20d='M198.419%2065.5709C198.419%2080.3358%20189.754%2091.6266%20174.254%2091.6266C158.754%2091.6266%20150.474%2080.6253%20150.474%2065.7639C150.474%2050.9025%20159.428%2039.7083%20174.832%2039.7083C189.177%2039.7083%20198.419%2050.034%20198.419%2065.5709ZM162.605%2065.6674C162.605%2075.7037%20167.13%2082.0729%20174.543%2082.0729C181.956%2082.0729%20186.192%2075.8002%20186.192%2065.7639C186.192%2055.0522%20182.052%2049.262%20174.35%2049.262C166.648%2049.262%20162.605%2054.8592%20162.605%2065.6674Z'%20fill='%23B7443C'/%3E%3Cpath%20d='M204.473%2054.2801C204.473%2048.683%20204.473%2044.5334%20204.377%2040.8663H216.122C216.315%2042.0243%20216.411%2046.6564%20216.411%2050.034C218.722%2044.0509%20224.209%2039.8048%20232.585%2039.7083V51.2886C222.573%2051.1921%20216.411%2054.7626%20216.411%2067.9835V90.4686H204.473V54.2801Z'%20fill='%23B7443C'/%3E%3Cpath%20d='M236.629%2031.6021V19.9253H248.567V31.6021H236.629ZM236.629%2040.8663H248.567V90.4686H236.629V40.8663Z'%20fill='%23B7443C'/%3E%3Cpath%20d='M301.268%2084.9679C301.268%20100.891%20295.106%20110.638%20277.295%20110.638C259.484%20110.638%20256.307%20101.084%20255.73%2095.1007H267.86C269.016%2099.1538%20272.193%20101.663%20277.777%20101.663C287.5%20101.663%20289.522%2095.6797%20289.522%2085.354V82.4589C286.923%2087.1875%20282.687%2089.9861%20275.081%2089.9861C262.373%2089.9861%20254.574%2079.5638%20254.574%2065.7639C254.574%2050.034%20263.913%2039.7083%20276.14%2039.7083C284.997%2039.7083%20288.656%2043.8579%20289.522%2046.4634C289.618%2044.8229%20289.907%2041.7348%20290.004%2040.8663H301.364C301.268%2044.7264%20301.268%2050.3235%20301.268%2055.1487V84.9679ZM278.354%2080.2393C287.404%2080.2393%20289.907%2073.9667%20289.907%2064.7989C289.907%2055.6312%20287.982%2049.455%20278.643%2049.455C271.615%2049.455%20266.898%2055.0522%20266.898%2065.2814C266.898%2074.4492%20271.615%2080.2393%20278.354%2080.2393Z'%20fill='%23B7443C'/%3E%3Cpath%20d='M309.921%2031.6021V19.9253H321.859V31.6021H309.921ZM309.921%2040.8663H321.859V90.4686H309.921V40.8663Z'%20fill='%23B7443C'/%3E%3Cpath%20d='M330.543%2053.3151C330.543%2049.069%20330.543%2044.6299%20330.447%2040.8663H342C342.289%2042.2173%20342.481%2046.2704%20342.481%2047.8145C344.214%2044.3404%20348.258%2039.7083%20357.211%2039.7083C366.935%2039.7083%20373.674%2046.0774%20373.674%2058.8158V90.4686H361.736V60.1668C361.736%2053.9906%20359.522%2049.5515%20352.975%2049.5515C345.947%2049.5515%20342.481%2054.0871%20342.481%2063.2549V90.4686H330.543V53.3151Z'%20fill='%23B7443C'/%3E%3Cpath%20d='M422.209%2078.3092C422.209%2082.9413%20422.594%2089.214%20422.882%2090.4685H411.426C411.041%2089.407%20410.752%2086.8979%20410.656%2085.0644C408.923%2088.056%20405.36%2091.6266%20396.311%2091.6266C384.469%2091.6266%20379.462%2083.8099%20379.462%2076.1862C379.462%2064.9919%20388.416%2059.7807%20402.954%2059.7807H410.463V56.4031C410.463%2052.543%20409.211%2048.4899%20401.798%2048.4899C395.252%2048.4899%20393.904%2051.4815%20393.23%2055.1486H381.773C382.447%2047.0424%20387.55%2039.6117%20402.28%2039.7082C415.18%2039.8047%20422.209%2044.9193%20422.209%2056.4996V78.3092ZM410.559%2067.3079H404.109C395.348%2067.3079%20391.497%2069.9135%20391.497%2075.5106C391.497%2079.5638%20394.192%2082.8448%20399.488%2082.8448C409.308%2082.8448%20410.559%2076.0897%20410.559%2068.7555V67.3079Z'%20fill='%23B7443C'/%3E%3Cpath%20d='M430.889%2090.4686V19.9253H442.827V90.4686H430.889Z'%20fill='%23B7443C'/%3E%3C/g%3E%3Cdefs%3E%3CclipPath%20id='clip0_337_47073'%3E%3Crect%20width='442.827'%20height='128.8'%20fill='white'%20transform='translate(0%200.200195)'/%3E%3C/clipPath%3E%3C/defs%3E%3C/svg%3E\");height:24px;width:82px;}.widget.is-exclusive .widget__headline-text:before{content:\"\";}.article__head .all-related-sections.is-exclusive-post:before{background-image:url(\"data:image/svg+xml,%3Csvg%20xmlns='http://www.w3.org/2000/svg'%20width='509'%20height='129'%20viewBox='0%200%20509%20129'%20fill='none'%3E%3Cg%20clip-path='url(%23clip0_337_46985)'%3E%3Cpath%20d='M122.364%2039.5308C119.157%2031.8607%20114.565%2024.9743%20108.717%2019.0607C102.869%2013.147%2096.0588%208.50327%2088.4738%205.26079C80.6216%201.9025%2072.2807%200.200195%2063.6842%200.200195C55.0876%200.200195%2046.7468%201.9025%2038.8946%205.26079C31.3096%208.50327%2024.4995%2013.147%2018.6514%2019.0607C12.8033%2024.9743%208.21103%2031.8607%205.00449%2039.5308C1.68343%2047.4749%200%2055.9053%200%2064.5983C0%2073.2912%201.68343%2081.7255%205.00449%2089.6658C8.21103%2097.3358%2012.8033%20104.222%2018.6514%20110.136C24.4995%20116.05%2031.3096%20120.693%2038.8946%20123.936C46.7468%20127.294%2055.0876%20128.996%2063.6842%20128.996C72.2807%20128.996%2080.6216%20127.294%2088.4738%20123.936C96.0588%20120.693%20102.869%20116.05%20108.717%20110.136C114.565%20104.222%20119.157%2097.3358%20122.364%2089.6658C125.685%2081.7255%20127.368%2073.2912%20127.368%2064.5983C127.368%2055.9053%20125.685%2047.471%20122.364%2039.5308ZM115.256%2086.6279C112.439%2093.3676%20108.4%2099.4202%20103.262%20104.62C98.1201%20109.819%2092.1346%20113.899%2085.4695%20116.748C78.5717%20119.697%2071.2424%20121.195%2063.6842%20121.195C56.1259%20121.195%2048.7967%20119.701%2041.8988%20116.748C35.2338%20113.899%2029.2482%20109.815%2024.1063%20104.62C18.9644%2099.4202%2014.9295%2093.3676%2012.1123%2086.6279C9.1959%2079.6527%207.71478%2072.2413%207.71478%2064.5983C7.71478%2056.9553%209.19208%2049.5439%2012.1123%2042.5687C14.9295%2035.8289%2018.9682%2029.7763%2024.1063%2024.5767C29.2482%2019.3772%2035.2338%2015.2971%2041.8988%2012.4483C48.7967%209.49918%2056.1259%208.00146%2063.6842%208.00146C71.2424%208.00146%2078.5717%209.49532%2085.4695%2012.4483C92.1346%2015.2971%2098.1201%2019.381%20103.262%2024.5767C108.404%2029.7763%20112.439%2035.8289%20115.256%2042.5687C118.172%2049.5439%20119.654%2056.9553%20119.654%2064.5983C119.654%2072.2413%20118.172%2079.6527%20115.256%2086.6279Z'%20fill='%23B7443C'/%3E%3Cpath%20d='M37.4553%2058.1828C30.7903%2049.2351%2038.7837%2036.3115%2023.9802%2029.2822C29.3626%2037.2881%2026.7783%2039.554%2028.4388%2046.3439C29.8932%2052.2962%2037.4553%2058.1828%2037.4553%2058.1828Z'%20fill='%23B7443C'/%3E%3Cpath%20d='M87.2103%2064.135C87.2103%2064.135%2092.4782%2060.908%2091.8369%2052.4428C91.1956%2043.9776%2084.3741%2039.6388%2075.1782%2039.2065H52.2247C52.114%2039.2065%2052.0224%2039.2991%2052.0224%2039.4111V42.7501C40.8529%2037.6856%2046.4338%2023.1523%2046.4338%2023.1523C40.3719%2028.4021%2037.0051%2036.655%2037.1425%2043.5646C37.2761%2050.4741%2038.7305%2058.0013%2045.8498%2065.0151C52.7744%2071.8437%2068.7002%2071.3496%2068.7002%2071.3496C68.7002%2071.3496%2073.0023%2071.1025%2077.396%2071.8514C81.7936%2072.6002%2083.2136%2075.337%2082.2593%2079.8688C81.3011%2084.4006%2072.9183%2084.1226%2072.9183%2084.1226H63.9744V75.9971C63.9744%2075.9971%2060.5922%2076.36%2056.3474%2075.4606C55.7175%2075.3216%2055.0648%2075.1595%2054.3929%2074.9626C54.2784%2074.9279%2054.1677%2074.9009%2054.057%2074.8623C50.7474%2073.8548%2047.0637%2072.0482%2043.7693%2068.8251C43.7693%2068.8251%2046.0216%2072.2644%2046.7239%2075.3216C47.1248%2077.0664%2047.0179%2078.6876%2045.6933%2079.4674V79.4789C45.6933%2079.4789%2041.0171%2082.3277%2040.078%2074.2022C39.3298%2067.7172%2036.9096%2063.0503%2035.9629%2061.4291C34.9399%2059.7268%2033.7489%2058.121%2032.3709%2056.7545C30.0003%2054.0718%2026.7327%2051.8985%2022.2283%2051.0647C22.2283%2051.0647%2032.2945%2055.1796%2032.2945%2069.8943V77.5219C32.306%2077.7651%2032.3136%2078.0082%2032.3174%2078.2592C32.6457%2092.8889%2041.3912%2094.406%2047.3156%2094.5912H77.125C77.125%2094.5912%2095.5091%2095.1625%2095.2343%2077.9967C95.1007%2069.6434%2089.7679%2065.4977%2087.2141%2064.1389L87.2103%2064.135ZM66.4632%2061.819C54.7937%2061.9193%2050.3542%2054.2223%2050.3542%2054.2223C50.0106%2057.4648%2051.068%2059.4141%2051.068%2059.4141C42.5516%2053.7205%2043.7617%2041.8314%2043.7617%2041.8314C48.3921%2055.0754%2064.0087%2055.473%2064.0087%2055.473V49.6133C64.0087%2049.6133%2065.8677%2049.6133%2072.3686%2049.6983C78.8695%2049.7832%2079.4917%2052.7477%2079.4917%2055.307C79.4917%2057.8662%2078.1366%2061.7186%2066.4632%2061.819Z'%20fill='%23B7443C'/%3E%3Cpath%20d='M161.087%2068.1765C161.087%2075.6072%20164.808%2082.0729%20172.157%2082.0729C178.455%2082.0729%20180.459%2079.1778%20181.795%2075.9932H193.725C191.911%2082.1694%20186.567%2091.6266%20171.775%2091.6266C155.933%2091.6266%20149.157%2079.2743%20149.157%2066.343C149.157%2050.9991%20156.888%2039.7083%20172.348%2039.7083C188.857%2039.7083%20194.393%2052.1571%20194.393%2063.9304C194.393%2065.5709%20194.393%2066.729%20194.202%2068.1765H161.087ZM182.463%2060.5528C182.368%2053.8941%20179.505%2048.49%20172.252%2048.49C164.999%2048.49%20162.041%2053.5081%20161.373%2060.5528H182.463Z'%20fill='%23B7443C'/%3E%3Cpath%20d='M206.387%2040.8665C212.113%2050.8062%20214.498%2054.7628%20216.025%2057.4649H216.121C217.934%2054.3768%20221.274%2048.5867%20225.95%2040.8665H239.12L222.992%2064.5096L239.12%2090.4688H225.664C220.702%2081.5905%20217.457%2075.8004%20215.835%2072.8088H215.739C214.403%2075.5109%20210.777%2081.9765%20206.005%2090.4688H192.931L208.582%2066.0536L193.217%2040.8665H206.387Z'%20fill='%23B7443C'/%3E%3Cpath%20d='M281.607%2074.7387C279.794%2083.0379%20274.068%2091.6266%20260.134%2091.6266C245.438%2091.6266%20237.421%2081.2043%20237.421%2065.9569C237.421%2051.5781%20245.915%2039.7083%20260.802%2039.7083C276.453%2039.7083%20281.225%2051.0956%20281.607%2056.9822H269.964C269.01%2052.5431%20266.433%2049.262%20260.516%2049.262C253.454%2049.262%20249.541%2055.4382%20249.541%2065.5709C249.541%2076.3792%20253.55%2082.1694%20260.421%2082.1694C265.574%2082.1694%20268.437%2079.1778%20269.869%2074.7387H281.607Z'%20fill='%23B7443C'/%3E%3Cpath%20d='M287.111%2090.4686V19.9253H298.945V90.4686H287.111Z'%20fill='%23B7443C'/%3E%3Cpath%20d='M349.44%2075.9934C349.44%2080.8185%20349.44%2086.5121%20349.536%2090.4688H337.988C337.798%2089.1177%20337.702%2086.3191%20337.607%2084.1961C334.839%2089.3107%20330.354%2091.6268%20323.673%2091.6268C314.226%2091.6268%20307.354%2086.1261%20307.354%2073.2913V40.8665H319.188V70.8787C319.188%2076.6689%20320.906%2081.687%20327.586%2081.687C334.744%2081.687%20337.607%2077.7304%20337.607%2067.1151V40.8665H349.44V75.9934Z'%20fill='%23B7443C'/%3E%3Cpath%20d='M366.473%2075.8002C367.618%2080.2393%20371.054%2082.7484%20376.684%2082.7484C382.315%2082.7484%20384.605%2080.5288%20384.605%2077.0547C384.605%2073.2911%20382.41%2071.7471%20374.68%2069.817C359.316%2066.0534%20356.644%2061.2283%20356.644%2054.3766C356.644%2047.1389%20361.701%2039.7083%20375.73%2039.7083C389.759%2039.7083%20395.007%2047.6215%20395.485%2054.4731H384.128C383.651%2052.1571%20382.029%2048.297%20375.253%2048.297C369.909%2048.297%20368.286%2050.806%20368.286%2053.4116C368.286%2056.2102%20370.004%2057.6577%20378.307%2059.6843C394.149%2063.3514%20396.725%2068.852%20396.725%2076.1862C396.725%2084.4854%20390.331%2091.6266%20376.303%2091.6266C362.274%2091.6266%20355.976%2084.5819%20354.83%2075.8002H366.473Z'%20fill='%23B7443C'/%3E%3Cpath%20d='M402.612%2031.6021V19.9253H414.445V31.6021H402.612ZM402.612%2040.8663H414.445V90.4686H402.612V40.8663Z'%20fill='%23B7443C'/%3E%3Cpath%20d='M430.68%2040.8665C436.024%2058.8159%20440.223%2073.6773%20441.369%2079.757H441.464C442.8%2072.4228%20447.667%2057.5614%20453.011%2040.8665H464.845L447.285%2090.4688H434.688L417.892%2040.8665H430.68Z'%20fill='%23B7443C'/%3E%3Cpath%20d='M475.694%2068.1765C475.694%2075.6072%20479.416%2082.0729%20486.764%2082.0729C493.063%2082.0729%20495.067%2079.1778%20496.403%2075.9932H508.332C506.519%2082.1694%20501.175%2091.6266%20486.382%2091.6266C470.541%2091.6266%20463.765%2079.2743%20463.765%2066.343C463.765%2050.9991%20471.495%2039.7083%20486.955%2039.7083C503.465%2039.7083%20509%2052.1571%20509%2063.9304C509%2065.5709%20509%2066.729%20508.809%2068.1765H475.694ZM497.071%2060.5528C496.975%2053.8941%20494.112%2048.49%20486.86%2048.49C479.607%2048.49%20476.648%2053.5081%20475.98%2060.5528H497.071Z'%20fill='%23B7443C'/%3E%3C/g%3E%3Cdefs%3E%3CclipPath%20id='clip0_337_46985'%3E%3Crect%20width='509'%20height='128.8'%20fill='white'%20transform='translate(0%200.200195)'/%3E%3C/clipPath%3E%3C/defs%3E%3C/svg%3E\");height:24px;width:95px;}.article__head .widget .widget__headline .widget__headline-text:before, .article__head .custom-field-breaking + .all-related-sections{display:none;}@media (min-width: 768px){.article__head .all-related-sections.is-original-post:before{height:30px;width:103px;}}@media (min-width: 768px){.article__head .all-related-sections.is-exclusive-post:before{height:30px;width:120px;}}.article__main{padding-bottom:var(--horizontal-spacing-between-current-post-items);}.article__main .posts-wrapper{display:inherit;}.article__main .widget__body{display:block;padding:47px 0 0;}.article__main .body{padding:0 0 var(--horizontal-spacing-between-current-post-items);}.article__main .widget__subheadline{color:var(--secondary-text-color);font-feature-settings:\"clig\" off, \"liga\" off;font-family:var(--primary-font-family);font-size:22px;font-style:normal;font-weight:400;line-height:var(--quaternary-line-height);padding:0 0 var(--horizontal-spacing-between-current-post-items);text-transform:none;}.article__main .body-description p, .article__main .body-descriptioarticle__leadn ul li, .article__main .body-description ol li{color:var(--primary-text-color);font-feature-settings:\"clig\" off, \"liga\" off;font-family:var(--tertiary-font-family);font-size:clamp(1rem, .821rem + .8949vw, 1.25rem);font-style:normal;font-weight:400;line-height:187.5%;margin:0 0 var(--horizontal-spacing-between-current-post-items);}.article__main .body-description{font-size:20px;line-height:175%;}.article__main .body-description p{margin:0 0 26px;}.article__main .body-description ul li, .article__main .body-description ol li{margin:0;}.article__main .body-description ul li::marker{font-family:var(--secondary-font-family);}.article__main .body-description p a{text-decoration:none;border-bottom:2px solid #000;}.article__main .body-description > p:first-child:first-letter{font-family:-apple-system, Acumin Pro, sans-serif;font-size:3em;font-weight:500;letter-spacing:-.01em;margin-right:.1em;display:inline-block;vertical-align:top;-webkit-initial-letter:3;initial-letter:3;padding:.1em;}.article__main .body-description > p:first-letter{border-bottom:none;}.article__main .body-description p a{color:var(--primary-text-color);}.article__main .body-description a:hover{color:var(--primary-accent-color);}.article__main .body-description blockquote{border-left:7px solid var(--primary-text-color);font-feature-settings:\"clig\" off, \"liga\" off;font-size:16px;line-height:187.5%;margin:0 0 clamp(1.625rem, .1037rem + 7.6063vw, 3.75rem);padding:0 0 0 18px;}.article__main small.media-caption:has( + .media-photo-credit){border-bottom:1px solid #c8bfb0;}.article__main p:empty{display:none;}.article__main .ad-tag{display:none;}.article__main .rebellt-item .media-caption:has( + .media-photo-credit) > p{;}.article__main .widget__shares{column-gap:20px;display:flex;justify-content:center;}.article__main .widget__shares .share{background-color:#0000;height:20px;margin:0;width:21px;}.article__main .widget__shares .share:hover .icons-share{color:var(--primary-accent-color);}.article__main .widget__shares .share .fa{color:#aaa69e;font-size:18px;}.article__main .widget__shares .share.share-fb{background-color:#aaa69e;}.article__main .widget__shares .share.share-fb:hover{background-color:var(--primary-accent-color);}.article__main .widget__shares .share .fa.fa-facebook{color:var(--background-color);top:6px;}.article__main .widget__shares .share .fa.fa-twitter{font-size:20px;bottom:0;}.article__main .fa-twitter:before{background-image:url(\"data:image/svg+xml,%3Csvg%20xmlns='http://www.w3.org/2000/svg'%20width='1200'%20height='1227'%20viewBox='0%200%201200%201227'%20fill='none'%3E%3Cpath%20d='M714.163%20519.284L1160.89%200H1055.03L667.137%20450.887L357.328%200H0L468.492%20681.821L0%201226.37H105.866L515.491%20750.218L842.672%201226.37H1200L714.137%20519.284H714.163ZM569.165%20687.828L521.697%20619.934L144.011%2079.6944H306.615L611.412%20515.685L658.88%20583.579L1055.08%201150.3H892.476L569.165%20687.854V687.828Z'%20fill='%23aaa69e'/%3E%3C/svg%3E\");content:\"\";background-repeat:no-repeat;background-size:contain;background-position:center;display:block;height:20px;margin:0 auto;width:15px;}.article__main .share-tw:hover i:before{background-image:url(\"data:image/svg+xml,%3Csvg%20xmlns='http://www.w3.org/2000/svg'%20width='1200'%20height='1227'%20viewBox='0%200%201200%201227'%20fill='none'%3E%3Cpath%20d='M714.163%20519.284L1160.89%200H1055.03L667.137%20450.887L357.328%200H0L468.492%20681.821L0%201226.37H105.866L515.491%20750.218L842.672%201226.37H1200L714.137%20519.284H714.163ZM569.165%20687.828L521.697%20619.934L144.011%2079.6944H306.615L611.412%20515.685L658.88%20583.579L1055.08%201150.3H892.476L569.165%20687.854V687.828Z'%20fill='%23B7443C'/%3E%3C/svg%3E\");}.article__main .share-copy-link i{margin:0;}.article__main .share-copy-link svg{display:none;}.article__main .share-copy-link i:before{background-image:url(\"data:image/svg+xml,%3Csvg%20xmlns='http://www.w3.org/2000/svg'%20width='22'%20height='21'%20viewBox='0%200%2022%2021'%20fill='none'%3E%3Cpath%20fill-rule='evenodd'%20clip-rule='evenodd'%20d='M12.9527%2010.7194C13.1602%2010.528%2013.8855%209.8327%2014.3453%209.39194L14.3458%209.39147C14.5009%209.24279%2014.6258%209.12312%2014.6902%209.06162C15.2572%209.01849%2015.7974%208.78535%2016.2233%208.37899L18.6762%206.03855C19.6358%205.12297%2019.6358%203.63851%2018.6762%202.72292C17.7166%201.80734%2016.1608%201.80734%2015.2012%202.72292L12.7483%205.06337C12.3223%205.46984%2012.078%205.98498%2012.0329%206.52614L10.2954%208.18396C9.69742%206.64435%2010.0593%204.89853%2011.3174%203.69811L13.7704%201.35767C15.5202%20-0.31193%2018.3573%20-0.31193%2020.1071%201.35767C21.8569%203.02726%2021.8569%205.73421%2020.1071%207.40381L17.6542%209.74425C16.3966%2010.9442%2014.566%2011.2891%2012.9527%2010.7194ZM11.6241%2011.987C12.2211%2013.5263%2011.8596%2015.2729%2010.602%2016.4728L8.14911%2018.8133C6.39927%2020.4829%203.56222%2020.4829%201.81238%2018.8133C0.0625402%2017.1437%200.0625402%2014.4367%201.81238%2012.7671L4.26531%2010.4267C5.52342%209.22626%207.35314%208.88095%208.96675%209.4515L7.22926%2011.1093C6.66208%2011.1524%206.12219%2011.3855%205.69618%2011.7919L3.24325%2014.1324C2.28366%2015.048%202.28366%2016.5324%203.24325%2017.448C4.20284%2018.3636%205.75864%2018.3636%206.71823%2017.448L9.17116%2015.1076C9.59705%2014.7012%209.84139%2014.1858%209.8866%2013.6448C9.95113%2013.5832%2010.0768%2013.4639%2010.2329%2013.3157C10.6948%2012.8769%2011.4234%2012.185%2011.6241%2011.987ZM13.2588%206.52634L7.3309%2012.1824C6.93578%2012.5594%206.93578%2013.1707%207.3309%2013.5477C7.72603%2013.9247%208.36665%2013.9247%208.76178%2013.5477L14.6897%207.8916C15.0848%207.51459%2015.0848%206.90334%2014.6897%206.52634C14.2946%206.14933%2013.6539%206.14933%2013.2588%206.52634Z'%20fill='%23aaa69e'/%3E%3C/svg%3E\");content:\"\";background-repeat:no-repeat;background-size:cover;display:block;height:20px;width:21px;}.article__main .share-copy-link:hover i:before{background-image:url(\"data:image/svg+xml,%3Csvg%20xmlns='http://www.w3.org/2000/svg'%20width='22'%20height='21'%20viewBox='0%200%2022%2021'%20fill='none'%3E%3Cpath%20fill-rule='evenodd'%20clip-rule='evenodd'%20d='M12.9527%2010.7194C13.1602%2010.528%2013.8855%209.8327%2014.3453%209.39194L14.3458%209.39147C14.5009%209.24279%2014.6258%209.12312%2014.6902%209.06162C15.2572%209.01849%2015.7974%208.78535%2016.2233%208.37899L18.6762%206.03855C19.6358%205.12297%2019.6358%203.63851%2018.6762%202.72292C17.7166%201.80734%2016.1608%201.80734%2015.2012%202.72292L12.7483%205.06337C12.3223%205.46984%2012.078%205.98498%2012.0329%206.52614L10.2954%208.18396C9.69742%206.64435%2010.0593%204.89853%2011.3174%203.69811L13.7704%201.35767C15.5202%20-0.31193%2018.3573%20-0.31193%2020.1071%201.35767C21.8569%203.02726%2021.8569%205.73421%2020.1071%207.40381L17.6542%209.74425C16.3966%2010.9442%2014.566%2011.2891%2012.9527%2010.7194ZM11.6241%2011.987C12.2211%2013.5263%2011.8596%2015.2729%2010.602%2016.4728L8.14911%2018.8133C6.39927%2020.4829%203.56222%2020.4829%201.81238%2018.8133C0.0625402%2017.1437%200.0625402%2014.4367%201.81238%2012.7671L4.26531%2010.4267C5.52342%209.22626%207.35314%208.88095%208.96675%209.4515L7.22926%2011.1093C6.66208%2011.1524%206.12219%2011.3855%205.69618%2011.7919L3.24325%2014.1324C2.28366%2015.048%202.28366%2016.5324%203.24325%2017.448C4.20284%2018.3636%205.75864%2018.3636%206.71823%2017.448L9.17116%2015.1076C9.59705%2014.7012%209.84139%2014.1858%209.8866%2013.6448C9.95113%2013.5832%2010.0768%2013.4639%2010.2329%2013.3157C10.6948%2012.8769%2011.4234%2012.185%2011.6241%2011.987ZM13.2588%206.52634L7.3309%2012.1824C6.93578%2012.5594%206.93578%2013.1707%207.3309%2013.5477C7.72603%2013.9247%208.36665%2013.9247%208.76178%2013.5477L14.6897%207.8916C15.0848%207.51459%2015.0848%206.90334%2014.6897%206.52634C14.2946%206.14933%2013.6539%206.14933%2013.2588%206.52634Z'%20fill='%23B7443C'/%3E%3C/svg%3E\");}@media (min-width: 768px){.article__main-container.container{padding:0 clamp(2.5rem, 31.3901vw - 12.5673rem, 6.875rem);}}@media (min-width: 768px){.article__main .widget__body{padding:67px clamp(1.9375rem, 12.1076vw - 3.8742rem, 3.625rem) 0;}}@media (min-width: 768px){.article__main .widget__subheadline{font-size:clamp(1.5rem, 3.5874vw - .222rem, 2rem);min-width:637px;}}@media (min-width: 768px){.article__main .body-description p, .article__main .body-description ul li, .article__main .body-description ol li{font-size:20px;line-height:175%;}}@media (min-width: 768px){.article__main .body-description blockquote{font-size:20px;line-height:170%;}}@media (min-width: 768px){.article__main .widget__shares{column-gap:30px;}}@media (min-width: 768px){.article__main .widget__shares .share{height:32px;width:33px;}}@media (min-width: 768px){.article__main .widget__shares .share .fa{font-size:28px;}}@media (min-width: 768px){.article__main .widget__shares .share .fa.fa-facebook{top:10px;}}@media (min-width: 768px){.article__main .widget__shares .share .fa.fa-twitter{font-size:35px;}}@media (min-width: 768px){.article__main .share-copy-link i:before{height:28px;left:2px;position:relative;top:3px;width:29px;}}@media (min-width: 768px){.article__main .fa-twitter:before{height:28px;position:relative;top:3px;width:23px;}}@media (min-width: 992px){.container.article__main-container{padding:0;}}@media (min-width: 992px){.article__main .widget__body{padding:clamp(5.75rem, 3.2322rem + 4.0609vw, 7.75rem) clamp(3.625rem, 2.7595rem + 1.3959vw, 4.3125rem) 0;}}@media (min-width: 992px){.article__main .widget__subheadline{font-size:clamp(1.6875rem, 1.2941rem + .6345vw, 2rem);}}@media (min-width: 992px){.article__main .body-description blockquote{padding:0 0 0 33px;}}@media (min-width: 1780px){.article__main .widget__subheadline{padding:0 4px var(--horizontal-spacing-between-current-post-items);}}.tip-jar-support__container{align-items:center;display:none;flex-direction:column;justify-content:center;margin:0 auto clamp(3.125rem, 2.6776rem + 2.2371vw, 3.75rem);max-width:443px;row-gap:clamp(.5625rem, .4283rem + .6711vw, .75rem);}.tip-jar-support__heading{color:var(--primary-accent-color);font-feature-settings:\"clig\" off, \"liga\" off;font-family:var(--primary-font-family);font-size:clamp(1.5625rem, 1.2493rem + 1.566vw, 2rem);font-style:normal;font-weight:500;line-height:var(--quaternary-line-height);letter-spacing:-.444px;margin:0;}.tip-jar-support__heading svg{height:clamp(1.375rem, 1.0171rem + 1.7897vw, 1.875rem);width:clamp(1.5rem, 1.1421rem + 1.7897vw, 2rem);}.tip-jar-support__heading svg > g > path{stroke:var(--primary-accent-color);}.tip-jar-support__container .text-element{color:var(--secondary-text-color);text-align:center;font-family:var(--primary-font-family);font-size:17px;font-style:italic;font-weight:500;line-height:var(--quaternary-line-height);letter-spacing:-.444px;}.tip-jar-support__button{color:var(--primary-accent-color);font-family:var(--primary-font-family);font-size:20px;font-style:normal;font-weight:500;line-height:var(--quaternary-line-height);letter-spacing:-.444px;text-align:center;}.tip-jar-support__button:hover{color:var(--primary-text-color);}.comments__disqus{display:none;min-height:0;margin:0 0 var(--horizontal-spacing-between-current-post-items);transition:min-height .5s;}.comments__button{align-items:center;align-self:stretch;border:1px solid var(--primary-accent-color);color:var(--primary-accent-color);display:flex;font-family:var(--primary-font-family);font-size:20px;font-style:normal;font-weight:500;gap:10px;line-height:var(--primary-line-height);height:40px;justify-content:center;margin:0 0 var(--horizontal-spacing-between-current-post-items);text-align:center;padding:0 10px;text-transform:capitalize;width:100%;}.comments__button:hover{background-color:var(--primary-accent-color);color:var(--additional-color);}.with-cta .cta{display:none;}.with-cta .cta .text-element{color:var(--background-color);font-family:var(--primary-font-family);font-weight:500;letter-spacing:-.444px;}.with-cta .cta .text-element:first-child{font-size:clamp(1.5625rem, 1.3388rem + 1.1186vw, 1.875rem);line-height:110%;}.with-cta .cta .cta__subscribe{color:var(--primary-accent-color);font-family:var(--primary-font-family);font-size:clamp(1.5625rem, 1.3388rem + 1.1186vw, 1.875rem);font-weight:500;letter-spacing:-.444px;}.with-cta .cta .cta__subscribe span{font-weight:700;}.with-cta .cta .text-element:not(:first-child){font-size:17px;font-style:italic;line-height:var(--quaternary-line-height);}.with-cta .cta .cta__sign-in{color:var(--background-color);font-family:var(--primary-font-family);font-size:17px;font-style:italic;font-weight:500;letter-spacing:-.444px;line-height:var(--quaternary-line-height);text-decoration:underline;}@media (min-width: 768px){.container.comments__container{padding:0 clamp(4.375rem, 17.9372vw - 4.2349rem, 6.875rem);}}@media (min-width: 768px){.with-cta .cta .text-element:first-child{line-height:110%;}}@media (min-width: 991px){.container.comments__container{padding:0;width:clamp(47.875rem, 38.276rem + 15.4822vw, 55.5rem);}}.article__authors{display:none;}.container .author{border-top:7px solid var(--primary-text-color);width:100%;}.author__inner{display:flex;column-gap:5px;padding:20px 0;}.author__left .author__image{height:95px;filter:brightness(1.1);min-width:95px;mix-blend-mode:multiply;}.author__right{display:flex;flex-direction:column;justify-content:center;}.author__right .author__name{color:var(--primary-accent-color);font-feature-settings:\"clig\" off, \"liga\" off;font-family:var(--primary-font-family);font-size:clamp(1rem, .5973rem + 2.0134vw, 1.5625rem);font-style:normal;font-weight:700;line-height:var(--primary-line-height);letter-spacing:1.25px;margin:0 0 5px;padding:0;text-transform:uppercase;}.author__right .author__title{color:var(--primary-text-color);font-family:var(--primary-font-family);font-size:14px;font-style:normal;font-weight:700;line-height:140%;letter-spacing:2.1px;margin:0 0 11px;text-transform:uppercase;}.author__right .author__description, .author__right .author__description > p > a:first-of-type{color:var(--primary-text-color);font-family:var(--primary-font-family);font-size:clamp(.875rem, .696rem + .8949vw, 1.125rem);font-style:normal;font-weight:400;line-height:140%;margin:0 0 11px;}.author__right .author__description a:hover{color:var(--primary-accent-color);}.author__right .author__link{color:var(--primary-text-color);font-family:var(--primary-font-family);font-size:clamp(.875rem, .696rem + .8949vw, 1.125rem);font-style:normal;font-weight:700;line-height:140%;}@media (min-width: 768px){.container.author__container{padding:0 clamp(4.375rem, 17.9372vw - 4.2349rem, 6.875rem);}}@media (min-width: 768px){.author{margin:0 0 calc(var(--horizontal-spacing-between-current-post-items) - 18px);}}@media (min-width: 768px){.author__inner{padding:18px 0;}}@media (min-width: 768px){.author__left .author__image{height:188px;min-width:188px;}}@media (min-width: 992px){.container.author__container{padding:0;width:clamp(47.875rem, 38.276rem + 15.4822vw, 55.5rem);}}@media (min-width: 992px){.author__left .author__image{height:210px;min-width:210px;}}.more-stories .widget .widget__head .rm-lazyloadable-image{-webkit-filter:grayscale();filter:grayscale();mix-blend-mode:multiply;opacity:.9;transition:all .4s ease-in;}.more-stories .widget:hover .widget__head img{filter:grayscale(0);opacity:1;}.more-stories .widget:hover .widget__headline a{color:var(--primary-accent-color);}.headline--more-stories{;}.small_teaser_image-on-left{padding:0 0 57px;}.small_teaser_image-on-left .posts-custom .posts-wrapper{grid-gap:10px;grid-row-gap:0;}.small_teaser_image-on-left .widget{padding:24px 0;}.small_teaser_image-on-left .widget{;}.small_teaser_image-on-left .widget .row .col{align-items:start;display:grid;grid-column-gap:clamp(1rem, .2841rem + 3.5794vw, 2rem);grid-template-columns:42.25% calc(57.75% - 16px);}.small_teaser_image-on-left .widget .widget__headline{color:var(--primary-text-color, #2a2a2a);font-family:var(--primary-font-family);font-size:clamp(.8125rem, .0519rem + 3.8031vw, 1.875rem);font-style:normal;font-weight:500;letter-spacing:-.207px;line-height:var(--secondary-line-height);margin-bottom:8px;}.small_teaser_image-on-left .widget .widget__headline a{overflow:hidden;visibility:visible;display:-webkit-box;-webkit-line-clamp:3;-webkit-box-orient:vertical;}.small_teaser_image-on-left .widget__head + .widget__body{padding:0;row-gap:0;}.small_teaser_image-on-left .widget__body > .social-author{flex-grow:1;margin-bottom:2px;width:100%;}.small_teaser_image-on-left .widget .social-author__name{font-size:clamp(.625rem, .5355rem + .4474vw, .75rem);line-height:var(--secondary-line-height);letter-spacing:.695px;}.small_teaser_image-on-left .btn.button-load-more{font-size:clamp(.875rem, .7408rem + .6711vw, 1.0625rem);margin:0;max-width:unset;}@media (min-width: 627px){.small_teaser_image-on-left{padding:0 0 98px;}}@media (min-width: 627px){.small_teaser_image-on-left .widget .widget__headline{letter-spacing:-.1px;margin-bottom:21px;}}@media (min-width: 627px){.small_teaser_image-on-left .widget .row .col{align-items:center;grid-template-columns:30.25% calc(69.75% - 32px);}}@media (min-width: 627px){.small_teaser_image-on-left .widget__body > .social-author{margin-bottom:3px;}}@media (min-width: 768px){.container.more-stories__container{;}}@media (min-width: 768px){.headline--more-stories{;}}@media (min-width: 768px){.small_teaser_image-on-left .posts-custom .posts-wrapper{grid-column-gap:clamp(2.6875rem, 1.8265rem + 1.7937vw, 2.9375rem);grid-template-columns:1fr 1fr 1fr;}}@media (min-width: 768px){.small_teaser_image-on-left .widget{border-bottom:none;padding:0 0 24px;}}@media (min-width: 768px){.small_teaser_image-on-left .widget .row .col{grid-template-columns:1fr;}}@media (min-width: 768px){.small_teaser_image-on-left .widget .widget__headline{font-size:20px;letter-spacing:-.288px;margin-bottom:0;order:3;}}@media (min-width: 768px){.small_teaser_image-on-left .widget__head + .widget__body{font-size:20px;padding:24px 0;row-gap:16px;}}@media (min-width: 768px){.small_teaser_image-on-left .widget__body > .social-author{width:auto;}}@media (min-width: 768px){.small_teaser_image-on-left .social-date{display:none;}}@media (min-width: 768px){.small_teaser_image-on-left .btn.button-load-more{font-size:17px;margin:0 auto;max-width:500px;}}@media (min-width: 992px){.container.more-stories__container{;}}@media (min-width: 992px){.headline--more-stories{;}}@media (min-width: 992px){.small_teaser_image-on-left .posts-custom .posts-wrapper{grid-column-gap:clamp(2.9375rem, -.2884rem + 5.203vw, 5.5rem);}}@media (min-width: 992px){.small_teaser_image-on-left .widget__head + .widget__body{row-gap:clamp(1rem, 2.0305vw - .2589rem, 2rem);}}@media (min-width: 992px){.small_teaser_image-on-left .widget .widget__headline{font-size:clamp(1.25rem, .4632rem + 1.269vw, 1.875rem);}}@media (min-width: 992px){.small_teaser_image-on-left .widget .social-author__name{font-size:clamp(.75rem, .4353rem + .5076vw, 1rem);}}@media (min-width: 992px){.small_teaser_image-on-left .btn.button-load-more{font-size:clamp(1.0625rem, .8265rem + .3807vw, 1.25rem);}}.headline--more-stories{border-top:7px solid var(--primary-accent-color);color:var(--primary-accent-color);font-feature-settings:\"clig\" off, \"liga\" off;font-family:var(--primary-font-family);font-size:clamp(1.375rem, .5696rem + 4.0268vw, 2.5rem);font-style:normal;font-weight:600;line-height:var(--primary-line-height);letter-spacing:1.481px;margin:0 0 clamp(0rem, 5.3691vw - 1.0738rem, 1.5rem);padding:clamp(.6875rem, .419rem + 1.3423vw, 1.0625rem) 0 0;text-transform:uppercase;}.piano-contentrec{padding:0 0 57px;}.cx-flex-module[data-cx_h5al] .cx-item:hover h3, .piano-contentrec .widget:hover .widget__headline-text{color:var(--primary-accent-color) !important;}.cx-flex-module[data-cx_h5al] .cx-item .piano-author:not(:first-of-type):before{color:var(--primary-accent-color);}@media (min-width: 627px){.piano-contentrec{padding:0 0 98px;}}@media (min-width: 768px){.container.more-stories__container{padding:0 clamp(4.375rem, 17.9372vw - 4.2349rem, 6.875rem);}}@media (min-width: 768px){.headline--more-stories{font-size:22px;letter-spacing:1.481px;margin:0 0 clamp(2.125rem, 5.8296vw - .6732rem, 2.9375rem);padding:11px 0 0;}}@media (min-width: 992px){.container.more-stories__container{padding:0;max-width:unset;width:clamp(48rem, 2.2081rem + 73.8579vw, 84.375rem);}}@media (min-width: 992px){.headline--more-stories{font-size:clamp(1.375rem, 2.2843vw - .0412rem, 2.5rem);margin:0 0 clamp(2.125rem, .5514rem + 2.5381vw, 3.375rem);padding:clamp(.6875rem, .2154rem + .7614vw, 1.0625rem) 0 0;}}.article__bottom{display:none;}.article__bottom .widget .widget__body{padding-bottom:clamp(1.625rem, .1037rem + 7.6063vw, 3.75rem);padding-top:clamp(1.625rem, .1037rem + 7.6063vw, 3.75rem);}.article__bottom .widget__shares{column-gap:20px;display:flex;justify-content:center;}.article__bottom .widget__shares .share{background-color:#0000;height:20px;margin:0;width:21px;}.article__bottom .widget__shares .share:hover .icons-share{color:var(--blaze-red-color);}.article__bottom .widget__shares .share .fa{color:#aaa69e;font-size:18px;}.article__bottom .widget__shares .share.share-fb{background-color:#aaa69e;}.article__bottom .widget__shares .share.share-fb:hover{background-color:var(--blaze-red-color);}.article__bottom .widget__shares .share .fa.fa-facebook{color:var(--primary-text-color);top:6px;}.article__bottom .widget__shares .share .fa.fa-twitter{font-size:20px;bottom:0;}.article__bottom .fa-twitter:before{background-image:url(\"data:image/svg+xml,%3Csvg%20xmlns='http://www.w3.org/2000/svg'%20width='1200'%20height='1227'%20viewBox='0%200%201200%201227'%20fill='none'%3E%3Cpath%20d='M714.163%20519.284L1160.89%200H1055.03L667.137%20450.887L357.328%200H0L468.492%20681.821L0%201226.37H105.866L515.491%20750.218L842.672%201226.37H1200L714.137%20519.284H714.163ZM569.165%20687.828L521.697%20619.934L144.011%2079.6944H306.615L611.412%20515.685L658.88%20583.579L1055.08%201150.3H892.476L569.165%20687.854V687.828Z'%20fill='%23aaa69e'/%3E%3C/svg%3E\");content:\"\";background-repeat:no-repeat;background-size:contain;background-position:center;display:block;height:20px;margin:0 auto;width:15px;}.article__bottom .share-tw:hover i:before{background-image:url(\"data:image/svg+xml,%3Csvg%20xmlns='http://www.w3.org/2000/svg'%20width='1200'%20height='1227'%20viewBox='0%200%201200%201227'%20fill='none'%3E%3Cpath%20d='M714.163%20519.284L1160.89%200H1055.03L667.137%20450.887L357.328%200H0L468.492%20681.821L0%201226.37H105.866L515.491%20750.218L842.672%201226.37H1200L714.137%20519.284H714.163ZM569.165%20687.828L521.697%20619.934L144.011%2079.6944H306.615L611.412%20515.685L658.88%20583.579L1055.08%201150.3H892.476L569.165%20687.854V687.828Z'%20fill='%23B7443C'/%3E%3C/svg%3E\");}.article__bottom .share-copy-link i{margin:0;}.article__bottom .share-copy-link svg{display:none;}.article__bottom .share-copy-link i:before{background-image:url(\"data:image/svg+xml,%3Csvg%20xmlns='http://www.w3.org/2000/svg'%20width='22'%20height='21'%20viewBox='0%200%2022%2021'%20fill='none'%3E%3Cpath%20fill-rule='evenodd'%20clip-rule='evenodd'%20d='M12.9527%2010.7194C13.1602%2010.528%2013.8855%209.8327%2014.3453%209.39194L14.3458%209.39147C14.5009%209.24279%2014.6258%209.12312%2014.6902%209.06162C15.2572%209.01849%2015.7974%208.78535%2016.2233%208.37899L18.6762%206.03855C19.6358%205.12297%2019.6358%203.63851%2018.6762%202.72292C17.7166%201.80734%2016.1608%201.80734%2015.2012%202.72292L12.7483%205.06337C12.3223%205.46984%2012.078%205.98498%2012.0329%206.52614L10.2954%208.18396C9.69742%206.64435%2010.0593%204.89853%2011.3174%203.69811L13.7704%201.35767C15.5202%20-0.31193%2018.3573%20-0.31193%2020.1071%201.35767C21.8569%203.02726%2021.8569%205.73421%2020.1071%207.40381L17.6542%209.74425C16.3966%2010.9442%2014.566%2011.2891%2012.9527%2010.7194ZM11.6241%2011.987C12.2211%2013.5263%2011.8596%2015.2729%2010.602%2016.4728L8.14911%2018.8133C6.39927%2020.4829%203.56222%2020.4829%201.81238%2018.8133C0.0625402%2017.1437%200.0625402%2014.4367%201.81238%2012.7671L4.26531%2010.4267C5.52342%209.22626%207.35314%208.88095%208.96675%209.4515L7.22926%2011.1093C6.66208%2011.1524%206.12219%2011.3855%205.69618%2011.7919L3.24325%2014.1324C2.28366%2015.048%202.28366%2016.5324%203.24325%2017.448C4.20284%2018.3636%205.75864%2018.3636%206.71823%2017.448L9.17116%2015.1076C9.59705%2014.7012%209.84139%2014.1858%209.8866%2013.6448C9.95113%2013.5832%2010.0768%2013.4639%2010.2329%2013.3157C10.6948%2012.8769%2011.4234%2012.185%2011.6241%2011.987ZM13.2588%206.52634L7.3309%2012.1824C6.93578%2012.5594%206.93578%2013.1707%207.3309%2013.5477C7.72603%2013.9247%208.36665%2013.9247%208.76178%2013.5477L14.6897%207.8916C15.0848%207.51459%2015.0848%206.90334%2014.6897%206.52634C14.2946%206.14933%2013.6539%206.14933%2013.2588%206.52634Z'%20fill='%23aaa69e'/%3E%3C/svg%3E\");content:\"\";background-repeat:no-repeat;background-size:cover;display:block;height:20px;width:21px;}.article__bottom .share-copy-link:hover i:before{background-image:url(\"data:image/svg+xml,%3Csvg%20xmlns='http://www.w3.org/2000/svg'%20width='22'%20height='21'%20viewBox='0%200%2022%2021'%20fill='none'%3E%3Cpath%20fill-rule='evenodd'%20clip-rule='evenodd'%20d='M12.9527%2010.7194C13.1602%2010.528%2013.8855%209.8327%2014.3453%209.39194L14.3458%209.39147C14.5009%209.24279%2014.6258%209.12312%2014.6902%209.06162C15.2572%209.01849%2015.7974%208.78535%2016.2233%208.37899L18.6762%206.03855C19.6358%205.12297%2019.6358%203.63851%2018.6762%202.72292C17.7166%201.80734%2016.1608%201.80734%2015.2012%202.72292L12.7483%205.06337C12.3223%205.46984%2012.078%205.98498%2012.0329%206.52614L10.2954%208.18396C9.69742%206.64435%2010.0593%204.89853%2011.3174%203.69811L13.7704%201.35767C15.5202%20-0.31193%2018.3573%20-0.31193%2020.1071%201.35767C21.8569%203.02726%2021.8569%205.73421%2020.1071%207.40381L17.6542%209.74425C16.3966%2010.9442%2014.566%2011.2891%2012.9527%2010.7194ZM11.6241%2011.987C12.2211%2013.5263%2011.8596%2015.2729%2010.602%2016.4728L8.14911%2018.8133C6.39927%2020.4829%203.56222%2020.4829%201.81238%2018.8133C0.0625402%2017.1437%200.0625402%2014.4367%201.81238%2012.7671L4.26531%2010.4267C5.52342%209.22626%207.35314%208.88095%208.96675%209.4515L7.22926%2011.1093C6.66208%2011.1524%206.12219%2011.3855%205.69618%2011.7919L3.24325%2014.1324C2.28366%2015.048%202.28366%2016.5324%203.24325%2017.448C4.20284%2018.3636%205.75864%2018.3636%206.71823%2017.448L9.17116%2015.1076C9.59705%2014.7012%209.84139%2014.1858%209.8866%2013.6448C9.95113%2013.5832%2010.0768%2013.4639%2010.2329%2013.3157C10.6948%2012.8769%2011.4234%2012.185%2011.6241%2011.987ZM13.2588%206.52634L7.3309%2012.1824C6.93578%2012.5594%206.93578%2013.1707%207.3309%2013.5477C7.72603%2013.9247%208.36665%2013.9247%208.76178%2013.5477L14.6897%207.8916C15.0848%207.51459%2015.0848%206.90334%2014.6897%206.52634C14.2946%206.14933%2013.6539%206.14933%2013.2588%206.52634Z'%20fill='%23B7443C'/%3E%3C/svg%3E\");}@media (min-width: 768px){.article__bottom .widget__shares{column-gap:30px;}}@media (min-width: 768px){.article__bottom .widget__shares .share{height:32px;width:33px;}}@media (min-width: 768px){.article__bottom .widget__shares .share .fa{font-size:28px;}}@media (min-width: 768px){.article__bottom .widget__shares .share .fa.fa-facebook{top:10px;}}@media (min-width: 768px){.article__bottom .widget__shares .share .fa.fa-twitter{font-size:35px;}}@media (min-width: 768px){.article__bottom .share-copy-link i:before{height:28px;left:2px;position:relative;top:3px;width:29px;}}@media (min-width: 768px){.article__bottom .fa-twitter:before{height:28px;position:relative;top:3px;width:23px;}}.newsletter-related__stories-block{margin:clamp(26px, 4.6875vw, 60px) 0;}.newsletter.article__newsletter{border:2px solid var(--primary-accent-color);padding:30px 20px;margin-bottom:clamp(26px, 4vw, 30px);}.article__newsletter .newsletter__container{display:grid;grid-gap:10px;}.article__newsletter h3.headline--newsletter{color:var(--primary-accent-color);font-family:var(--primary-font-family);font-size:27px;font-style:normal;font-weight:500;line-height:var(--secondary-line-height);letter-spacing:-.444px;margin:0;text-transform:none;}.article__newsletter iframe{border:none;height:42px;margin:0;width:100%;}.article__newsletter .newsletter-element__form:before{background-image:url(\"data:image/svg+xml,%3Csvg%20xmlns='http://www.w3.org/2000/svg'%20width='16'%20height='14'%20viewBox='0%200%2016%2014'%20fill='none'%3E%3Cpath%20fill-rule='evenodd'%20clip-rule='evenodd'%20d='M16%204.69171V12.0227C16%2012.4292%2015.8602%2012.7767%2015.5804%2013.0661C15.3005%2013.3555%2014.9642%2013.5%2014.5715%2013.5H1.42853C1.03577%2013.5%200.69917%2013.3555%200.419623%2013.0661C0.139774%2012.7767%200%2012.4292%200%2012.0227V4.69171C0.261736%204.99328%200.562415%205.26113%200.901736%205.49496C3.0566%207.00905%204.53555%208.07111%205.33947%208.68049C5.67849%208.93898%205.95381%209.14065%206.16513%209.28519C6.37645%209.43005%206.65751%209.57771%207.00891%209.7285C7.36%209.87928%207.68755%209.95452%207.99094%209.95452H8H8.00906C8.31245%209.95452%208.6397%209.87928%208.99109%209.7285C9.34219%209.57771%209.62355%209.43005%209.83487%209.28519C10.0459%209.14065%2010.3215%208.93898%2010.6605%208.68049C11.6728%207.92344%2013.1547%206.86139%2015.107%205.49496C15.4466%205.25489%2015.744%204.98703%2016%204.69171ZM16%201.97726C16%202.46333%2015.8542%202.92817%2015.5626%203.37148C15.2706%203.81447%2014.9075%204.19315%2014.4731%204.5072C12.2352%206.11371%2010.8423%207.11395%2010.2946%207.50792C10.2352%207.55101%2010.1084%207.64466%209.91517%207.78952C9.72166%207.93406%209.56106%208.05113%209.43306%208.1401C9.30506%208.2297%209.15019%208.3296%208.96875%208.44042C8.78702%208.55125%208.61615%208.63429%208.45525%208.68954C8.29464%208.74511%208.14581%208.7729%208.00906%208.7729H8H7.99094C7.85419%208.7729%207.70536%208.74511%207.54475%208.68954C7.38385%208.63429%207.21268%208.55125%207.03125%208.44042C6.84951%208.3296%206.69494%208.2297%206.56694%208.1401C6.43894%208.05113%206.27804%207.93406%206.08483%207.78952C5.89132%207.64466%205.76483%207.55101%205.70536%207.50792C5.16347%207.11395%204.384%206.55201%203.36604%205.82275C2.34808%205.09349%201.73796%204.65487%201.5357%204.5072C1.16649%204.24871%200.818415%203.89314%200.490868%203.44078C0.163623%202.98811%200%202.56822%200%202.18049C0%201.70004%200.123472%201.30013%200.370717%200.979828C0.617359%200.659839%200.969962%200.5%201.42853%200.5H14.5715C14.9582%200.5%2015.293%200.644542%2015.5758%200.933625C15.8584%201.22333%2016%201.57079%2016%201.97726Z'%20fill='%23B7443C'/%3E%3C/svg%3E\");content:\"\";background-repeat:no-repeat;background-size:contain;display:block;height:13px;left:16px;position:absolute;top:14px;width:16px;}.article__newsletter .newsletter-element__input::placeholder{color:var(--primary-accent-color);}.article__newsletter .text-element{color:var(--primary-accent-color);font-family:var(--primary-font-family);font-size:10px;font-style:normal;font-weight:500;line-height:var(--secondary-line-height);margin:7px 0 0;}.article__newsletter .text-element a{text-decoration:underline;}@media (min-width: 768px){.article__newsletter .newsletter__container{align-items:center;grid-template-columns:327px 238px;grid-gap:0;justify-content:space-between;}}@media (min-width: 768px){.newsletter-related__stories-block{margin:60px 0;}}@media (min-width: 768px){.newsletter.article__newsletter{padding:17px 40px;margin-bottom:clamp(46px, 81.4286px - 3.57143vw, 54px);}}@media (min-width: 768px){.article__newsletter iframe{grid-column:2 / 3;grid-row:1 / 3;}}@media (min-width: 768px){.article__newsletter .text-element{margin:4px 0 0;max-width:555px;}}@media (min-width: 991px){.newsletter-related__stories-block{margin-left:-58px;margin-right:-58px;}}@media (min-width: 992px){.newsletter.article__newsletter{padding:20px 25px;margin-bottom:clamp(46px, .507614vw + 40.9645px, 50px);}}@media (min-width: 992px){.article__newsletter .newsletter__container{grid-column-gap:18px;grid-template-columns:auto 280px;}}@media (min-width: 1780px){.newsletter-related__stories-block{margin-left:-69px;margin-right:-69px;}}@media (min-width: 1780px){.newsletter.article__newsletter{margin-bottom:50px;}}@media (min-width: 1780px){.related-stories__container{min-height:155px;}}.container.related-stories__container{padding:0;display:flex;flex-direction:column;}.container.related-stories__container .divider{display:block;height:1px;background-color:var(--primary-accent-color);margin-bottom:12px;}.related-stories .btn.button-load-more{display:none;}.related-stories{padding-top:17px;}.related-stories .small_teaser_image-on-left{padding:0;}.container.related-stories__container{margin-bottom:26px;}.piano-contentrectop .cx-image-on-right[data-cx_2ssr], .related-stories .small_teaser_image-on-left .posts-custom .posts-wrapper{background-color:#0000;gap:6px;display:flex;flex-direction:column;justify-content:flex-start;align-items:flex-start;margin-bottom:0;}.small_teaser_image-on-left .widget{padding:0;border-bottom:none;}.piano-contentrectop .cx-image-on-right[data-cx_2ssr] .cx-item, .related-stories .small_teaser_image-on-left .widget .row .col{flex-direction:row-reverse;display:flex;gap:16px;width:100%;padding:0;transition:none;border-bottom:none;align-items:flex-start;}.piano-contentrectop .cx-image-on-right[data-cx_2ssr] .cx-item:hover, .related-stories .small_teaser_image-on-left .widget{box-shadow:none;}.related-stories .small_teaser_image-on-left .widget .row .col{flex-direction:row;}.piano-contentrectop .cx-image-on-right[data-cx_2ssr] img, .related-stories .posts-custom .widget__head{margin:0;border-radius:0;aspect-ratio:3 / 2;min-width:91px;height:auto;margin-bottom:10.33px;object-fit:cover;}.piano-contentrectop .cx-image-on-right[data-cx_2ssr] img, .related-stories .posts-custom .widget__head{width:clamp(91px, 17.6734vw + 34.4452px, 170px);flex-grow:0;flex-shrink:0;}.related-stories .cx-item:hover img{filter:grayscale(0);opacity:1;}.related-stories .posts-custom .widget__head{margin-bottom:0;}.piano-contentrectop .cx-image-on-right[data-cx_2ssr] h3, .related-stories .small_teaser_image-on-left .widget .widget__headline{overflow:hidden;color:var(--primary-text-color);text-overflow:ellipsis;font-family:var(--secondary-font-family);font-style:normal;font-weight:500;line-height:var(--secondary-line-height);letter-spacing:-.207px;min-height:unset;display:-webkit-box;-webkit-line-clamp:4;-webkit-box-orient:vertical;word-break:break-word;white-space:normal;max-height:calc(var(--secondary-line-height) * 3);margin:auto;margin-top:0;width:100%;}.piano-contentrectop .cx-image-on-right[data-cx_2ssr] .cx-item:hover h3, .related-stories .small_teaser_image-on-left .widget:hover .widget__headline{color:var(--primary-accent-color);}.piano-contentrectop .cx-image-on-right[data-cx_2ssr] h3, .related-stories .small_teaser_image-on-left .widget .widget__headline{font-size:clamp(12px, 1.78971vw + 6.27293px, 20px);}.related-stories .small_teaser_image-on-left .widget__body > .social-author, .related-stories .small_teaser_image-on-left .widget__body .social-date, .related-stories .small_teaser_image-on-left .widget__body .widget__section{display:none;}@media (min-width: 540px){.piano-contentrectop .cx-image-on-right[data-cx_2ssr] img, .related-stories .posts-custom .widget__head{margin-bottom:0;}}@media (min-width: 540px) and (max-width: 767px){.related-stories{padding-top:22px;}}@media (min-width: 540px) and (max-width: 767px){.container.related-stories__container{margin-bottom:60px;}}@media (min-width: 540px) and (max-width: 767px){.related-stories .posts-custom .widget__head{min-width:170px;margin-bottom:0;}}@media (min-width: 540px) and (max-width: 767px){.piano-contentrectop .cx-image-on-right[data-cx_2ssr], .related-stories .small_teaser_image-on-left .posts-custom .posts-wrapper{gap:17px;}}@media (min-width: 768px){.piano-contentrectop .cx-image-on-right[data-cx_2ssr], .related-stories .small_teaser_image-on-left .posts-custom .posts-wrapper{display:grid;grid-template-columns:1fr 1fr 1fr;gap:30px;}}@media (min-width: 768px){.container.related-stories__container{margin-bottom:60px;width:auto;}}@media (min-width: 768px){.related-stories .small_teaser_image-on-left .widget .row .col .widget__body{padding:0 !important;}}@media (min-width: 768px){.related-stories .posts-custom .widget__head img{height:100%;}}@media (min-width: 768px){.piano-contentrectop .cx-image-on-right[data-cx_2ssr] h3, .related-stories .small_teaser_image-on-left .widget .widget__headline{font-size:15px;flex-basis:100%;}}@media (min-width: 768px) and (max-width: 991px){.related-stories{padding-top:9px;}}@media (min-width: 768px) and (max-width: 991px){.piano-contentrectop .cx-image-on-right[data-cx_2ssr] .cx-item, .related-stories .small_teaser_image-on-left .widget .row .col{flex-direction:column-reverse;}}@media (min-width: 768px) and (max-width: 991px){.related-stories .small_teaser_image-on-left .widget .row .col{flex-direction:column;}}@media (min-width: 768px) and (max-width: 991px){.piano-contentrectop .cx-image-on-right[data-cx_2ssr] img, .related-stories .posts-custom .widget__head{width:100%;}}@media (min-width: 768px) and (max-width: 991px){.container.related-stories__container .divider{margin-bottom:17px;}}@media (min-width: 992px){.piano-contentrectop .cx-image-on-right[data-cx_2ssr] img, .related-stories .posts-custom .widget__head{width:auto;flex-grow:unset;flex-shrink:unset;}}@media (min-width: 992px){.piano-contentrectop .cx-image-on-right[data-cx_2ssr] h3, .related-stories .small_teaser_image-on-left .widget .widget__headline{font-size:clamp(12px, .380711vw + 8.22335px, 15px);flex-basis:clamp(127px, 5.96447vw + 67.8325px, 174px);flex-grow:0;flex-shrink:0;}}@media (min-width: 992px) and (max-width: 1779px){.related-stories .posts-custom .widget__head{min-width:92.33px;padding-bottom:0;}}@media (min-width: 992px) and (max-width: 1779px){.related-stories .small_teaser_image-on-left .widget .widget__headline{font-size:.75rem;}}@media (min-width: 992px) and (max-width: 1779px){.related-stories{padding-top:5px;}}@media (min-width: 992px) and (max-width: 1779px){.container.related-stories__container .divider, article__main .body-description .headline--related-stories{margin-bottom:17px;}}@media (min-width: 1780px){.related-stories{padding-top:14px;}}@media (min-width: 1780px){.related-stories .posts-custom .widget__head{min-width:131.33px;}}@media (min-width: 1780px){.related-stories .small_teaser_image-on-left .widget .widget__headline{font-size:.9375rem;}}@media (min-width: 1780px){.container.related-stories__container .divider, .article__main .body-description .headline--related-stories{margin-bottom:9.5px;}}.bottom-paywall{position:relative;}.bottom-paywall:has(.piano-bottom-paywall:empty) .fade{display:none;}.bottom-paywall .fade{position:absolute;top:-243px;left:0;background:linear-gradient(#efe9dc00 .11%, #efe9dc 21.06%);height:755px;width:100%;visibility:hidden;transition:opacity .4s ease-in;opacity:0;z-index:100;pointer-events:none;}.piano-bottom-paywall{width:100%;z-index:1;position:relative;}.footer__container{z-index:1;position:relative;}@media (min-width: 1024px){.bottom-paywall .fade{top:-286px;}}.footer iframe{border:none;height:42px;width:100%;}.footer .newsletter .newsletter-element__form:before{background-image:url(\"data:image/svg+xml,%3Csvg%20xmlns='http://www.w3.org/2000/svg'%20width='16'%20height='14'%20viewBox='0%200%2016%2014'%20fill='none'%3E%3Cpath%20fill-rule='evenodd'%20clip-rule='evenodd'%20d='M16%204.85845V12.1895C16%2012.596%2015.8602%2012.9434%2015.5804%2013.2328C15.3005%2013.5222%2014.9642%2013.6667%2014.5715%2013.6667H1.42853C1.03577%2013.6667%200.69917%2013.5222%200.419623%2013.2328C0.139774%2012.9434%200%2012.596%200%2012.1895V4.85845C0.261736%205.16002%200.562415%205.42788%200.901736%205.66171C3.0566%207.1758%204.53555%208.23785%205.33947%208.84724C5.67849%209.10573%205.95381%209.3074%206.16513%209.45194C6.37645%209.5968%206.65751%209.74446%207.00891%209.89524C7.36%2010.046%207.68755%2010.1213%207.99094%2010.1213H8H8.00906C8.31245%2010.1213%208.6397%2010.046%208.99109%209.89524C9.34219%209.74446%209.62355%209.5968%209.83487%209.45194C10.0459%209.3074%2010.3215%209.10573%2010.6605%208.84724C11.6728%208.09019%2013.1547%207.02814%2015.107%205.66171C15.4466%205.42164%2015.744%205.15378%2016%204.85845ZM16%202.14401C16%202.63008%2015.8542%203.09492%2015.5626%203.53822C15.2706%203.98121%2014.9075%204.35989%2014.4731%204.67395C12.2352%206.28046%2010.8423%207.2807%2010.2946%207.67467C10.2352%207.71775%2010.1084%207.81141%209.91517%207.95626C9.72166%208.10081%209.56106%208.21787%209.43306%208.30685C9.30506%208.39644%209.15019%208.49634%208.96875%208.60717C8.78702%208.71799%208.61615%208.80104%208.45525%208.85629C8.29464%208.91186%208.14581%208.93965%208.00906%208.93965H8H7.99094C7.85419%208.93965%207.70536%208.91186%207.54475%208.85629C7.38385%208.80104%207.21268%208.71799%207.03125%208.60717C6.84951%208.49634%206.69494%208.39644%206.56694%208.30685C6.43894%208.21787%206.27804%208.10081%206.08483%207.95626C5.89132%207.81141%205.76483%207.71775%205.70536%207.67467C5.16347%207.2807%204.384%206.71876%203.36604%205.9895C2.34808%205.26024%201.73796%204.82162%201.5357%204.67395C1.16649%204.41546%200.818415%204.05988%200.490868%203.60753C0.163623%203.15486%200%202.73497%200%202.34724C0%201.86679%200.123472%201.46688%200.370717%201.14658C0.617359%200.826587%200.969962%200.666748%201.42853%200.666748H14.5715C14.9582%200.666748%2015.293%200.81129%2015.5758%201.10037C15.8584%201.39008%2016%201.73754%2016%202.14401Z'%20fill='%23EFE9DC'/%3E%3C/svg%3E\");content:\"\";background-repeat:no-repeat;background-size:contain;display:block;height:13px;left:16px;position:absolute;top:14px;width:16px;}.footer .newsletter .newsletter-element__input::placeholder{color:var(--additional-color);}.footer .newsletter__container .text-element{color:#e0dcd466;font-family:var(--primary-font-family);font-size:10px;font-style:normal;font-weight:500;line-height:var(--quaternary-line-height);margin:4px 0 0;max-width:519px;width:100%;}.footer .newsletter__container .text-element a{color:#e0dcd466;text-decoration:underline;}.footer .newsletter__container .text-element a:hover{color:#e0dcd466;}@media (min-width: 768px){.footer .newsletter__container{display:grid;grid-gap:8px;}}@media (min-width: 768px){.footer .newsletter__container{grid-template-columns:1fr;}}@media (min-width: 768px){.footer .headline--newsletter{color:var(--additional-color);font-family:var(--primary-font-family);font-size:clamp(1.25rem, .8195rem + .8969vw, 1.375rem);font-style:normal;font-weight:500;line-height:32px;letter-spacing:-.667px;margin:0;}}@media (min-width: 768px){.footer .headline--newsletter, .footer .newsletter__container > div{width:clamp(16.625rem, 11.2438rem + 11.2108vw, 18.1875rem);}}@media (min-width: 992px){.footer .newsletter__container{grid-gap:16px;}}@media (min-width: 992px){.footer .headline--newsletter{font-size:clamp(1.375rem, .7456rem + 1.0152vw, 1.875rem);letter-spacing:-.667px;line-height:118.182%;width:clamp(18.25rem, 31.8528vw - 1.4987rem, 33.9375rem);}}@media (min-width: 992px){.footer .newsletter__container > div{width:clamp(18.25rem, 9.2805rem + 14.467vw, 25.375rem);}}@media (min-width: 1780px){.footer .newsletter .newsletter-element__form, .footer iframe{max-width:406px;}}.piano-bottom-unit{width:100%;min-height:90px;position:fixed;bottom:0;left:0;color:#fff;text-align:center;z-index:214748360;display:flex;align-items:center;justify-content:center;}.piano-bottom-unit:empty{display:none;}body:not(:has(.piano-bottom-unit:empty)) div#ot-sdk-btn-floating, body:not(:has(.piano-bottom-unit:empty)) .floating-copy, body:not(:has(.piano-bottom-unit:empty)) ::part(acsb-trigger){transition:transform .6s;transform:translateY(-90px) !important;}body:has(.piano-bottom-unit:empty) div#ot-sdk-btn-floating, body:has(.piano-bottom-unit:empty) .floating-copy, body:has(.piano-bottom-unit:empty) ::part(acsb-trigger){transition:transform .6s;transform:unset !important;}.footer{background-color:var(--black-color);padding:clamp(1.5rem, 8.0537vw - .1107rem, 3.75rem) clamp(1.25rem, .3551rem + 4.4743vw, 2.5rem);}.footer__inner{display:flex;padding:0;column-gap:70px;}.footer__inner .footer__left{display:flex;flex-direction:column;padding:0;row-gap:32px;}.footer__logo > svg{height:clamp(2.9375rem, 15.2125vw - .105rem, 7.1875rem);}.footer__inner .footer__right{display:none;}.footer__description{display:flex;flex-direction:column;row-gap:22px;max-width:346px;text-align:left;}.footer__description > .text-element{color:var(--additional-color, #e0dcd4);font-family:var(--primary-font-family);font-size:10px;font-style:normal;font-weight:500;line-height:normal;}.footer__description .list{column-gap:14px;display:flex;flex-wrap:wrap;}.footer__description .list__item{color:var(--additional-color, #e0dcd4);font-family:var(--primary-font-family);font-size:clamp(.6875rem, .598rem + .4474vw, .8125rem);font-weight:500;line-height:21px;padding:0;}@media (min-width: 768px){.footer{padding:60px clamp(2.5rem, 31.3901vw - 12.5673rem, 6.875rem);}}@media (min-width: 768px){.footer__inner{display:flex;justify-content:space-between;}}@media (min-width: 768px){.footer__inner .footer__left{min-width:324px;row-gap:clamp(2rem, .278rem + 3.5874vw, 2.5rem);}}@media (min-width: 768px){.footer__description{max-width:unset;}}@media (min-width: 768px){.footer__logo{width:clamp(16.4375rem, 6.1057rem + 21.5247vw, 19.4375rem);}}@media (min-width: 768px){.footer__logo > svg{height:clamp(2.75rem, 1.028rem + 3.5874vw, 3.25rem);width:auto;}}@media (min-width: 768px){.footer__inner .footer__right{align-items:center;display:flex;}}@media (min-width: 992px){.footer{padding:60px clamp(2.5rem, 31.3901vw - 12.5673rem, 6.875rem);}}@media (min-width: 992px){.footer__inner .footer__left{width:clamp(25.375rem, 9.4816rem + 25.6345vw, 38rem);row-gap:40px;}}@media (min-width: 992px){.footer__logo{width:clamp(19.4375rem, 2.4426rem + 27.4112vw, 32.9375rem);}}@media (min-width: 992px){.footer__logo > svg{height:clamp(3.25rem, .4175rem + 4.5685vw, 5.5rem);}}@media (min-width: 992px){.footer__inner .footer__right{width:clamp(18.25rem, 31.8528vw - 1.4987rem, 33.9375rem);}}@media (min-width: 992px) and (orientation: landscape){.footer{position:relative;z-index:9;}}@media (min-width: 1780px){.footer__inner{padding-right:33px;}}@media (min-width: 1780px){.footer__inner .footer__right{padding-top:25px;}}@media (min-width: 1780px){.footer .newsletter__container{grid-gap:20px;}}\n",
      "Fox News runs segment debunking voting machine claims after legal threats from Smartmatic | Blaze Media Cookie Settings\n",
      "MENU\n",
      "© 2025 Blaze Media LLC. All rights reserved.\n",
      "Image source: Twitter screenshot\n",
      "After Fox News was threatened with legal action by election software company Smartmatic , it repeatedly ran a \"fact-check\" segment over the weekend that debunked many of the claims regarding Smartmatic that had been made by its on-air hosts, in an apparent retraction of those claims.\n",
      "Smartmatic sent a number of right-leaning media outlets — including Fox News, Newsmax, and OANN — a demand letter last Monday accusing them of defaming the company with numerous false statements and threatening legal action if some claims that were made on air were not retracted.\n",
      "The segment first ran Friday on \"Lou Dobbs Tonight\" on the Fox Business channel. The segment was introduced by Dobbs, who said, \"Lots of opinions about the integrity of the election, the irregularities of mail-in voting, of election voting machines and voting software. One of the companies is Smartmatic. And we reached out to one of the leading authorities on open source software for elections, Eddie Perez, for his insight and views. Eddie is the global director of tech development at the Open Source Technology Institute. We asked him for his assessment of Smartmatic and recent claims about the company.\"\n",
      "The clip then cut to Perez being interviewed by someone — clearly not Dobbs, although the interviewer was not identified — asking Perez questions about the Smartmatic controversy.\n",
      "Among other things noted by Perez in the segment, Perez stated:\n",
      "Smartmatic software was not used anywhere in the United States outside Los Angeles County. Perez has not seen any evidence that Smartmatic software was used to flip votes in the 2020 presidential election or any other election. Dominion and Smartmatic are separate companies, and neither has an ownership interest in the other. Perez is aware that an executive at Smartmatic has a \"relationship\" with one of George Soros' many foundations, but he is not aware of any other relationship between Smartmatic and Soros. There is no evidence that Smartmatic sent United States votes to foreign countries for tabulation. According to Forbes, the segment was\n",
      "repeated in its entirety numerous times over the weekend , particularly on shows hosted by Jeanine Pirro and Maria Bartiromo, who have been among the loudest voices at Fox in casting doubts on the reliability of Dominion voting machines and Smartmatic software.\n",
      "A spokesperson for Fox would not confirm to Forbes that the segment was aired as part of a deal with Smartmatic or that it was aired as an attempt to avoid litigation, but instead merely characterized the segment as \"fact-checks,\" apparently of its own on-air personalities. A spokesperson for Smartmatic would not comment to the Guardian about whether the video meets the demands of the company's letter, \"due to potential litigation.\"\n",
      "We answer to you. Help keep our content free of advertisers and big tech censorship by leaving a tip today.\n",
      "Support Us →\n",
      "Former Managing Editor, News\n",
      "Leon Wolf is the former managing news editor for Blaze News.\n",
      "Leon Wolf\n",
      "Former Managing Editor, News\n",
      "Leon Wolf is the former managing news editor for Blaze News.\n",
      "@LeonHWolf → Sign up for the Blaze newsletter By signing up, you agree to our\n",
      "Privacy Policy and\n",
      "Terms of Use , and agree to receive content that may sometimes include advertisements. You may opt out at any time.\n"
     ]
    }
   ],
   "source": [
    "a = df[df['site']=='Blaze Media']['page_text'].values[0]\n",
    "print(a)"
   ]
  },
  {
   "cell_type": "code",
   "execution_count": 19,
   "metadata": {},
   "outputs": [],
   "source": [
    "df = df[df['site']!='Blaze Media']"
   ]
  },
  {
   "cell_type": "code",
   "execution_count": 20,
   "metadata": {},
   "outputs": [
    {
     "data": {
      "text/plain": [
       "site\n",
       "Fox News Digital               10\n",
       "CNN Digital                     6\n",
       "The Guardian                    4\n",
       "NBC News Digital                4\n",
       "Associated Press                3\n",
       "The Daily Wire                  2\n",
       "BBC News                        2\n",
       "Breitbart News                  2\n",
       "HuffPost                        2\n",
       "Washington Examiner             2\n",
       "ABC News (Online)               2\n",
       "Associated Press Fact Check     2\n",
       "The Dallas Morning News         2\n",
       "Just The News                   2\n",
       "The Boston Globe                1\n",
       "BuzzFeed News                   1\n",
       "Slate                           1\n",
       "USA TODAY                       1\n",
       "Forbes                          1\n",
       "CNN Business                    1\n",
       "Reason                          1\n",
       "Nature.com                      1\n",
       "The Daily Caller                1\n",
       "The Daily Signal                1\n",
       "Fox Business                    1\n",
       "NPR (Online News)               1\n",
       "Military.com                    1\n",
       "Daily Mail                      1\n",
       "Name: count, dtype: int64"
      ]
     },
     "execution_count": 20,
     "metadata": {},
     "output_type": "execute_result"
    }
   ],
   "source": [
    "errores_titulo2 = df[df['page_text'].str.contains(\n",
    "    r\"404|redirecting|not found|page not found|page unavailable|page does not exist|page is unavailable|page is not available\", \n",
    "    case=False, na=False)].reset_index(drop=True)\n",
    "\n",
    "errores_titulo2['site'].value_counts()"
   ]
  },
  {
   "cell_type": "code",
   "execution_count": 21,
   "metadata": {},
   "outputs": [
    {
     "data": {
      "text/plain": [
       "1707"
      ]
     },
     "execution_count": 21,
     "metadata": {},
     "output_type": "execute_result"
    }
   ],
   "source": [
    "len(df[df['site']=='Fox News Digital'])"
   ]
  },
  {
   "cell_type": "code",
   "execution_count": 22,
   "metadata": {},
   "outputs": [
    {
     "data": {
      "text/plain": [
       "297"
      ]
     },
     "execution_count": 22,
     "metadata": {},
     "output_type": "execute_result"
    }
   ],
   "source": [
    "df['site'].nunique()"
   ]
  },
  {
   "cell_type": "code",
   "execution_count": 23,
   "metadata": {},
   "outputs": [
    {
     "data": {
      "text/plain": [
       "10832"
      ]
     },
     "execution_count": 23,
     "metadata": {},
     "output_type": "execute_result"
    }
   ],
   "source": [
    "len(df)"
   ]
  },
  {
   "cell_type": "code",
   "execution_count": 24,
   "metadata": {},
   "outputs": [
    {
     "name": "stderr",
     "output_type": "stream",
     "text": [
      "/var/folders/n5/kl_1w_013tx_jjt6mh0r8q3m0000gp/T/ipykernel_5663/1453988021.py:1: UserWarning: This pattern is interpreted as a regular expression, and has match groups. To actually get the groups, use str.extract.\n",
      "  errores_titulo = df[df['page_text'].str.contains(\n"
     ]
    }
   ],
   "source": [
    "errores_titulo = df[df['page_text'].str.contains(\n",
    "    r\"(404|403|500|redirecting|moved permanently|not found|page not found|\"\n",
    "    r\"page unavailable|page is unavailable|page does not exist|\"\n",
    "    r\"page is not available|error occurred|access denied|\"\n",
    "    r\"this site can’t be reached|temporarily unavailable|\"\n",
    "    r\"content not available|service unavailable|site not found)\",\n",
    "    case=False, na=False)].reset_index(drop=True)\n",
    "\n",
    "errores_por_site = errores_titulo['site'].value_counts()\n",
    "total_por_site = df['site'].value_counts()\n",
    "\n",
    "proporcion_errores = errores_por_site / total_por_site\n",
    "proporcion_errores = proporcion_errores.sort_values(ascending=False)"
   ]
  },
  {
   "cell_type": "code",
   "execution_count": 25,
   "metadata": {},
   "outputs": [
    {
     "data": {
      "text/plain": [
       "['The Sun',\n",
       " 'David Frum',\n",
       " 'Sky News',\n",
       " 'Taipei Times',\n",
       " 'New York Times (Opinion)',\n",
       " 'Military.com',\n",
       " 'Lifehacker',\n",
       " 'Human Rights Watch',\n",
       " 'Psych Central',\n",
       " 'NPR (Opinion) ',\n",
       " 'Rand Paul']"
      ]
     },
     "execution_count": 25,
     "metadata": {},
     "output_type": "execute_result"
    }
   ],
   "source": [
    "l = proporcion_errores[proporcion_errores == 1].index.tolist()\n",
    "l\n"
   ]
  },
  {
   "cell_type": "code",
   "execution_count": 26,
   "metadata": {},
   "outputs": [
    {
     "data": {
      "text/html": [
       "<div>\n",
       "<style scoped>\n",
       "    .dataframe tbody tr th:only-of-type {\n",
       "        vertical-align: middle;\n",
       "    }\n",
       "\n",
       "    .dataframe tbody tr th {\n",
       "        vertical-align: top;\n",
       "    }\n",
       "\n",
       "    .dataframe thead th {\n",
       "        text-align: right;\n",
       "    }\n",
       "</style>\n",
       "<table border=\"1\" class=\"dataframe\">\n",
       "  <thead>\n",
       "    <tr style=\"text-align: right;\">\n",
       "      <th></th>\n",
       "      <th>url</th>\n",
       "      <th>topic</th>\n",
       "      <th>date</th>\n",
       "      <th>title</th>\n",
       "      <th>site</th>\n",
       "      <th>bias</th>\n",
       "      <th>page_text</th>\n",
       "    </tr>\n",
       "  </thead>\n",
       "  <tbody>\n",
       "    <tr>\n",
       "      <th>1421</th>\n",
       "      <td>https://www.nytimes.com/interactive/2020/06/24...</td>\n",
       "      <td>race</td>\n",
       "      <td>2020-06-25</td>\n",
       "      <td>'It Is Time for Reparations'</td>\n",
       "      <td>New York Times (Opinion)</td>\n",
       "      <td>left</td>\n",
       "      <td>From the Magazine: ‘It Is Time for Reparations...</td>\n",
       "    </tr>\n",
       "    <tr>\n",
       "      <th>7163</th>\n",
       "      <td>https://lifehacker.com/what-the-federal-budget...</td>\n",
       "      <td>economy-and-jobs</td>\n",
       "      <td>2017-05-25</td>\n",
       "      <td>What the Federal Budget Does With Your Money</td>\n",
       "      <td>Lifehacker</td>\n",
       "      <td>center</td>\n",
       "      <td>President Trump released a new draft budget ye...</td>\n",
       "    </tr>\n",
       "    <tr>\n",
       "      <th>10200</th>\n",
       "      <td>https://www.taipeitimes.com/News/front/archive...</td>\n",
       "      <td>china</td>\n",
       "      <td>2024-05-23</td>\n",
       "      <td>President Lai vows to safeguard Taiwan</td>\n",
       "      <td>Taipei Times</td>\n",
       "      <td>center</td>\n",
       "      <td>President William Lai (賴清德) yesterday vowed to...</td>\n",
       "    </tr>\n",
       "    <tr>\n",
       "      <th>13110</th>\n",
       "      <td>https://www.hrw.org/report/2023/08/21/they-fir...</td>\n",
       "      <td>immigration</td>\n",
       "      <td>2023-08-21</td>\n",
       "      <td>“They Fired on Us Like Rain”</td>\n",
       "      <td>Human Rights Watch</td>\n",
       "      <td>center</td>\n",
       "      <td>Summary\\nWe were fired on repeatedly. I saw pe...</td>\n",
       "    </tr>\n",
       "    <tr>\n",
       "      <th>14592</th>\n",
       "      <td>https://www.theatlantic.com/ideas/archive/2023...</td>\n",
       "      <td>world</td>\n",
       "      <td>2023-03-21</td>\n",
       "      <td>The Iraq War Reconsidered</td>\n",
       "      <td>David Frum</td>\n",
       "      <td>leaning-right</td>\n",
       "      <td>The Iraq War Reconsidered\\nThe U.S.-led invasi...</td>\n",
       "    </tr>\n",
       "    <tr>\n",
       "      <th>15086</th>\n",
       "      <td>https://lifehacker.com/all-the-new-federal-and...</td>\n",
       "      <td>federal-state-tribal-powers</td>\n",
       "      <td>2023-01-05</td>\n",
       "      <td>All the New Federal and State Laws You Should ...</td>\n",
       "      <td>Lifehacker</td>\n",
       "      <td>center</td>\n",
       "      <td>Despite appearances, the United States is stil...</td>\n",
       "    </tr>\n",
       "    <tr>\n",
       "      <th>16566</th>\n",
       "      <td>https://www.taipeitimes.com/News/front/archive...</td>\n",
       "      <td>foreign-policy</td>\n",
       "      <td>2022-08-02</td>\n",
       "      <td>US speaker makes late-night landing</td>\n",
       "      <td>Taipei Times</td>\n",
       "      <td>center</td>\n",
       "      <td>US House of Representatives Speaker Nancy Pelo...</td>\n",
       "    </tr>\n",
       "    <tr>\n",
       "      <th>17368</th>\n",
       "      <td>https://psychcentral.com/news/teenage-mental-h...</td>\n",
       "      <td>public-health</td>\n",
       "      <td>2022-04-16</td>\n",
       "      <td>Nearly Half of U.S. Teens Report Feeling Sad a...</td>\n",
       "      <td>Psych Central</td>\n",
       "      <td>center</td>\n",
       "      <td>- New CDC data shows that 44% of teens in the ...</td>\n",
       "    </tr>\n",
       "    <tr>\n",
       "      <th>18188</th>\n",
       "      <td>https://www.npr.org/2025/07/07/nx-s1-5455867/t...</td>\n",
       "      <td>economy-and-jobs</td>\n",
       "      <td>2025-07-08</td>\n",
       "      <td>Why some see the dollar's drop as a sign Ameri...</td>\n",
       "      <td>NPR (Opinion)</td>\n",
       "      <td>leaning-left</td>\n",
       "      <td>Why some see the dollar's drop as a sign Ameri...</td>\n",
       "    </tr>\n",
       "    <tr>\n",
       "      <th>18225</th>\n",
       "      <td>https://www.courier-journal.com/story/opinion/...</td>\n",
       "      <td>donald-trump</td>\n",
       "      <td>2025-07-03</td>\n",
       "      <td>Why I voted against Trump's 'Big, Not-So-Beaut...</td>\n",
       "      <td>Rand Paul</td>\n",
       "      <td>leaning-right</td>\n",
       "      <td>Rand Paul: Why I voted against Trump's 'Big, N...</td>\n",
       "    </tr>\n",
       "    <tr>\n",
       "      <th>19674</th>\n",
       "      <td>https://www.the-sun.com/news/13808606/jfk-file...</td>\n",
       "      <td>russia</td>\n",
       "      <td>2025-03-20</td>\n",
       "      <td>Has one of the JFK files VANISHED? Keen-eyed s...</td>\n",
       "      <td>The Sun</td>\n",
       "      <td>center</td>\n",
       "      <td>Has one of the JFK files VANISHED? Keen-eyed s...</td>\n",
       "    </tr>\n",
       "    <tr>\n",
       "      <th>20055</th>\n",
       "      <td>https://www.military.com/daily-news/investigat...</td>\n",
       "      <td>defense-and-security</td>\n",
       "      <td>2025-02-18</td>\n",
       "      <td>Over $151 Million Taken from Soldiers' Paychec...</td>\n",
       "      <td>Military.com</td>\n",
       "      <td>leaning-left</td>\n",
       "      <td>The Army is repurposing more than half of the ...</td>\n",
       "    </tr>\n",
       "    <tr>\n",
       "      <th>21434</th>\n",
       "      <td>https://news.sky.com/story/israel-hezbollah-le...</td>\n",
       "      <td>middle-east</td>\n",
       "      <td>2024-10-01</td>\n",
       "      <td>Israel-Hezbollah latest: Israeli military says...</td>\n",
       "      <td>Sky News</td>\n",
       "      <td>leaning-left</td>\n",
       "      <td>We're pausing our coverage on the Israel-Hamas...</td>\n",
       "    </tr>\n",
       "  </tbody>\n",
       "</table>\n",
       "</div>"
      ],
      "text/plain": [
       "                                                     url  \\\n",
       "1421   https://www.nytimes.com/interactive/2020/06/24...   \n",
       "7163   https://lifehacker.com/what-the-federal-budget...   \n",
       "10200  https://www.taipeitimes.com/News/front/archive...   \n",
       "13110  https://www.hrw.org/report/2023/08/21/they-fir...   \n",
       "14592  https://www.theatlantic.com/ideas/archive/2023...   \n",
       "15086  https://lifehacker.com/all-the-new-federal-and...   \n",
       "16566  https://www.taipeitimes.com/News/front/archive...   \n",
       "17368  https://psychcentral.com/news/teenage-mental-h...   \n",
       "18188  https://www.npr.org/2025/07/07/nx-s1-5455867/t...   \n",
       "18225  https://www.courier-journal.com/story/opinion/...   \n",
       "19674  https://www.the-sun.com/news/13808606/jfk-file...   \n",
       "20055  https://www.military.com/daily-news/investigat...   \n",
       "21434  https://news.sky.com/story/israel-hezbollah-le...   \n",
       "\n",
       "                             topic        date  \\\n",
       "1421                          race  2020-06-25   \n",
       "7163              economy-and-jobs  2017-05-25   \n",
       "10200                        china  2024-05-23   \n",
       "13110                  immigration  2023-08-21   \n",
       "14592                        world  2023-03-21   \n",
       "15086  federal-state-tribal-powers  2023-01-05   \n",
       "16566               foreign-policy  2022-08-02   \n",
       "17368                public-health  2022-04-16   \n",
       "18188             economy-and-jobs  2025-07-08   \n",
       "18225                 donald-trump  2025-07-03   \n",
       "19674                       russia  2025-03-20   \n",
       "20055         defense-and-security  2025-02-18   \n",
       "21434                  middle-east  2024-10-01   \n",
       "\n",
       "                                                   title  \\\n",
       "1421                        'It Is Time for Reparations'   \n",
       "7163        What the Federal Budget Does With Your Money   \n",
       "10200             President Lai vows to safeguard Taiwan   \n",
       "13110                       “They Fired on Us Like Rain”   \n",
       "14592                          The Iraq War Reconsidered   \n",
       "15086  All the New Federal and State Laws You Should ...   \n",
       "16566                US speaker makes late-night landing   \n",
       "17368  Nearly Half of U.S. Teens Report Feeling Sad a...   \n",
       "18188  Why some see the dollar's drop as a sign Ameri...   \n",
       "18225  Why I voted against Trump's 'Big, Not-So-Beaut...   \n",
       "19674  Has one of the JFK files VANISHED? Keen-eyed s...   \n",
       "20055  Over $151 Million Taken from Soldiers' Paychec...   \n",
       "21434  Israel-Hezbollah latest: Israeli military says...   \n",
       "\n",
       "                           site           bias  \\\n",
       "1421   New York Times (Opinion)           left   \n",
       "7163                 Lifehacker         center   \n",
       "10200              Taipei Times         center   \n",
       "13110        Human Rights Watch         center   \n",
       "14592                David Frum  leaning-right   \n",
       "15086                Lifehacker         center   \n",
       "16566              Taipei Times         center   \n",
       "17368             Psych Central         center   \n",
       "18188            NPR (Opinion)    leaning-left   \n",
       "18225                 Rand Paul  leaning-right   \n",
       "19674                   The Sun         center   \n",
       "20055              Military.com   leaning-left   \n",
       "21434                  Sky News   leaning-left   \n",
       "\n",
       "                                               page_text  \n",
       "1421   From the Magazine: ‘It Is Time for Reparations...  \n",
       "7163   President Trump released a new draft budget ye...  \n",
       "10200  President William Lai (賴清德) yesterday vowed to...  \n",
       "13110  Summary\\nWe were fired on repeatedly. I saw pe...  \n",
       "14592  The Iraq War Reconsidered\\nThe U.S.-led invasi...  \n",
       "15086  Despite appearances, the United States is stil...  \n",
       "16566  US House of Representatives Speaker Nancy Pelo...  \n",
       "17368  - New CDC data shows that 44% of teens in the ...  \n",
       "18188  Why some see the dollar's drop as a sign Ameri...  \n",
       "18225  Rand Paul: Why I voted against Trump's 'Big, N...  \n",
       "19674  Has one of the JFK files VANISHED? Keen-eyed s...  \n",
       "20055  The Army is repurposing more than half of the ...  \n",
       "21434  We're pausing our coverage on the Israel-Hamas...  "
      ]
     },
     "execution_count": 26,
     "metadata": {},
     "output_type": "execute_result"
    }
   ],
   "source": [
    "a = df[df['site'].isin(l)]\n",
    "a.head(len(a))"
   ]
  },
  {
   "cell_type": "code",
   "execution_count": 27,
   "metadata": {},
   "outputs": [
    {
     "data": {
      "text/html": [
       "<div>\n",
       "<style scoped>\n",
       "    .dataframe tbody tr th:only-of-type {\n",
       "        vertical-align: middle;\n",
       "    }\n",
       "\n",
       "    .dataframe tbody tr th {\n",
       "        vertical-align: top;\n",
       "    }\n",
       "\n",
       "    .dataframe thead th {\n",
       "        text-align: right;\n",
       "    }\n",
       "</style>\n",
       "<table border=\"1\" class=\"dataframe\">\n",
       "  <thead>\n",
       "    <tr style=\"text-align: right;\">\n",
       "      <th></th>\n",
       "      <th>url</th>\n",
       "      <th>topic</th>\n",
       "      <th>date</th>\n",
       "      <th>title</th>\n",
       "      <th>site</th>\n",
       "      <th>bias</th>\n",
       "      <th>page_text</th>\n",
       "    </tr>\n",
       "  </thead>\n",
       "  <tbody>\n",
       "  </tbody>\n",
       "</table>\n",
       "</div>"
      ],
      "text/plain": [
       "Empty DataFrame\n",
       "Columns: [url, topic, date, title, site, bias, page_text]\n",
       "Index: []"
      ]
     },
     "execution_count": 27,
     "metadata": {},
     "output_type": "execute_result"
    }
   ],
   "source": [
    "df[df['page_text'].str.strip().str.len() < 300].head()"
   ]
  },
  {
   "cell_type": "code",
   "execution_count": 28,
   "metadata": {},
   "outputs": [
    {
     "data": {
      "text/plain": [
       "bias\n",
       "right            2986\n",
       "leaning-left     2951\n",
       "left             1930\n",
       "leaning-right    1487\n",
       "center           1478\n",
       "Name: count, dtype: int64"
      ]
     },
     "execution_count": 28,
     "metadata": {},
     "output_type": "execute_result"
    }
   ],
   "source": [
    "df['bias'].value_counts()"
   ]
  },
  {
   "cell_type": "code",
   "execution_count": 29,
   "metadata": {},
   "outputs": [
    {
     "data": {
      "text/plain": [
       "10832"
      ]
     },
     "execution_count": 29,
     "metadata": {},
     "output_type": "execute_result"
    }
   ],
   "source": [
    "len(df)"
   ]
  },
  {
   "cell_type": "code",
   "execution_count": 30,
   "metadata": {},
   "outputs": [],
   "source": [
    "df.to_csv('/Users/pablogandia/Desktop/ASIGNATURAS/IA SAMSUNG/Proyecto/Bias/Data/bias_clean.csv', index=False)"
   ]
  }
 ],
 "metadata": {
  "kernelspec": {
   "display_name": "base",
   "language": "python",
   "name": "python3"
  },
  "language_info": {
   "codemirror_mode": {
    "name": "ipython",
    "version": 3
   },
   "file_extension": ".py",
   "mimetype": "text/x-python",
   "name": "python",
   "nbconvert_exporter": "python",
   "pygments_lexer": "ipython3",
   "version": "3.12.4"
  }
 },
 "nbformat": 4,
 "nbformat_minor": 2
}
