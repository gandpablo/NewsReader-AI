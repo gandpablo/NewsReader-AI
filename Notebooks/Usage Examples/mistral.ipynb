{
 "cells": [
  {
   "cell_type": "code",
   "execution_count": 1,
   "metadata": {},
   "outputs": [],
   "source": [
    "from mistralai import Mistral\n",
    "from dotenv import load_dotenv\n",
    "import os"
   ]
  },
  {
   "cell_type": "code",
   "execution_count": 2,
   "metadata": {},
   "outputs": [],
   "source": [
    "def prompt_1(text, result1, result2):\n",
    "    user_prompt = f\"\"\"\n",
    "    You will analyze the following news article and explain its potential reliability and political bias for general readers.\n",
    "\n",
    "    NEWS TEXT:\n",
    "    {text}\n",
    "\n",
    "    MODEL OUTPUT:\n",
    "\n",
    "    - Fake news probability:\n",
    "        - Fake: {result2['probabilities']['fake']:.2f}\n",
    "        - Real: {result2['probabilities']['real']:.2f}\n",
    "\n",
    "    - Political bias probabilities:\n",
    "        - Left: {result1['probabilities']['left']:.2f}\n",
    "        - Leaning-left: {result1['probabilities']['leaning-left']:.2f}\n",
    "        - Center: {result1['probabilities']['center']:.2f}\n",
    "        - Leaning-right: {result1['probabilities']['leaning-right']:.2f}\n",
    "        - Right: {result1['probabilities']['right']:.2f}\n",
    "\n",
    "    TASK:\n",
    "    Write three separate and concise paragraphs that fulfill the following roles. \n",
    "    Each one MUST start with the following heading (exactly as written, including the colons), followed by its content:\n",
    "\n",
    "    1. **Interpretation paragraph**: Clearly summarize the model results using accessible language. Explain whether the article is more likely to be fake or real, and what political leaning it is most associated with. Stay neutral and factual.\n",
    "\n",
    "    2. **Justification paragraph**: Elaborate on why the model might have assigned those values. Go beyond tone and vocabulary: consider who the main actors or institutions mentioned are, what political or social issue is being discussed, whether the narrative aligns with typical ideological frames, and how the argument is constructed. If relevant, comment on the emotional charge of the language, presence of sensationalism, one-sided arguments, or omission of context. Try to infer the underlying perspective or agenda conveyed by the article, based on content and form.\n",
    "\n",
    "    3. **Risk analysis paragraph**: Speak directly to the reader. If the article appears biased or unreliable, explain why it’s important to question its content before accepting it as truth. Caution the reader about how such content might shape their perception, reinforce ideological biases, or mislead them about complex issues. Encourage critical thinking and awareness of how media can influence public opinion and discourse.\n",
    "\n",
    "\n",
    "    Write clearly and neutrally, aiming for a general audience.\n",
    "    \"\"\"\n",
    "    return user_prompt\n",
    "\n",
    "\n",
    "def call_mistral_api(prompt, role):\n",
    "\n",
    "    load_dotenv()\n",
    "    API_KEY = os.getenv(\"MISTRAL_API_KEY\")\n",
    "    MODEL_NAME = 'mistral-large-latest'\n",
    "\n",
    "    client = Mistral(api_key=API_KEY)\n",
    "\n",
    "    response = client.chat.complete(\n",
    "        model=MODEL_NAME,\n",
    "        messages=[\n",
    "            {\"role\": \"system\", \"content\": role},\n",
    "            {\"role\": \"user\", \"content\": prompt}\n",
    "        ]\n",
    "    )\n",
    "\n",
    "    return response.choices[0].message.content\n",
    "\n",
    "\n",
    "def EXPLAIN(text,result1,result2):\n",
    "    prompt = prompt_1(text, result1, result2)\n",
    "    role = \"You are a helpful assistant that analyzes news articles to explain their reliability and bias to the general public.\"\n",
    "    return call_mistral_api(prompt, role)\n",
    "\n",
    "\n"
   ]
  },
  {
   "cell_type": "code",
   "execution_count": 4,
   "metadata": {},
   "outputs": [
    {
     "name": "stdout",
     "output_type": "stream",
     "text": [
      "---\n",
      "**Interpretation paragraph:**\n",
      "The model suggests this article is **more likely to be real than fake**, with a 65% probability of being reliable. However, there’s still a moderate 35% chance it could contain misleading or unverified claims, so caution is advised. Politically, the article leans **right or slightly right** (55% combined probability), meaning it may align more with conservative or free-market perspectives. It’s less likely to reflect a left-leaning (30% combined) or centrist (15%) viewpoint. The framing—emphasizing tax cuts as beneficial while downplaying expert concerns—hints at a pro-government or pro-business stance, which is often associated with right-leaning media.\n",
      "\n",
      "---\n",
      "**Justification paragraph:**\n",
      "The model’s assessment likely stems from several key factors. First, the article **centers on a government policy (tax cuts)**, a topic frequently championed by right-leaning or economically conservative outlets, which tend to frame tax reductions as universally positive for growth. The **omission of details** about the experts’ concerns—such as their arguments or credentials—weakens balance, making the piece feel one-sided. Additionally, the **passive phrasing** (\"concerns from independent experts\") subtly minimizes dissent, a tactic often used to downplay criticism of favored policies. While the tone isn’t overtly sensational, the **lack of context** (e.g., no data on past tax cut outcomes, no counterarguments) suggests a narrative aligned with pro-tax-cut ideologies. The model may also flag the **vague language** (\"claiming this will stimulate growth\") as a red flag for potential oversimplification, though not enough to classify it as likely fake.\n",
      "\n",
      "---\n",
      "**Risk analysis paragraph:**\n",
      "As a reader, you should **question this article’s completeness** before accepting its claims. The framing favors the government’s perspective while glossing over expert skepticism—a tactic that can **reinforce confirmation bias** if you already support tax cuts or distrust regulatory oversight. Without deeper context (e.g., *which* experts are concerned, *why* they disagree, or *how* past tax cuts performed), you’re only getting part of the story. This kind of **selective reporting** can shape your perception of economic policies, making complex issues seem simpler than they are. Ask yourself: *Are there alternative viewpoints missing?* *Could the benefits of tax cuts be overstated?* Media like this often influences public opinion by **framing debates in black-and-white terms**, so stay alert. Cross-check with **multiple sources**, especially those with differing political leanings, to get a fuller picture. Critical thinking here isn’t about dismissing the article outright—it’s about recognizing how **word choice, omission, and emphasis** can subtly guide your beliefs.\n"
     ]
    }
   ],
   "source": [
    "result1 = {\n",
    "    \"probabilities\": {\n",
    "        \"left\": 0.10,\n",
    "        \"leaning-left\": 0.20,\n",
    "        \"center\": 0.15,\n",
    "        \"leaning-right\": 0.30,\n",
    "        \"right\": 0.25\n",
    "    }\n",
    "}\n",
    "\n",
    "result2 = {\n",
    "    \"probabilities\": {\n",
    "        \"fake\": 0.35,\n",
    "        \"real\": 0.65\n",
    "    }\n",
    "}\n",
    "\n",
    "text = \"The government announced new measures to reduce taxes, claiming this will stimulate economic growth despite concerns from independent experts.\"\n",
    "\n",
    "print(EXPLAIN(text,result1,result2))"
   ]
  }
 ],
 "metadata": {
  "kernelspec": {
   "display_name": "base",
   "language": "python",
   "name": "python3"
  },
  "language_info": {
   "codemirror_mode": {
    "name": "ipython",
    "version": 3
   },
   "file_extension": ".py",
   "mimetype": "text/x-python",
   "name": "python",
   "nbconvert_exporter": "python",
   "pygments_lexer": "ipython3",
   "version": "3.12.4"
  }
 },
 "nbformat": 4,
 "nbformat_minor": 2
}
