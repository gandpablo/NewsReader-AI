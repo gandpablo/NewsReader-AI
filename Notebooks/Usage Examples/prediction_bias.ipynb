{
 "cells": [
  {
   "cell_type": "code",
   "execution_count": 1,
   "metadata": {},
   "outputs": [
    {
     "name": "stderr",
     "output_type": "stream",
     "text": [
      "2025-07-30 18:51:13.593048: I tensorflow/core/platform/cpu_feature_guard.cc:210] This TensorFlow binary is optimized to use available CPU instructions in performance-critical operations.\n",
      "To enable the following instructions: AVX2 AVX512F AVX512_VNNI FMA, in other operations, rebuild TensorFlow with the appropriate compiler flags.\n"
     ]
    }
   ],
   "source": [
    "from transformers import AutoModelForSequenceClassification, AutoTokenizer\n",
    "import joblib\n",
    "import torch\n",
    "import torch.nn.functional as F\n",
    "import re\n",
    "import unicodedata\n",
    "import contractions\n",
    "import warnings\n",
    "warnings.filterwarnings(\"ignore\", category=FutureWarning)\n",
    "\n",
    "\n",
    "load_path = \"/Users/pablogandia/Desktop/ASIGNATURAS/IA SAMSUNG/Proyecto/App/ModelsBias\"\n",
    "model = AutoModelForSequenceClassification.from_pretrained(load_path)\n",
    "tokenizer = AutoTokenizer.from_pretrained(load_path)\n",
    "le = joblib.load(f\"{load_path}/label_encoder.pkl\")"
   ]
  },
  {
   "cell_type": "code",
   "execution_count": 2,
   "metadata": {},
   "outputs": [],
   "source": [
    "def clean_text(text):\n",
    "\n",
    "    combined = f\"{text}\"\n",
    "    combined = contractions.fix(combined)\n",
    "    combined = unicodedata.normalize('NFD', combined)\n",
    "    combined = ''.join(ch for ch in combined if unicodedata.category(ch) != 'Mn')\n",
    "    combined = re.sub(r'https?://t\\.co/\\S+|pic\\.twitter\\.com/\\S+', ' link_twitter ', combined)\n",
    "    combined = re.sub(r'https?://\\S+|www\\.\\S+', ' link ', combined)\n",
    "    combined = re.sub(r'©.*$', ' ', combined, flags=re.MULTILINE)\n",
    "    combined = re.sub(r'#\\w+', ' ', combined)\n",
    "    combined = re.sub(r'@\\w+', ' ', combined)\n",
    "    combined = ''.join(ch for ch in combined if ch.encode('ascii', 'ignore').decode('ascii') == ch)\n",
    "    combined = re.sub(r'All rights reserved.*$', ' ', combined, flags=re.IGNORECASE|re.MULTILINE)\n",
    "    combined = re.sub(r'[^A-Za-z\\s]', ' ', combined)\n",
    "    combined = combined.lower()\n",
    "\n",
    "    return re.sub(r'\\s+', ' ', combined).strip()"
   ]
  },
  {
   "cell_type": "code",
   "execution_count": 3,
   "metadata": {},
   "outputs": [],
   "source": [
    "def action(text):\n",
    "\n",
    "    full_text = clean_text(text)\n",
    "\n",
    "    inputs = tokenizer(full_text, return_tensors=\"pt\", truncation=True, padding=True, max_length=512)\n",
    "\n",
    "    with torch.no_grad():\n",
    "        outputs = model(**inputs)\n",
    "        logits = outputs.logits\n",
    "\n",
    "    probs = F.softmax(logits, dim=1).squeeze().tolist()\n",
    "\n",
    "    classes = le.classes_\n",
    "    pred_idx = torch.argmax(logits, dim=1).item()\n",
    "    pred_label = classes[pred_idx]\n",
    "\n",
    "    result = {\n",
    "        \"prediction\": pred_label,\n",
    "        \"probabilities\": {cls: round(probs[i], 4) for i, cls in enumerate(classes)}\n",
    "    }\n",
    "\n",
    "    return result\n"
   ]
  },
  {
   "cell_type": "code",
   "execution_count": 4,
   "metadata": {},
   "outputs": [],
   "source": [
    "title = \"Trump Slams China in Fiery Speech, Vows to Restore American Greatness\"\n",
    "\n",
    "text = \"\"\"In a thunderous rally attended by tens of thousands of supporters, former President Donald Trump delivered a blistering speech denouncing the Chinese Communist Party and vowing to bring back American jobs, power, and pride. 'China has been robbing us blind for decades,' Trump declared to roaring applause. 'And the Biden administration is letting it happen. Not on my watch!'\n",
    "\n",
    "Trump blamed China for manipulating global markets, stealing U.S. technology, flooding America with cheap goods, and, once again, for unleashing COVID-19 on the world. He also accused American elites of selling out the country to Beijing in exchange for profits and influence.\n",
    "\n",
    "'We need to take our country back from the globalists, the socialists, and the China-first politicians,' he said. 'America First is not just a slogan — it’s a mission. We are done being weak, we are done being controlled.'\n",
    "\n",
    "The former president called for 100% tariffs on Chinese imports, a total decoupling of U.S. supply chains from China, and massive investment in American manufacturing and energy independence. He also proposed banning Chinese companies from purchasing American farmland, universities, and media outlets.\n",
    "\n",
    "'We will not be a colony of China,' Trump thundered. 'We will dominate economically, militarily, and spiritually — because we are Americans, and we bow to no one.'\n",
    "\n",
    "The crowd responded with chants of 'USA! USA!' and 'Trump 2024', as flags waved and merchandise flew off tables. Conservative commentators praised the speech as a 'rallying cry for national sovereignty', while left-leaning outlets dismissed it as xenophobic and incendiary.\n",
    "\n",
    "But among Trump’s base, the message was clear: the fight isn’t over — and China won’t win.\"\"\"\n"
   ]
  },
  {
   "cell_type": "code",
   "execution_count": 6,
   "metadata": {},
   "outputs": [
    {
     "name": "stdout",
     "output_type": "stream",
     "text": [
      "Prediction: right\n",
      "\n",
      "Probabilities:\n",
      "\n",
      "center: 0.0130\n",
      "leaning-left: 0.0779\n",
      "leaning-right: 0.1566\n",
      "left: 0.0871\n",
      "right: 0.6654\n"
     ]
    }
   ],
   "source": [
    "results = action(text)\n",
    "\n",
    "print(f\"Prediction: {results['prediction']}\")\n",
    "print()\n",
    "print(\"Probabilities:\")\n",
    "print()\n",
    "for label, prob in results['probabilities'].items():\n",
    "    print(f\"{label}: {prob:.4f}\")"
   ]
  }
 ],
 "metadata": {
  "kernelspec": {
   "display_name": "base",
   "language": "python",
   "name": "python3"
  },
  "language_info": {
   "codemirror_mode": {
    "name": "ipython",
    "version": 3
   },
   "file_extension": ".py",
   "mimetype": "text/x-python",
   "name": "python",
   "nbconvert_exporter": "python",
   "pygments_lexer": "ipython3",
   "version": "3.12.4"
  }
 },
 "nbformat": 4,
 "nbformat_minor": 2
}
