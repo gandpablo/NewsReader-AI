{
 "cells": [
  {
   "cell_type": "code",
   "execution_count": 12,
   "metadata": {},
   "outputs": [],
   "source": [
    "import torch\n",
    "from transformers import AutoTokenizer, AutoModelForSequenceClassification\n",
    "\n",
    "dir = '/Users/pablogandia/Downloads/App 2/bert_fake_news_checkpoint'\n",
    "\n",
    "tokenizer = AutoTokenizer.from_pretrained(dir)\n",
    "model = AutoModelForSequenceClassification.from_pretrained(\n",
    "            dir,\n",
    "            num_labels=2,\n",
    "            use_safetensors=True\n",
    "        )"
   ]
  },
  {
   "cell_type": "code",
   "execution_count": 13,
   "metadata": {},
   "outputs": [],
   "source": [
    "text = \"\"\"In a shocking revelation leaked exclusively to a fringe online forum, anonymous insiders within the Pentagon have confirmed that President Joe Biden has secretly signed a cooperation treaty with extraterrestrial beings based in Antarctica. According to the alleged documents, this alliance allows alien species to conduct “biological research” on humans in exchange for advanced zero-point energy technology.\n",
    "\n",
    "The report claims that high-ranking officials have visited a massive underground base beneath the South Pole, where alien diplomats reside in cryogenic chambers and communicate telepathically. 'They’ve been here since the 1950s,' one whistleblower stated, 'but only now are we giving them full access to our genome.'\n",
    "\n",
    "Citing unnamed “military psychics,” the documents suggest that these beings, known as the Zarnok Confederacy, intend to integrate Earth into their interstellar council by 2027. As part of the agreement, Biden allegedly pledged to suppress any public disclosure of UFO activity and to coordinate with Big Tech to erase any citizen videos showing spacecraft or non-human entities.\n",
    "\n",
    "Social media erupted with speculation after several TikTok users posted blurry footage of what they claimed were reptilian hybrids boarding unmarked black helicopters in Nevada. Mainstream media outlets have refused to cover the story, fueling suspicions of a global cover-up.\n",
    "\n",
    "Critics argue that this represents 'the final betrayal of the human race' and have called for an emergency summit at the United Nations. Meanwhile, believers say full alien disclosure is imminent — and that the Zarnok already walk among us.\"\"\"\n"
   ]
  },
  {
   "cell_type": "code",
   "execution_count": 14,
   "metadata": {},
   "outputs": [
    {
     "name": "stdout",
     "output_type": "stream",
     "text": [
      "{'pred': 'fake', 'probabilities': {'real': 0.14392676949501038, 'fake': 0.8560732007026672}}\n"
     ]
    }
   ],
   "source": [
    "enc = tokenizer(\n",
    "    text,\n",
    "    truncation=True,\n",
    "    padding=\"max_length\",\n",
    "    max_length=512,\n",
    "    return_tensors=\"pt\"\n",
    ")\n",
    "\n",
    "input_ids = enc[\"input_ids\"]\n",
    "attention_mask = enc[\"attention_mask\"]\n",
    "\n",
    "with torch.no_grad():\n",
    "    outputs = model(input_ids=input_ids, attention_mask=attention_mask)\n",
    "    probs = torch.softmax(outputs.logits, dim=1)[0].numpy()\n",
    "\n",
    "classes = [\"fake\", \"real\"]\n",
    "pred_idx = int(probs.argmax())\n",
    "prediction = classes[pred_idx]\n",
    "\n",
    "d = {\"pred\": prediction, \"probabilities\": {\"real\": float(probs[1]),\"fake\": float(probs[0])}}\n",
    "\n",
    "print(d)\n"
   ]
  }
 ],
 "metadata": {
  "kernelspec": {
   "display_name": "base",
   "language": "python",
   "name": "python3"
  },
  "language_info": {
   "codemirror_mode": {
    "name": "ipython",
    "version": 3
   },
   "file_extension": ".py",
   "mimetype": "text/x-python",
   "name": "python",
   "nbconvert_exporter": "python",
   "pygments_lexer": "ipython3",
   "version": "3.12.4"
  }
 },
 "nbformat": 4,
 "nbformat_minor": 2
}
